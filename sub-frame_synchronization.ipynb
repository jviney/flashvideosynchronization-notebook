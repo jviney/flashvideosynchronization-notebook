{
 "cells": [
  {
   "cell_type": "code",
   "execution_count": null,
   "metadata": {
    "collapsed": false,
    "hide_input": true,
    "run_control": {
     "frozen": false,
     "read_only": false
    }
   },
   "outputs": [],
   "source": [
    "# %pylab inline\n",
    "%matplotlib qt4 \n",
    "import matplotlib.pylab as plt\n",
    "# matplotlib.rcParams['backend.qt4']='PySide'"
   ]
  },
  {
   "cell_type": "code",
   "execution_count": null,
   "metadata": {
    "collapsed": false,
    "hide_input": true,
    "run_control": {
     "frozen": false,
     "read_only": false
    }
   },
   "outputs": [],
   "source": [
    "# %pylab --no-import-all inline\n",
    "%reload_ext autoreload\n",
    "%autoreload \n",
    "import matplotlib\n",
    "# import mpld3\n",
    "# mpld3.enable_notebook()\n",
    "# from IPython.core.debugger import Tracer; set_trace = Tracer()\n",
    "import IPython\n",
    "IPython.core.pylabtools.figsize(10, 8)\n",
    "import cv2\n",
    "import os\n",
    "import seaborn as sns\n",
    "import numpy as np\n",
    "# import matplotlib.pylab as plt\n",
    "import matplotutils\n",
    "import pickle\n",
    "import parameters\n",
    "import imagesequencevideo\n",
    "import subprocess\n",
    "from joblib import Memory\n",
    "import math\n",
    "from numpy.lib.recfunctions import merge_arrays, append_fields\n",
    "from bokeh import mpl\n",
    "from bokeh.plotting import output_file, show, figure\n",
    "from scipy import stats\n",
    "from collections import OrderedDict\n",
    "import itertools\n",
    "import datetime\n",
    "from tabulate import tabulate\n",
    "from IPython.display import HTML, display"
   ]
  },
  {
   "cell_type": "code",
   "execution_count": 583,
   "metadata": {
    "collapsed": true,
    "run_control": {
     "frozen": false,
     "read_only": false
    }
   },
   "outputs": [],
   "source": [
    "experiment_root = '/home/matej/prace/sport_tracking/git/experiments/2016-08-22_subframe_synchronization/'  # len: match start + 600s\n",
    "# experiment_root = '/home/matej/prace/sport_tracking/git/experiments/2016-09-17_subframe_mobile_seq/'\n",
    "features_file = os.path.join(experiment_root, 'out/flashes2d_luminance_median.pkl')\n",
    "paper_figures_dir = '/home/matej/Private/Dropbox/prace/publikace/2017 wacv/figures'\n",
    "publish = True\n",
    "# memory = Memory(cachedir=experiment_root, verbose=0)\n",
    "memory = Memory(cachedir='.', verbose=0)\n",
    "all_cameras = [0, 1, 2, 3, 4]"
   ]
  },
  {
   "cell_type": "code",
   "execution_count": null,
   "metadata": {
    "code_folding": [],
    "collapsed": true,
    "run_control": {
     "frozen": false,
     "read_only": false
    }
   },
   "outputs": [],
   "source": [
    "@memory.cache\n",
    "def get_timestamps_ms(video_file, duration_mmss='01:00'):\n",
    "    ffprobe_cmd = 'ffprobe -select_streams v -show_frames -show_entries ' \\\n",
    "        'frame=best_effort_timestamp_time,pkt_pts_time,coded_picture_number %s -of csv ' \\\n",
    "        '-read_intervals %%%s' % (video_file, duration_mmss)\n",
    "    ffprobe_csv = subprocess.check_output(ffprobe_cmd.split()).decode('utf8')\n",
    "    ffprobe_timestamps = np.recfromcsv(ffprobe_csv.split('\\n'), usecols=(1,2,3), \n",
    "                                       names=('best_effort_timestamp_time', 'pkt_pts_time', 'coded_picture_number'))\n",
    "    ffprobe_timestamps_ms = ffprobe_timestamps['best_effort_timestamp_time'] * 1000.\n",
    "    return ffprobe_timestamps_ms\n",
    "\n",
    "# 1.mp4:\n",
    "# frame,134.716000,134.716000,3349\n",
    "# frame,134.756000,134.756000,3350\n",
    "# frame,134.796000,134.796000,3351\n",
    "# frame,134.836000,134.836000,3352\n",
    "# frame,134.876000,134.876000,3353"
   ]
  },
  {
   "cell_type": "code",
   "execution_count": null,
   "metadata": {
    "collapsed": false,
    "run_control": {
     "frozen": false,
     "read_only": false
    }
   },
   "outputs": [],
   "source": [
    "@memory.cache\n",
    "def get_timestamps_ms_(video_file, duration_mmss='01:00'):\n",
    "    ffprobe_cmd = 'ffprobe -select_streams v -show_frames -show_entries ' \\\n",
    "        'frame=best_effort_timestamp_time,pkt_pts_time,coded_picture_number %s -of csv ' \\\n",
    "        '-read_intervals %%%s' % (video_file, duration_mmss)\n",
    "    ffprobe_csv = subprocess.check_output(ffprobe_cmd.split()).decode('utf8')\n",
    "    ffprobe_timestamps = np.recfromcsv(ffprobe_csv.split('\\n'), usecols=(1,2,3), \n",
    "                                       names=('best_effort_timestamp_time', 'pkt_pts_time', 'coded_picture_number'))\n",
    "    ffprobe_timestamps_ms = ffprobe_timestamps['best_effort_timestamp_time'] * 1000.\n",
    "    return ffprobe_timestamps_ms"
   ]
  },
  {
   "cell_type": "code",
   "execution_count": 587,
   "metadata": {
    "collapsed": false,
    "run_control": {
     "frozen": false,
     "read_only": false
    }
   },
   "outputs": [],
   "source": [
    "if publish:\n",
    "    column_width_in = 3.25\n",
    "    page_width_in = 6 + 7/8.\n",
    "    sns.set_context(\"paper\")\n",
    "    # sns.set(font='times')\n",
    "\n",
    "    # fig.set_size_inches(fig_width_in, fig_width_in)\n",
    "    # # fig.set_size_inches(6, 3)\n",
    "    # plt.tight_layout()\n",
    "\n",
    "#     params = {\n",
    "#     #    'axes.labelsize': 9,\n",
    "#     #    'font.size': 9,\n",
    "#     #    'legend.fontsize': 9,\n",
    "#     #    'xtick.labelsize': 9,\n",
    "#     #    'ytick.labelsize': 9,\n",
    "#     #    'text.usetex': False,\n",
    "#        'figure.figsize': [fig_width_in, fig_width_in],\n",
    "#        }\n",
    "#     plt.rcParams.update(params)"
   ]
  },
  {
   "cell_type": "code",
   "execution_count": null,
   "metadata": {
    "collapsed": false,
    "run_control": {
     "frozen": false,
     "read_only": false
    }
   },
   "outputs": [],
   "source": [
    "# load features\n",
    "with open(features_file, 'rb') as fr:\n",
    "    features = pickle.load(fr)\n",
    "    features_start = pickle.load(fr)"
   ]
  },
  {
   "cell_type": "code",
   "execution_count": null,
   "metadata": {
    "collapsed": true,
    "run_control": {
     "frozen": false,
     "read_only": false
    }
   },
   "outputs": [],
   "source": [
    "ms_per_frame = {0: 240, 1:40, 2:40, 3:40, 4:40}"
   ]
  },
  {
   "cell_type": "code",
   "execution_count": null,
   "metadata": {
    "collapsed": false,
    "run_control": {
     "frozen": false,
     "read_only": false
    }
   },
   "outputs": [],
   "source": [
    "features_len_minutes = [features[cam].shape[1] * ms_per_frame[cam] / 1000. / 60. for cam in all_cameras]\n",
    "print 'apprixamated features_len_minutes ' + str(features_len_minutes)"
   ]
  },
  {
   "cell_type": "code",
   "execution_count": null,
   "metadata": {
    "collapsed": true,
    "run_control": {
     "frozen": true,
     "read_only": true
    }
   },
   "outputs": [],
   "source": [
    "# plot possibly incorrect frames due to VideoCaptureAS seeking, see test_videosequence_seek.py\n",
    "bad_frames = {2: np.array([4285, 4287, 4288, 4289]) - features_start[2]}\n",
    "plt.plot(features[2][:, bad_frames[2]])"
   ]
  },
  {
   "cell_type": "code",
   "execution_count": null,
   "metadata": {
    "collapsed": false,
    "run_control": {
     "frozen": false,
     "read_only": false
    }
   },
   "outputs": [],
   "source": [
    "# load image sequences\n",
    "p = parameters.Parameters(os.path.join(experiment_root, 'parameters.yaml'))\n",
    "data_root = '../data/ihwc2015'\n",
    "p.c['data_root'] = data_root\n",
    "# p.c['data_root'] = '../data/synchronization_mobile'\n",
    "del p.c['background_subtraction']['masks']\n",
    "images = p.get_image_sequence()\n",
    "assert isinstance(images, imagesequencevideo.ImageSequenceVideo)  # we need raw video, not synchronized sequences"
   ]
  },
  {
   "cell_type": "code",
   "execution_count": null,
   "metadata": {
    "collapsed": true,
    "run_control": {
     "frozen": false,
     "read_only": false
    }
   },
   "outputs": [],
   "source": [
    "images_dimensions = {}\n",
    "for cam in p.c['cameras']:\n",
    "    img = images.get_next_image(cam)\n",
    "    images_dimensions[cam] = img.shape   "
   ]
  },
  {
   "cell_type": "code",
   "execution_count": null,
   "metadata": {
    "collapsed": true,
    "run_control": {
     "frozen": true,
     "read_only": true
    }
   },
   "outputs": [],
   "source": [
    "from flashsynchronization import extract_features, compute_luminance_median\n",
    "\n",
    "@memory.cache\n",
    "def batch_extract_features(params, sync=None):\n",
    "    images = p.get_image_sequence()\n",
    "    # sync=None, match_start=None, sequence_length_sec=None:\n",
    "    for cam in p.c['cameras']:\n",
    "        print cam\n",
    "        if sync:\n",
    "            start = np.searchsorted(sync.get_timings()[cam], match_start)\n",
    "            end = np.searchsorted(sync.get_timings()[cam], match_start + np.timedelta64(sequence_length_sec, 's'))\n",
    "        else:\n",
    "            start = 0\n",
    "            end = -1\n",
    "        features_start[cam] = start\n",
    "        features[cam] = extract_features(images, compute_luminance_median, cam, start, end, dtype=np.uint8)\n",
    "    return features, features_start\n",
    "    \n",
    "features, features_start = batch_extract_features(p) # images, p.c['cameras'])\n",
    "# sync, np.datetime64('1900-01-01T' + p.c['match_start']), 600)"
   ]
  },
  {
   "cell_type": "code",
   "execution_count": null,
   "metadata": {
    "collapsed": true,
    "run_control": {
     "frozen": true,
     "read_only": true
    }
   },
   "outputs": [],
   "source": [
    "if not os.path.exists(features_file):\n",
    "    with open(features_file, 'wb') as fw:\n",
    "        pickle.dump(features, fw)\n",
    "        pickle.dump(features_start, fw)"
   ]
  },
  {
   "cell_type": "code",
   "execution_count": null,
   "metadata": {
    "code_folding": [],
    "collapsed": false,
    "run_control": {
     "frozen": false,
     "read_only": false
    }
   },
   "outputs": [],
   "source": [
    "def get_events(features2d, hidden_scanlines=0, diffmax_peak_thresh=20):\n",
    "# features2d = features[1]\n",
    "# hidden_scanlines=0\n",
    "# diffmax_peak_thresh=20\n",
    "    diff = np.diff(features2d.astype(float), axis=1)\n",
    "    n_scanlines = features2d.shape[0] + hidden_scanlines\n",
    "    diff_max = np.max(diff, axis=0)\n",
    "    idx = np.nonzero(diff_max > diffmax_peak_thresh)[0] + 1\n",
    "\n",
    "\n",
    "    events = np.zeros(len(idx), dtype=[('frame', int),('start', float), ('end', float), ('position', float)])\n",
    "    for i, frame in enumerate(idx):\n",
    "        profile = diff[:, frame - 1]\n",
    "        middle, start, end = ramp_detection(profile, difference=4)\n",
    "        events[i] = (frame, start, end, frame + start / float(n_scanlines))        \n",
    "    return events   "
   ]
  },
  {
   "cell_type": "code",
   "execution_count": null,
   "metadata": {
    "collapsed": false,
    "run_control": {
     "frozen": false,
     "read_only": false
    }
   },
   "outputs": [],
   "source": [
    "# artefact position detection\n",
    "def ramp_detection_middle_val(profile):\n",
    "    ramp_middle_val = (np.median(profile) + profile.max()) / 2.\n",
    "    ramp_start_ = [-1, -1]\n",
    "    ramp_end_ = [-1, -1]\n",
    "    ramp_start_[1], ramp_end_[0] = np.nonzero(profile > ramp_middle_val)[0][[0, -1]]\n",
    "    ramp_start_[0] = ramp_start_[1] - 1\n",
    "    ramp_end_[1] = ramp_end_[0] + 1\n",
    "\n",
    "    ramp_start = np.interp(ramp_middle_val, profile[ramp_start_], ramp_start_)\n",
    "    ramp_end = np.interp(ramp_middle_val, profile[ramp_end_], ramp_end_)\n",
    "    ramp_position = (ramp_start + ramp_end) / 2.\n",
    "    return ramp_position, ramp_start, ramp_end, ramp_middle_val\n",
    "\n",
    "def ramp_detection(profile, difference=4):    \n",
    "    max_pos = np.argmax(profile)\n",
    "    try:\n",
    "        start = np.flatnonzero(profile[:max_pos] > difference)[0]\n",
    "        end = max_pos + np.flatnonzero(profile[max_pos:] > difference)[-1]\n",
    "        middle = (start + end) / 2.\n",
    "    except IndexError:\n",
    "        start = np.nan\n",
    "        end = np.nan\n",
    "        middle = np.nan\n",
    "    return middle, start, end"
   ]
  },
  {
   "cell_type": "code",
   "execution_count": null,
   "metadata": {
    "collapsed": false,
    "run_control": {
     "frozen": true,
     "read_only": true
    }
   },
   "outputs": [],
   "source": [
    "plt.plot(features[0].T.flatten())"
   ]
  },
  {
   "cell_type": "code",
   "execution_count": null,
   "metadata": {
    "collapsed": false,
    "run_control": {
     "frozen": true,
     "read_only": true
    }
   },
   "outputs": [],
   "source": [
    "plt.plot(f2d.T.flatten())"
   ]
  },
  {
   "cell_type": "code",
   "execution_count": null,
   "metadata": {
    "collapsed": true,
    "run_control": {
     "frozen": false,
     "read_only": false
    }
   },
   "outputs": [],
   "source": [
    "cameras = [1, 2, 3, 4]"
   ]
  },
  {
   "cell_type": "code",
   "execution_count": null,
   "metadata": {
    "collapsed": false,
    "run_control": {
     "frozen": false,
     "read_only": false
    }
   },
   "outputs": [],
   "source": [
    "events = {cam: get_events(features[cam]) for cam in cameras}"
   ]
  },
  {
   "cell_type": "code",
   "execution_count": null,
   "metadata": {
    "collapsed": true,
    "run_control": {
     "frozen": false,
     "read_only": false
    }
   },
   "outputs": [],
   "source": [
    "# # show event frames\n",
    "# cam\n",
    "# idx = 3\n",
    "# for cam, idx in menumerate(cameras):\n",
    "#     plt.figure()\n",
    "#     print int(event_pairs[i][idx, 0])\n",
    "#     plt.imshow(images.get_image(features_start[cam] + int(event_pairs[i][idx, 0]), cam))\n",
    "#     plt.grid(False)"
   ]
  },
  {
   "cell_type": "code",
   "execution_count": null,
   "metadata": {
    "collapsed": true,
    "run_control": {
     "frozen": false,
     "read_only": false
    }
   },
   "outputs": [],
   "source": [
    "# [0, top] and [bottom, maxy] are obsolete regions (including top and bottom)\n",
    "obsolete_regions = {cam: {'top': 28 , 'bottom': images_dimensions[cam][0] - 1} for cam in cameras}\n",
    "obsolete_regions"
   ]
  },
  {
   "cell_type": "code",
   "execution_count": null,
   "metadata": {
    "collapsed": false,
    "run_control": {
     "frozen": false,
     "read_only": false
    }
   },
   "outputs": [],
   "source": [
    "cam = 1\n",
    "partial_events_start = events[cam][events[cam]['start'] <= obsolete_regions[cam]['top']]['frame']\n",
    "partial_events_end = {cam: events[cam][events[cam]['end'] >= obsolete_regions[cam]['bottom']]['frame']"
   ]
  },
  {
   "cell_type": "code",
   "execution_count": null,
   "metadata": {
    "collapsed": true,
    "run_control": {
     "frozen": false,
     "read_only": false
    }
   },
   "outputs": [],
   "source": []
  },
  {
   "cell_type": "code",
   "execution_count": null,
   "metadata": {
    "collapsed": true,
    "run_control": {
     "frozen": false,
     "read_only": false
    }
   },
   "outputs": [],
   "source": [
    "diff = np.diff(features[cam].astype(float), axis=1)"
   ]
  },
  {
   "cell_type": "code",
   "execution_count": null,
   "metadata": {
    "collapsed": false,
    "run_control": {
     "frozen": false,
     "read_only": false
    }
   },
   "outputs": [],
   "source": [
    "plt.plot(diff[:, 666])"
   ]
  },
  {
   "cell_type": "code",
   "execution_count": null,
   "metadata": {
    "collapsed": false,
    "run_control": {
     "frozen": true,
     "read_only": true
    }
   },
   "outputs": [],
   "source": [
    "# TODO: flash event splited in two frame\n",
    "# cam = 2\n",
    "# frame = 2183\n",
    "# plt.imshow(images.get_image(features_start[cam] + 11474, 2) - images.get_image(features_start[cam] + 11475, cam))"
   ]
  },
  {
   "cell_type": "code",
   "execution_count": null,
   "metadata": {
    "collapsed": false,
    "run_control": {
     "frozen": true,
     "read_only": true
    }
   },
   "outputs": [],
   "source": [
    "# plot detected events as points\n",
    "for cam, pos in zip(cameras, (0, 0)):\n",
    "    data = events[cam][:30, 0]\n",
    "    plt.plot(data, len(data) * [pos], '.')"
   ]
  },
  {
   "cell_type": "code",
   "execution_count": null,
   "metadata": {
    "collapsed": false,
    "run_control": {
     "frozen": true,
     "read_only": true
    }
   },
   "outputs": [],
   "source": [
    "# find close events\n",
    "close_events_thresh = 10\n",
    "import itertools\n",
    "events1 = events[cameras[0]][:, 0]\n",
    "events2 = events[cameras[1]][:, 0]\n",
    "distances = np.zeros((len(events1), len(events2)))\n",
    "for i, j in itertools.product(range(len(events1)), range(len(events2))):\n",
    "    distances[i, j] = abs(events1[i] - events2[j])\n",
    "event_pairs_idx = np.array(np.nonzero(distances < close_events_thresh))\n",
    "event_pairs = [events[cameras[0]][event_pairs_idx[0]], events[cameras[1]][event_pairs_idx[1]]]"
   ]
  },
  {
   "cell_type": "code",
   "execution_count": null,
   "metadata": {
    "collapsed": true,
    "run_control": {
     "frozen": true,
     "read_only": true
    }
   },
   "outputs": [],
   "source": [
    "# plot events time vs inter-stream lag\n",
    "plt.plot(event_pairs[0][:, 0], event_pairs[0][:, 0] - event_pairs[1][:, 0], '.')"
   ]
  },
  {
   "cell_type": "markdown",
   "metadata": {},
   "source": [
    "## Single Stream Analysis"
   ]
  },
  {
   "cell_type": "code",
   "execution_count": null,
   "metadata": {
    "collapsed": false,
    "run_control": {
     "frozen": false,
     "read_only": false
    }
   },
   "outputs": [],
   "source": [
    "cam = 2"
   ]
  },
  {
   "cell_type": "code",
   "execution_count": null,
   "metadata": {
    "collapsed": false,
    "run_control": {
     "frozen": false,
     "read_only": false
    }
   },
   "outputs": [],
   "source": [
    "# compute 2d diff, 1d max features and artefact locations\n",
    "f2d = np.diff(features[cam].astype(float), axis=1)\n",
    "f1d = np.max(f2d, axis=0)\n",
    "diff_thresh = 20\n",
    "events_idx = np.nonzero(f1d > diff_thresh)[0] + 1"
   ]
  },
  {
   "cell_type": "code",
   "execution_count": null,
   "metadata": {
    "collapsed": false,
    "run_control": {
     "frozen": false,
     "read_only": false
    },
    "scrolled": false
   },
   "outputs": [],
   "source": [
    "# plot max diff and peak detection (max (ax=0) diff (ax=1) median (ax=1) luminance)\n",
    "limit_n_frames_bellow = len(f1d) # 1000\n",
    "f1d_limited = f1d[:limit_n_frames_bellow]\n",
    "# plt.bar(xrange(len(f1d_limited)), f1d_limited, width=0.8, linewidth=0)\n",
    "fig = plt.figure()\n",
    "# fig.set_size_inches(fig_width_in, fig_width_in)\n",
    "# fig.set_size_inches(6, 3)\n",
    "\n",
    "\n",
    "plt.plot(f1d_limited)\n",
    "plt.vlines(events_idx[events_idx < limit_n_frames_bellow] - 1, \n",
    "           plt.ylim()[0], plt.ylim()[1], colors='r', linestyles='dotted', label='detected artefacts')\n",
    "if not publish:\n",
    "    plt.title('Flash Artefact Feature Based on Line-wise Median of Luminance Channel')\n",
    "plt.xlabel('frame number')\n",
    "plt.ylabel('event artefact feature maximum')\n",
    "plt.legend()\n",
    "if publish:\n",
    "    plt.tight_layout()\n",
    "    fig.set_size_inches(column_width_in, column_width_in)\n",
    "    plt.savefig(os.path.join(paper_figures_dir, 'feature1d_with_detections_cam%d.png' % cam))"
   ]
  },
  {
   "cell_type": "markdown",
   "metadata": {},
   "source": [
    "## Single Event Analysis"
   ]
  },
  {
   "cell_type": "code",
   "execution_count": null,
   "metadata": {
    "collapsed": false,
    "run_control": {
     "frozen": false,
     "read_only": false
    }
   },
   "outputs": [],
   "source": [
    "# select event\n",
    "cam = 1\n",
    "f2d = np.diff(features[cam].astype(float), axis=1)\n",
    "frame = events_idx[0]"
   ]
  },
  {
   "cell_type": "code",
   "execution_count": 593,
   "metadata": {
    "collapsed": false,
    "run_control": {
     "frozen": false,
     "read_only": false
    }
   },
   "outputs": [],
   "source": [
    "# plot flash image with corresponding profiles\n",
    "def plot_frame_with_profile(cam, frame, features, diff2d, start=None, end=None, filename=None):\n",
    "    fig = plt.figure()\n",
    "    plt.axis('tight')\n",
    "    if publish:\n",
    "        fig.set_size_inches(page_width_in * 2, page_width_in * 2 * 0.4, forward=True)\n",
    "    gs = matplotlib.gridspec.GridSpec(1, 3, width_ratios=[8, 1, 1])\n",
    "    if (start is None) or (end is None):\n",
    "        __, start_, end_ = ramp_detection(diff2d[:, frame - 1])\n",
    "    if start is None:\n",
    "        start = start_\n",
    "    if end is None:\n",
    "        end = end_\n",
    "\n",
    "    ax1 = plt.subplot(gs[0])\n",
    "    img = images.get_image(features_start[cam] + frame, cam)\n",
    "    height = img.shape[0]\n",
    "    ax1.imshow(img)\n",
    "    plt.grid(False)\n",
    "    plt.axis('off')\n",
    "    if not np.isnan(start):\n",
    "        plt.hlines([start, end], plt.xlim()[0], plt.xlim()[1], 'r', linestyles='dotted')\n",
    "\n",
    "    ax = plt.subplot(gs[1], sharey=ax1)\n",
    "    plt.title('median luminance')\n",
    "    # plt.plot(features[cam][:, frame] / features[cam][:, frame - 1].astype(float), range(height), label='divison')\n",
    "    plt.plot(features[cam][:, frame], range(height), label='frame')\n",
    "    plt.plot(features[cam][:, frame - 1], range(height), label='frame - 1')\n",
    "    if not np.isnan(start):\n",
    "        plt.hlines([start, end], plt.xlim()[0], plt.xlim()[1], 'r', linestyles='dotted')\n",
    "    ax.axes.xaxis.set_ticklabels([])\n",
    "    # ax.axes.yaxis.set_ticklabels([])\n",
    "\n",
    "    ax = plt.subplot(gs[2], sharey=ax1)\n",
    "    plt.title('diff median luminance')\n",
    "    plt.plot(diff2d[:, frame - 1], range(height), label='flash frame - frame_{-1}')\n",
    "    plt.plot(diff2d[:, frame - 2], range(height), label='frame_{-1} - frame_{-2}')\n",
    "    if not np.isnan(start):\n",
    "        plt.hlines([start, end], plt.xlim()[0], plt.xlim()[1], 'r', linestyles='dotted')\n",
    "    plt.legend(loc=8)\n",
    "    ax.axes.xaxis.set_ticklabels([])\n",
    "    # ax.axes.yaxis.set_ticklabels([])\n",
    "\n",
    "    plt.tight_layout(0)\n",
    "    plt.autoscale(tight=True)\n",
    "\n",
    "    if publish:\n",
    "        if filename is None:\n",
    "            filename = 'batch/flash_with_profiles_c%d_f%d.jpg' % (cam, frame)\n",
    "        plt.savefig(os.path.join(paper_figures_dir, filename), dpi=300)        \n",
    "    return fig"
   ]
  },
  {
   "cell_type": "code",
   "execution_count": null,
   "metadata": {
    "collapsed": false,
    "run_control": {
     "frozen": false,
     "read_only": false
    },
    "scrolled": false
   },
   "outputs": [],
   "source": [
    "plot_frame_with_profile(cam, frame, features, diff2d=f2d)"
   ]
  },
  {
   "cell_type": "code",
   "execution_count": null,
   "metadata": {
    "collapsed": true,
    "run_control": {
     "frozen": false,
     "read_only": false
    }
   },
   "outputs": [],
   "source": [
    "# plot_frame_with_profile(cam, 546, features, diff2d=f2d)"
   ]
  },
  {
   "cell_type": "code",
   "execution_count": null,
   "metadata": {
    "collapsed": true,
    "run_control": {
     "frozen": true,
     "read_only": true
    }
   },
   "outputs": [],
   "source": [
    "cam = 2\n",
    "frame = 740\n",
    "f2d = np.diff(features[cam].astype(float), axis=1)\n",
    "plot_frame_with_profile(cam, frame, features, diff2d=f2d)"
   ]
  },
  {
   "cell_type": "code",
   "execution_count": null,
   "metadata": {
    "collapsed": false,
    "run_control": {
     "frozen": false,
     "read_only": false
    }
   },
   "outputs": [],
   "source": [
    "# plot diff profile\n",
    "plt.figure()\n",
    "# profile = f2d[:, frame - 1]\n",
    "# middle, start, end = ramp_detection(profile)\n",
    "plt.title('diff median luminance')\n",
    "# profile = f2d[:, frame - 1]\n",
    "# plt.plot(profile, range(len(profile)), label='flash frame')\n",
    "plt.plot(f2d[:, frame - 1], range(len(profile)), label='frame - 1')\n",
    "plt.legend()\n",
    "plt.tight_layout()\n",
    "# ramp_pos, ramp_start, ramp_end, ramp_middle_val = ramp_detection_middle_val(profile)\n",
    "# plt.plot(ramp_middle_val, ramp_start, 'r.')\n",
    "# plt.plot(ramp_middle_val, ramp_end, 'r.')\n",
    "\n",
    "# output_file(\"diff_median_luminance.html\", title=\"diff median luminance\")\n",
    "# fig = mpl.to_bokeh()\n",
    "# import bokeh.models.tools\n",
    "# fig.add_tools(bokeh.models.tools.ResizeTool())\n",
    "# show(fig)"
   ]
  },
  {
   "cell_type": "code",
   "execution_count": null,
   "metadata": {
    "collapsed": false,
    "run_control": {
     "frozen": true,
     "read_only": true
    }
   },
   "outputs": [],
   "source": [
    "# plot diff for all frames with detected events\n",
    "plt.figure()\n",
    "f2d[f2d < 0] = 0\n",
    "img = cv2.normalize(f2d, None, alpha=0, beta=255, norm_type=cv2.NORM_MINMAX, dtype=8)\n",
    "plt.imshow(img.T, cmap='gray')  # warning: inline figure is too small to show 1 px wide artefacts\n",
    "plt.grid(False)\n",
    "plt.axis('tight')\n",
    "plt.plot(events[cam][['start', 'end']].view((float, 2)), events[cam]['frame'] - 1, '.r')\n"
   ]
  },
  {
   "cell_type": "markdown",
   "metadata": {},
   "source": [
    "## Batch Event Visualization"
   ]
  },
  {
   "cell_type": "code",
   "execution_count": 662,
   "metadata": {
    "collapsed": false,
    "run_control": {
     "frozen": false,
     "read_only": false
    }
   },
   "outputs": [],
   "source": [
    "# plot flash images with corresponding profiles\n",
    "plt.interactive(False)\n",
    "for cam, cam_events in events.iteritems():\n",
    "    diff2d = np.diff(features[cam].astype(float), axis=1)\n",
    "    \n",
    "    mask_not_trimmed = (cam_events['start'] > obsolete_regions[cam]['top']) & (cam_events['end'] < obsolete_regions[cam]['bottom']) \n",
    "    event_length_px = np.median(cam_events[mask_not_trimmed]['end'] - cam_events[mask_not_trimmed]['start'])\n",
    "    mask_bad = (~(cam_events['end'] == obsolete_regions[cam]['bottom']) & \n",
    "                ((cam_events['end'] - cam_events['start']) < event_length_px * 0.9)) | \\\n",
    "               ((cam_events['end'] - cam_events['start']) > event_length_px * 1.1)  | \\\n",
    "                (cam_events['start'] <= obsolete_regions[cam]['top'])   \n",
    "            \n",
    "    for e in cam_events[~mask_bad]:\n",
    "        fig = plot_frame_with_profile(cam, e['frame'], features, diff2d)\n",
    "        plt.close(fig)\n",
    "    for e in cam_events[mask_bad]:\n",
    "        fig = plot_frame_with_profile(cam, e['frame'], features, diff2d,\n",
    "                                      filename='batch/bad/flash_with_profiles_c%d_f%d.jpg' % (cam, e['frame']))\n",
    "        plt.close(fig)\n",
    "        \n",
    "plt.interactive(True)"
   ]
  },
  {
   "cell_type": "code",
   "execution_count": null,
   "metadata": {
    "collapsed": false,
    "run_control": {
     "frozen": true,
     "read_only": true
    }
   },
   "outputs": [],
   "source": [
    "plt.interactive(False)\n",
    "for cam, cam_events in events.iteritems():\n",
    "    diff2d = np.diff(features[cam].astype(float), axis=1)\n",
    "plt.interactive(True)"
   ]
  },
  {
   "cell_type": "code",
   "execution_count": null,
   "metadata": {
    "collapsed": false,
    "run_control": {
     "frozen": true,
     "read_only": true
    }
   },
   "outputs": [],
   "source": [
    "features[cam][:, cam_events[:, 0].astype(int)].shape"
   ]
  },
  {
   "cell_type": "code",
   "execution_count": null,
   "metadata": {
    "collapsed": false,
    "run_control": {
     "frozen": true,
     "read_only": true
    }
   },
   "outputs": [],
   "source": [
    "plt.interactive(True)\n",
    "plt.plot(xrange(720), features[cam][:, cam_events[:, 0].astype(int)])\n",
    "plt.show()"
   ]
  },
  {
   "cell_type": "code",
   "execution_count": null,
   "metadata": {
    "collapsed": false,
    "run_control": {
     "frozen": true,
     "read_only": true
    }
   },
   "outputs": [],
   "source": [
    "diff2d = np.diff(features[cam].astype(float), axis=1)\n",
    "plt.plot(diff2d[:, cam_events[::5, 0].astype(int) - 1], xrange(720))"
   ]
  },
  {
   "cell_type": "markdown",
   "metadata": {},
   "source": [
    "## Pair of Streams Analysis"
   ]
  },
  {
   "cell_type": "code",
   "execution_count": null,
   "metadata": {
    "collapsed": false,
    "run_control": {
     "frozen": false,
     "read_only": false
    }
   },
   "outputs": [],
   "source": [
    "camera_pair = [1, 2]\n",
    "# width = min([features[c].shape[1] for c in cameras])\n",
    "width = 2000\n",
    "merged_median_luminance = np.zeros((features[camera_pair[0]].shape[0], width, 3), dtype=np.uint8)\n",
    "merged_median_luminance[:, :, 0] = features[camera_pair[0]][:, :width]\n",
    "merged_median_luminance[:, :, 1] = features[camera_pair[1]][:, :width]"
   ]
  },
  {
   "cell_type": "code",
   "execution_count": null,
   "metadata": {
    "collapsed": false,
    "run_control": {
     "frozen": true,
     "read_only": true
    }
   },
   "outputs": [],
   "source": [
    "# merged median columns\n",
    "plt.figure()\n",
    "plt.imshow(merged_median_luminance)\n",
    "plt.grid(False)"
   ]
  },
  {
   "cell_type": "code",
   "execution_count": null,
   "metadata": {
    "collapsed": false,
    "run_control": {
     "frozen": true,
     "read_only": true
    },
    "scrolled": false
   },
   "outputs": [],
   "source": [
    "# plot 2 camera composite diff image emphasizing flash events with detected start / end positions\n",
    "# ignores timing, obsolete\n",
    "fig = plt.figure()\n",
    "diff_img = np.diff(merged_median_luminance.astype(float), axis=1)\n",
    "diff_img[diff_img < 0] = 0\n",
    "diff_img = (diff_img / np.max(diff_img) * 255).astype(np.uint8)\n",
    "for cam, color in zip(camera_pair, ('r', 'g')):\n",
    "    plt.plot(events[cam]['frame'] - 1, events[cam][['start', 'end']], '.' + color)\n",
    "    for i, event in enumerate(events[cam]):\n",
    "        if event['frame'] == -1:\n",
    "            continue\n",
    "        if publish:\n",
    "            s = '%0.2f' % event['frame']\n",
    "        else:\n",
    "            s = '%d: %0.2f' % (i, event['frame'])\n",
    "        plt.annotate(s, (event['frame'], event['start']), (0, -20), \n",
    "                     textcoords='offset points', color=color)    \n",
    "plt.imshow(diff_img)\n",
    "plt.grid(False)\n",
    "plt.axis('tight')\n",
    "__ = plt.xlim(0, width)\n",
    "# plt.imsave('diff_median.png', diff_img)\n",
    "# matplotutils.save_figure_as_image('diff_median.png', fig)\n",
    "if publish:\n",
    "    plt.savefig(os.path.join(paper_figures_dir, 'diff_median_rg_cam%d%d.png' % tuple(camera_pair))) # , bbox_inches='tight') # , pad_inches=0\n",
    "else:\n",
    "    plt.title('composite diff image emphasizing flash events, cam %d - red, %d - green' % tuple(camera_pair))"
   ]
  },
  {
   "cell_type": "markdown",
   "metadata": {},
   "source": [
    "## Timing Statistics"
   ]
  },
  {
   "cell_type": "code",
   "execution_count": null,
   "metadata": {
    "collapsed": false,
    "run_control": {
     "frozen": false,
     "read_only": false
    }
   },
   "outputs": [],
   "source": [
    "from synchronization import MultipleVideoSynchronization\n",
    "sync = MultipleVideoSynchronization()\n",
    "use_ocr = False\n",
    "if use_ocr:\n",
    "    ocred_timings = 'video/usa_rus/frame_timings.pkl'\n",
    "    sync.load(os.path.join(p.c['data_root'], ocred_timings))\n",
    "else:\n",
    "    sync.frame_timings = {cam: get_timestamps_ms(os.path.join(data_root, p.c['video_sequences']) % cam, '20:00') \n",
    "                          for cam in all_cameras}\n",
    "    # frame_timings_min_len = min([len(ft) for ft in sync.frame_timings.values()])\n",
    "    # sync.frame_timings = {cam: sync.frame_timings[cam][:frame_timings_min_len] for cam in all_cameras}"
   ]
  },
  {
   "cell_type": "code",
   "execution_count": null,
   "metadata": {
    "collapsed": false,
    "run_control": {
     "frozen": false,
     "read_only": false
    }
   },
   "outputs": [],
   "source": [
    "[len(sync.frame_timings[cam]) for cam in all_cameras]"
   ]
  },
  {
   "cell_type": "code",
   "execution_count": null,
   "metadata": {
    "collapsed": false,
    "run_control": {
     "frozen": false,
     "read_only": false
    }
   },
   "outputs": [],
   "source": [
    "features_start_minutes = [sync.frame_timings[cam][features_start[cam]] / 1000. / 60. for cam in all_cameras]\n",
    "print np.array2string(np.array(features_start_minutes), precision=2)"
   ]
  },
  {
   "cell_type": "code",
   "execution_count": null,
   "metadata": {
    "collapsed": false,
    "run_control": {
     "frozen": false,
     "read_only": false
    }
   },
   "outputs": [],
   "source": [
    "np.diff(np.nonzero((np.diff(sync.frame_timings[0]) == 159))[0])"
   ]
  },
  {
   "cell_type": "code",
   "execution_count": null,
   "metadata": {
    "collapsed": false,
    "run_control": {
     "frozen": false,
     "read_only": false
    },
    "scrolled": true
   },
   "outputs": [],
   "source": [
    "np.diff(np.nonzero((np.diff(sync.frame_timings[2]) == 41))[0])"
   ]
  },
  {
   "cell_type": "code",
   "execution_count": null,
   "metadata": {
    "collapsed": false,
    "run_control": {
     "frozen": false,
     "read_only": false
    },
    "scrolled": true
   },
   "outputs": [],
   "source": [
    "# show timing visualizations\n",
    "for i, cam in enumerate(all_cameras):\n",
    "    frame_timings = np.round(get_timestamps_ms(os.path.join(data_root, p.c['video_sequences']) % cam, '20:00'), 6)\n",
    "    \n",
    "    fig = plt.figure()\n",
    "    diff_timing = np.diff(frame_timings)\n",
    "    unique_diff_timing = np.unique(diff_timing)\n",
    "    diff_mode, _ = stats.mode(diff_timing)    \n",
    "#     plt.hist(diff_timing, histtype='stepfilled', bins=unique_diff_timing, # range=(0.9 * np.median(diff_timing), 2.2 * np.median(diff_timing)), \n",
    "#              log=True, cumulative=True) # np.linspace(30, 90, 30)\n",
    "    sns.distplot(diff_timing, kde=False, bins=unique_diff_timing,\n",
    "                 hist_kws={'cumulative': True, 'histtype': 'stepfilled'}, \n",
    "                 rug=False)\n",
    "    plt.xticks(np.arange(diff_mode, diff_timing.max(), diff_mode))\n",
    "    plt.title('Frame durations histogram (camera %d)' % cam)\n",
    "    plt.xlabel('event timing difference [ms]')\n",
    "    plt.ylabel('count')\n",
    "    if publish:\n",
    "        plt.savefig(os.path.join(paper_figures_dir, 'cam%d_durations_histogram.png' % cam))    \n",
    "\n",
    "    plt.figure()\n",
    "    val, count = np.unique(diff_timing, return_counts=True)\n",
    "    sort_idx = np.argsort(count)[::-1]\n",
    "    print('cam %d: unique durations counts: %s' % (cam, str(count[sort_idx])))\n",
    "    bars = plt.bar(np.arange(len(count)), count[sort_idx], log=True)\n",
    "    plt.xticks(np.arange(len(count)) + 0.5, val[sort_idx], rotation='vertical') # np.round(val[sort_idx], 6)\n",
    "    plt.title('Frame durations statistics (camera %d)' % cam)\n",
    "    plt.xlabel('durations [ms]')\n",
    "    plt.ylabel('count')\n",
    "    plt.tight_layout()\n",
    "    if publish:\n",
    "        plt.savefig(os.path.join(paper_figures_dir, 'cam%d_frame_duration_statistics.png' % cam))\n",
    "    \n",
    "\n",
    "    mode_duration_ms, _ = stats.mode(diff_timing)\n",
    "    mask_clean = (0.8 * mode_duration_ms < diff_timing) & (diff_timing  < 1.2 * mode_duration_ms)\n",
    "    diff_timing_clean = diff_timing[np.nonzero(mask_clean)]\n",
    "    duration_errors = diff_timing_clean - mode_duration_ms * np.ones(len(diff_timing_clean))\n",
    "\n",
    "    plt.figure()\n",
    "    plt.plot(duration_errors, '.')\n",
    "    plt.title('Deviations from %0.2f ms frame duration (camera %d)' % (mode_duration_ms, cam))\n",
    "    plt.xlabel('frame')\n",
    "    plt.ylabel('deviation [ms]')\n",
    "    plt.yticks(np.unique(duration_errors))\n",
    "    plt.margins(y=0.05, x=0)\n",
    "    if publish:\n",
    "        plt.savefig(os.path.join(paper_figures_dir, 'cam%d_frame_duration_errors.png' % cam))\n",
    "       \n",
    "    plt.figure()\n",
    "    __ = plt.hist(duration_errors[np.nonzero(duration_errors)])\n",
    "    plt.title('Deviations from %0.2f ms frame duration (camera %d)' % (mode_duration_ms, cam))\n",
    "    plt.xlabel('deviation [ms]')\n",
    "    plt.ylabel('counts')    \n",
    "    if publish:\n",
    "        plt.savefig(os.path.join(paper_figures_dir, 'cam%d_duration_errors_histogram.png' % cam))\n"
   ]
  },
  {
   "cell_type": "code",
   "execution_count": 212,
   "metadata": {
    "collapsed": false,
    "run_control": {
     "frozen": false,
     "read_only": false
    }
   },
   "outputs": [
    {
     "data": {
      "text/html": [
       "<table>\n",
       "<tr><th style=\"text-align: right;\">  camera</th><th style=\"text-align: right;\">  frames</th><th>duration      </th><th style=\"text-align: right;\">  mode [ms]</th><th style=\"text-align: right;\">  mode fps</th><th style=\"text-align: right;\">  clean frames</th><th style=\"text-align: right;\">  bad frames</th><th style=\"text-align: right;\">  bad frames [%]</th><th style=\"text-align: right;\">  clean frames not accurate</th><th style=\"text-align: right;\">  clean frames not accurate [%]</th><th style=\"text-align: right;\">  sum clean frames error [ms]</th></tr>\n",
       "<tr><td style=\"text-align: right;\">       0</td><td style=\"text-align: right;\">    5997</td><td>0:19:59.852000</td><td style=\"text-align: right;\">     240.00</td><td style=\"text-align: right;\">      4.17</td><td style=\"text-align: right;\">          2984</td><td style=\"text-align: right;\">        3012</td><td style=\"text-align: right;\">           50.23</td><td style=\"text-align: right;\">                        174</td><td style=\"text-align: right;\">                           5.83</td><td style=\"text-align: right;\">                      -136.00</td></tr>\n",
       "<tr><td style=\"text-align: right;\">       1</td><td style=\"text-align: right;\">   29824</td><td>0:19:59.962000</td><td style=\"text-align: right;\">      40.00</td><td style=\"text-align: right;\">     25.00</td><td style=\"text-align: right;\">         29658</td><td style=\"text-align: right;\">         165</td><td style=\"text-align: right;\">            0.55</td><td style=\"text-align: right;\">                        319</td><td style=\"text-align: right;\">                           1.08</td><td style=\"text-align: right;\">                       317.00</td></tr>\n",
       "<tr><td style=\"text-align: right;\">       2</td><td style=\"text-align: right;\">   29840</td><td>0:19:59.974000</td><td style=\"text-align: right;\">      40.00</td><td style=\"text-align: right;\">     25.00</td><td style=\"text-align: right;\">         29711</td><td style=\"text-align: right;\">         128</td><td style=\"text-align: right;\">            0.43</td><td style=\"text-align: right;\">                        330</td><td style=\"text-align: right;\">                           1.11</td><td style=\"text-align: right;\">                       330.00</td></tr>\n",
       "<tr><td style=\"text-align: right;\">       3</td><td style=\"text-align: right;\">   25052</td><td>0:19:59.927000</td><td style=\"text-align: right;\">      40.00</td><td style=\"text-align: right;\">     25.00</td><td style=\"text-align: right;\">         20861</td><td style=\"text-align: right;\">        4190</td><td style=\"text-align: right;\">           16.73</td><td style=\"text-align: right;\">                        330</td><td style=\"text-align: right;\">                           1.58</td><td style=\"text-align: right;\">                       -16.00</td></tr>\n",
       "<tr><td style=\"text-align: right;\">       4</td><td style=\"text-align: right;\">   25358</td><td>0:19:59.960000</td><td style=\"text-align: right;\">      40.00</td><td style=\"text-align: right;\">     25.00</td><td style=\"text-align: right;\">         21307</td><td style=\"text-align: right;\">        4050</td><td style=\"text-align: right;\">           15.97</td><td style=\"text-align: right;\">                        299</td><td style=\"text-align: right;\">                           1.40</td><td style=\"text-align: right;\">                        38.00</td></tr>\n",
       "</table>"
      ],
      "text/plain": [
       "<IPython.core.display.HTML object>"
      ]
     },
     "metadata": {},
     "output_type": "display_data"
    },
    {
     "name": "stdout",
     "output_type": "stream",
     "text": [
      "\n",
      "- clean frames: duration close to duration mode\n",
      "- bad frames: other frames, mainly dropped frames and other outliers\n",
      "- clean frames not accurate: clean frames with duration other than mode\n",
      "- clean frames not accurate [%]: out of clean frames\n",
      "\n"
     ]
    }
   ],
   "source": [
    "statistics = []\n",
    "for i, cam in enumerate(all_cameras):\n",
    "    frame_timings = np.round(get_timestamps_ms(os.path.join(data_root, p.c['video_sequences']) % cam, '20:00'), 6)\n",
    "    diff_timing = np.diff(frame_timings)\n",
    "    mode_duration_ms, _ = stats.mode(diff_timing)\n",
    "    mask_clean = (0.8 * mode_duration_ms < diff_timing) & (diff_timing  < 1.2 * mode_duration_ms)\n",
    "    diff_timing_clean = diff_timing[np.nonzero(mask_clean)]\n",
    "    duration_errors = diff_timing_clean - mode_duration_ms * np.ones(len(diff_timing_clean))\n",
    "    \n",
    "    statistics.append(OrderedDict([\n",
    "                       ('camera', cam), \n",
    "                       ('frames', len(frame_timings)), \n",
    "                       ('duration', datetime.timedelta(milliseconds=frame_timings[-1])),\n",
    "                       ('mode [ms]', mode_duration_ms),\n",
    "                       ('mode fps', 1000 / mode_duration_ms),\n",
    "                       ('clean frames', np.count_nonzero(mask_clean)),\n",
    "                       ('bad frames', len(diff_timing) - np.count_nonzero(mask_clean)),\n",
    "                       ('bad frames [%]', (len(diff_timing) - np.count_nonzero(mask_clean)) / float(len(diff_timing)) * 100),                       \n",
    "                       ('clean frames not accurate', np.count_nonzero(duration_errors)),\n",
    "                       ('clean frames not accurate [%]', np.count_nonzero(duration_errors) / float(len(duration_errors)) * 100),\n",
    "                       ('sum clean frames error [ms]', duration_errors.sum())\n",
    "                      ]))\n",
    "    \n",
    "display(HTML(tabulate(statistics, headers='keys', tablefmt='html', floatfmt='0.2f')))\n",
    "print \"\"\"\n",
    "- clean frames: duration close to duration mode\n",
    "- bad frames: other frames, mainly dropped frames and other outliers\n",
    "- clean frames not accurate: clean frames with duration other than mode\n",
    "- clean frames not accurate [%]: out of clean frames\n",
    "\"\"\"  "
   ]
  },
  {
   "cell_type": "code",
   "execution_count": null,
   "metadata": {
    "collapsed": false,
    "run_control": {
     "frozen": false,
     "read_only": false
    }
   },
   "outputs": [],
   "source": [
    "plt.close('all')"
   ]
  },
  {
   "cell_type": "code",
   "execution_count": null,
   "metadata": {
    "collapsed": false,
    "run_control": {
     "frozen": true,
     "read_only": true
    },
    "scrolled": true
   },
   "outputs": [],
   "source": [
    "mean_error_in_lines = np.mean(duration_errors) / mode_duration_ms * images_dimensions[cam][0]\n",
    "std_error_in_lines = np.std(duration_errors) / mode_duration_ms * images_dimensions[cam][0]\n",
    "print mean_error_in_lines, std_error_in_lines"
   ]
  },
  {
   "cell_type": "markdown",
   "metadata": {},
   "source": [
    "## Synchronization"
   ]
  },
  {
   "cell_type": "code",
   "execution_count": null,
   "metadata": {
    "collapsed": true,
    "run_control": {
     "frozen": false,
     "read_only": false
    }
   },
   "outputs": [],
   "source": [
    "# manual event association\n",
    "cameras = [1, 2, 3, 4]\n",
    "event_selection_idx = {1: [0, 1], 2: [0, 1], 3: [0, 1], 4: [0, 1]}\n",
    "# cameras = [1, 2]\n",
    "# event_selection_idx = {1: [0, 1, 2, 3, 9], 2: [0, 1, 2, 3, 11]}\n",
    "# cameras = [3, 4]\n",
    "# event_selection_idx = {3: [0, 1, 3], 4: [0, 1, 2]}"
   ]
  },
  {
   "cell_type": "code",
   "execution_count": null,
   "metadata": {
    "collapsed": true,
    "run_control": {
     "frozen": false,
     "read_only": false
    }
   },
   "outputs": [],
   "source": [
    "synchronization_events_idx = {1: 0, 2: 0, 3: 0, 4: 0}"
   ]
  },
  {
   "cell_type": "code",
   "execution_count": null,
   "metadata": {
    "collapsed": false,
    "run_control": {
     "frozen": false,
     "read_only": false
    }
   },
   "outputs": [],
   "source": [
    "# add events timing to timed_events\n",
    "timed_events = {}\n",
    "for cam in cameras:\n",
    "    timings_n = len(sync.get_timings()[cam])\n",
    "    have_timings = (features_start[cam] + events[cam]['frame']) < timings_n    \n",
    "    timings = sync.get_timings()[cam][features_start[cam] + events[cam][have_timings]['frame']]\n",
    "     # = merge_arrays((event_selection[cam], ().astype(dtype=[('timing', 'timedelta64[ms]')])))\n",
    "    timed_events[cam] = append_fields(events[cam][have_timings], 'timing', \n",
    "                                      timings, # - timings[synchronization_events_idx[cam]], \n",
    "                                      usemask=False)\n",
    "# plt.imshow(images.get_image(frame, camera_pair[0])[:50, :500]) # "
   ]
  },
  {
   "cell_type": "code",
   "execution_count": null,
   "metadata": {
    "collapsed": false,
    "run_control": {
     "frozen": false,
     "read_only": false
    }
   },
   "outputs": [],
   "source": [
    "event_selection = {cam: timed_events[cam][idxs] for cam, idxs in event_selection_idx.iteritems()}"
   ]
  },
  {
   "cell_type": "code",
   "execution_count": null,
   "metadata": {
    "collapsed": false,
    "run_control": {
     "frozen": false,
     "read_only": false
    }
   },
   "outputs": [],
   "source": [
    "# show paired event frames side by side\n",
    "def show_synchronized_frames(indices, cameras, events, publish=False):\n",
    "    if publish:\n",
    "        ydim = int(math.floor(math.sqrt(len(cameras))))\n",
    "        xdim = int(math.ceil(len(cameras) / ydim))\n",
    "        frame_str = ''\n",
    "    for i, (idx, cam) in enumerate(zip(indices, cameras)):\n",
    "        frame = events[cam][idx]['frame']\n",
    "        if publish:\n",
    "            plt.subplot(ydim, xdim, i + 1)\n",
    "            frame_str += '_' + str(frame)\n",
    "        else:\n",
    "            plt.figure()\n",
    "        plt.imshow(images.get_image(features_start[cam] + frame, cam)) \n",
    "        plt.grid(False)\n",
    "        plt.axis('off')\n",
    "\n",
    "    if publish:\n",
    "        plt.tight_layout(pad=1)\n",
    "        plt.savefig(os.path.join(paper_figures_dir, 'flashes%s.png' % frame_str))"
   ]
  },
  {
   "cell_type": "code",
   "execution_count": null,
   "metadata": {
    "collapsed": true,
    "run_control": {
     "frozen": true,
     "read_only": true
    }
   },
   "outputs": [],
   "source": [
    "i = 4\n",
    "show_synchronized_frames([event_selection_idx[cam][i] for cam in cameras], cameras, timed_events, publish=False)"
   ]
  },
  {
   "cell_type": "code",
   "execution_count": null,
   "metadata": {
    "collapsed": true,
    "run_control": {
     "frozen": true,
     "read_only": true
    }
   },
   "outputs": [],
   "source": [
    "# visualize all events detected in 2 video streams\n",
    "fig = plt.figure()\n",
    "   \n",
    "for cam, color in zip(cameras, ('r', 'g')):    \n",
    "    plt.plot(np.tile(timed_events[cam]['timing'], (2, 1)), timed_events[cam][['start', 'end']].view((float, 2)).T, \n",
    "             '-' + color) # \n",
    "#     for i, event in enumerate(events[cam]):\n",
    "#         if event['frame'] == -1:\n",
    "#             continue\n",
    "#         if publish:\n",
    "#             s = '%0.2f' % event['frame']\n",
    "#         else:\n",
    "#             s = '%d: %0.2f' % (i, event['frame'])\n",
    "#         plt.annotate(s, (event_timing[cam], event['start']), (0, -20), \n",
    "#                      textcoords='offset points', color=color)    \n",
    "# plt.axis('tight')\n",
    "# __ = plt.xlim(0, width)\n",
    "# plt.imsave('diff_median.png', diff_img)\n",
    "# matplotutils.save_figure_as_image('diff_median.png', fig)\n",
    "if publish:\n",
    "    plt.savefig(os.path.join(paper_figures_dir, 'diff_median_rg_cam%d%d.png' % tuple(camera_pair))) # , bbox_inches='tight') # , pad_inches=0\n",
    "else:\n",
    "    plt.title('composite diff image emphasizing flash events, cam %d - red, %d - green' % tuple(camera_pair))"
   ]
  },
  {
   "cell_type": "code",
   "execution_count": 304,
   "metadata": {
    "collapsed": false,
    "run_control": {
     "frozen": false,
     "read_only": false
    },
    "scrolled": true
   },
   "outputs": [],
   "source": [
    "# def get_subframe_timing(events, timings, height):\n",
    "#     frame_duration_ms = np.median(np.diff(timings))\n",
    "#     subframe_ms = events['start'] / height * frame_duration_ms\n",
    "#     return events['timing'] + subframe_ms\n",
    "\n",
    "def get_subframe_timing(cam, events, event_idx=slice(None)):\n",
    "    frame_duration_ms = np.median(np.diff(sync.get_timings()[cam]))\n",
    "    height = images_dimensions[cam][0]\n",
    "    subframe_ms = (height - events[cam][event_idx]['start']) / height * frame_duration_ms\n",
    "    # events[cam][event_idx]['timing'] +\n",
    "    return subframe_ms\n",
    "\n",
    "# get_subframe_timing(timed_events[cameras[0]][event_pairs_idx[0]], sync.get_timings()[cameras[0]], height=images_dimensions[cameras[0]][0]) - \\\n",
    "# get_subframe_timing(timed_events[cameras[1]][event_pairs_idx[1]], sync.get_timings()[cameras[1]], height=images_dimensions[cameras[1]][0])\n",
    "\n",
    "# get_subframe_timing(cameras[0], event_pairs_idx[0])\n",
    "# get_subframe_timing(cameras[1], event_pairs_idx[1])"
   ]
  },
  {
   "cell_type": "code",
   "execution_count": null,
   "metadata": {
    "collapsed": false,
    "run_control": {
     "frozen": true,
     "read_only": true
    }
   },
   "outputs": [],
   "source": [
    "# find close events\n",
    "def find_event_pairs(events, cameras, offsets, close_events_thresh_ms=35):\n",
    "    events1 = events[cameras[0]]['timing'] - offsets[cameras[0]]\n",
    "    events2 = events[cameras[1]]['timing'] - offsets[cameras[1]]\n",
    "    distances = np.zeros((len(events1), len(events2)))\n",
    "    for i, j in itertools.product(range(len(events1)), range(len(events2))):\n",
    "        distances[i, j] = abs(events1[i] - events2[j]).astype(float)\n",
    "    event_pairs_idx_ = np.array(np.nonzero(distances < close_events_thresh_ms))\n",
    "    # event_pairs = [events[cameras[0]][event_pairs_idx[0]], events[cameras[1]][event_pairs_idx[1]]]\n",
    "    event_pairs_idx = {cam: event_pairs_idx_[i] for i, cam in enumerate(cameras)}\n",
    "    return event_pairs_idx"
   ]
  },
  {
   "cell_type": "markdown",
   "metadata": {},
   "source": [
    "### WIP"
   ]
  },
  {
   "cell_type": "code",
   "execution_count": null,
   "metadata": {
    "collapsed": false,
    "run_control": {
     "frozen": false,
     "read_only": false
    }
   },
   "outputs": [],
   "source": [
    "timed_events_nan = {}\n",
    "nan_event = np.array((-1, np.nan, np.nan, np.nan, np.nan), dtype=[('frame', int),('start', float), ('end', float), ('position', float), ('timing', float)])\n",
    "for cam in cameras:\n",
    "    timed_events_nan[cam] = np.append(timed_events[cam], nan_event)"
   ]
  },
  {
   "cell_type": "code",
   "execution_count": 566,
   "metadata": {
    "collapsed": false,
    "run_control": {
     "frozen": false,
     "read_only": false
    }
   },
   "outputs": [],
   "source": [
    "# find close events\n",
    "def match_events(timings, cameras, offsets, base_cam, close_events_thresh_ms=35):\n",
    "    nan_val = np.nan\n",
    "    timings_rel = {cam: timings[cam] - offsets[cam] for cam in cameras}\n",
    "    \n",
    "    plt.eventplot([t for t in timings_rel.values()], colors=['r', 'b']) # , 'r', 'b'])\n",
    "    \n",
    "    n_timings = {cam: len(timings[cam]) for cam in cameras}\n",
    "    cam2idx = {cam: i for i, cam in enumerate(cameras)}\n",
    "    for cam in cameras:\n",
    "        assert np.all(np.diff(timings[cam]) > 0)\n",
    "    position = {cam: 0 for cam in cameras}\n",
    "    all_matched = []\n",
    "    while position[base_cam] < n_timings[base_cam]:        \n",
    "        matched = [nan_val] * len(cameras)\n",
    "        matched[cam2idx[base_cam]] = position[base_cam]\n",
    "        position[base_cam] += 1\n",
    "        for cam in set(cameras) - set([base_cam]):\n",
    "            while position[cam] < n_timings[cam] and \\\n",
    "                timings_rel[cam][position[cam]] < timings_rel[base_cam][matched[cam2idx[base_cam]]] - close_events_thresh_ms:\n",
    "                single_event = [nan_val] * len(cameras)\n",
    "                single_event[cam2idx[cam]] = position[cam]\n",
    "                all_matched.append(single_event)          \n",
    "                position[cam] += 1\n",
    "            if position[cam] != n_timings[cam] and \\\n",
    "                timings_rel[cam][position[cam]] < timings_rel[base_cam][matched[cam2idx[base_cam]]] + close_events_thresh_ms:\n",
    "                matched[cam2idx[cam]] = position[cam]\n",
    "                position[cam] += 1\n",
    "        all_matched.append(matched)\n",
    "        \n",
    "    for cam in set(cameras) - set([base_cam]):\n",
    "        while position[cam] < n_timings[cam]:\n",
    "            single_event = [nan_val] * len(cameras)\n",
    "            single_event[cam2idx[cam]] = position[cam]\n",
    "            all_matched.append(single_event)                \n",
    "            position[cam] += 1\n",
    "\n",
    "    return np.array(all_matched)\n",
    "              \n",
    "\n",
    "base_cam = 1\n",
    "cameras = [1, 4]\n",
    "matched = match_events({cam: timed_events[cam]['timing'] for cam in cameras}, cameras, \n",
    "             {cam: timed_events[cam][event_selection_idx[cam][0]]['timing'] for cam in cameras}, # timed_events[base_cam][event_selection_idx[base_cam][0]]['timing'] - \n",
    "             base_cam, close_events_thresh_ms=80)\n",
    "mask_full_match = ~np.isnan(matched.sum(axis=1))"
   ]
  },
  {
   "cell_type": "code",
   "execution_count": 573,
   "metadata": {
    "collapsed": false
   },
   "outputs": [
    {
     "data": {
      "text/plain": [
       "array([ True,  True, False,  True, False, False, False, False,  True,  True,  True,  True,  True, False,  True,  True, False, False,  True,  True,\n",
       "        True,  True,  True,  True, False, False,  True,  True,  True,  True,  True,  True, False,  True,  True,  True,  True,  True,  True, False,\n",
       "        True,  True, False,  True,  True,  True, False,  True, False,  True, False,  True, False, False, False, False, False, False,  True,  True,\n",
       "       False,  True,  True, False, False,  True], dtype=bool)"
      ]
     },
     "execution_count": 573,
     "metadata": {},
     "output_type": "execute_result"
    }
   ],
   "source": [
    "mask_full_match"
   ]
  },
  {
   "cell_type": "code",
   "execution_count": 577,
   "metadata": {
    "collapsed": false
   },
   "outputs": [
    {
     "name": "stderr",
     "output_type": "stream",
     "text": [
      "/home/matej/.virtualenvs/sporttracking/lib/python2.7/site-packages/ipykernel/__main__.py:1: VisibleDeprecationWarning: boolean index did not match indexed array along dimension 0; dimension is 38 but corresponding boolean dimension is 66\n",
      "  if __name__ == '__main__':\n"
     ]
    },
    {
     "ename": "IndexError",
     "evalue": "index 38 is out of bounds for axis 1 with size 38",
     "output_type": "error",
     "traceback": [
      "\u001b[0;31m---------------------------------------------------------------------------\u001b[0m",
      "\u001b[0;31mIndexError\u001b[0m                                Traceback (most recent call last)",
      "\u001b[0;32m<ipython-input-577-11af98e29a92>\u001b[0m in \u001b[0;36m<module>\u001b[0;34m()\u001b[0m\n\u001b[0;32m----> 1\u001b[0;31m \u001b[0mtimed_events\u001b[0m\u001b[0;34m[\u001b[0m\u001b[0;36m3\u001b[0m\u001b[0;34m]\u001b[0m\u001b[0;34m[\u001b[0m\u001b[0mmask_full_match\u001b[0m\u001b[0;34m]\u001b[0m\u001b[0;34m[\u001b[0m\u001b[0;34m'timing'\u001b[0m\u001b[0;34m]\u001b[0m\u001b[0;34m\u001b[0m\u001b[0m\n\u001b[0m",
      "\u001b[0;31mIndexError\u001b[0m: index 38 is out of bounds for axis 1 with size 38"
     ]
    }
   ],
   "source": [
    "timed_events[3][mask_full_match]['timing']"
   ]
  },
  {
   "cell_type": "code",
   "execution_count": 579,
   "metadata": {
    "collapsed": false
   },
   "outputs": [
    {
     "data": {
      "text/plain": [
       "66"
      ]
     },
     "execution_count": 579,
     "metadata": {},
     "output_type": "execute_result"
    }
   ],
   "source": [
    "len(timed_events[1])"
   ]
  },
  {
   "cell_type": "code",
   "execution_count": 564,
   "metadata": {
    "collapsed": false
   },
   "outputs": [
    {
     "data": {
      "text/plain": [
       "[1, 2, 3, 4]"
      ]
     },
     "execution_count": 564,
     "metadata": {},
     "output_type": "execute_result"
    }
   ],
   "source": [
    "match_events()\n",
    "plt.eventplot([t for t in timings_rel.values()], colors=['r', 'b']) # , 'r', 'b'])"
   ]
  },
  {
   "cell_type": "code",
   "execution_count": 227,
   "metadata": {
    "collapsed": false,
    "run_control": {
     "frozen": false,
     "read_only": false
    }
   },
   "outputs": [],
   "source": [
    "offsets = {cam: timed_events[cam][event_selection_idx[cam][0]]['timing'] for cam in cameras}\n",
    "timings_rel = {cam: timed_events[cam]['timing'] - offsets[cam] for cam in cameras}\n",
    "\n",
    "subframe = {cam: get_subframe_timing(cam, timed_events) for cam in cameras}\n",
    "subframe_rel = {cam: timings_rel[cam] + subframe[cam] for cam in cameras}\n",
    "\n",
    "\n",
    "plt.eventplot([t for t in timings_rel.values()], colors=['r', 'b', 'r', 'b'])\n"
   ]
  },
  {
   "cell_type": "code",
   "execution_count": null,
   "metadata": {
    "collapsed": false,
    "run_control": {
     "frozen": false,
     "read_only": false
    }
   },
   "outputs": [],
   "source": [
    "# matched_nan = matched.astype(float)\n",
    "# matched_nan[matched_nan == -1] = np.nan\n",
    "# mask_full_match = ~np.isnan(matched_nan.sum(axis=1))\n",
    "# base_cam_idx = 0\n",
    "# for idx, cam in enumerate(cameras):\n",
    "#     print timed_events_nan[cam][matched[:, idx]][mask_full_match]['timing'] - timed_events_nan[base_cam][matched[:, base_cam_idx]][mask_full_match]['timing']"
   ]
  },
  {
   "cell_type": "code",
   "execution_count": null,
   "metadata": {
    "collapsed": false,
    "run_control": {
     "frozen": false,
     "read_only": false
    }
   },
   "outputs": [],
   "source": [
    "matched_events = {}\n",
    "for idx, cam in enumerate(cameras):\n",
    "    matched_events[cam] = timed_events[cam][matched[mask_full_match].astype(int)[:, idx]]"
   ]
  },
  {
   "cell_type": "code",
   "execution_count": null,
   "metadata": {
    "collapsed": false,
    "run_control": {
     "frozen": false,
     "read_only": false
    }
   },
   "outputs": [],
   "source": [
    "cam = 1\n",
    "partial_events_start = {cam: matched_events[cam][matched_events[cam]['start'] <= obsolete_regions[cam]['top']]['frame'] for cam in cameras}\n",
    "# partial_events_end = {cam: matched_events[cam][matched_events[cam]['end'] >= obsolete_regions[cam]['bottom']]['frame']"
   ]
  },
  {
   "cell_type": "code",
   "execution_count": null,
   "metadata": {
    "collapsed": false,
    "run_control": {
     "frozen": false,
     "read_only": false
    }
   },
   "outputs": [],
   "source": [
    "start_ok_idx = np.all(np.vstack([matched_events[cam]['start'] > obsolete_regions[cam]['top'] for cam in cameras]), axis=0)\n",
    "end_ok_idx = np.all(np.vstack([matched_events[cam]['end'] < obsolete_regions[cam]['bottom'] for cam in cameras]), axis=0)"
   ]
  },
  {
   "cell_type": "code",
   "execution_count": 436,
   "metadata": {
    "collapsed": true,
    "run_control": {
     "frozen": false,
     "read_only": false
    }
   },
   "outputs": [],
   "source": [
    "def get_matched_events(cameras, events, event_selection_idx, base_cam, obsolete_regions):\n",
    "    matched = match_events({cam: events[cam]['timing'] for cam in cameras}, cameras, \n",
    "                 {cam: events[cam][event_selection_idx[cam][0]]['timing'] for cam in cameras}, \n",
    "                 base_cam, close_events_thresh_ms=80)\n",
    "    mask_full_match = ~np.isnan(matched.sum(axis=1))\n",
    "    matched_events = {}\n",
    "    for idx, cam in enumerate(cameras):\n",
    "        matched_events[cam] = events[cam][matched[mask_full_match].astype(int)[:, idx]]\n",
    "    start_ok_idx = np.all(np.vstack([matched_events[cam]['start'] > obsolete_regions[cam]['top'] for cam in cameras]), axis=0)\n",
    "    return {cam: matched_events[cam][start_ok_idx] for cam in cameras}"
   ]
  },
  {
   "cell_type": "code",
   "execution_count": 84,
   "metadata": {
    "collapsed": false,
    "run_control": {
     "frozen": false,
     "read_only": false
    }
   },
   "outputs": [
    {
     "data": {
      "text/plain": [
       "{1: array([(96, 233.0, 1000.0, 96.10787037037036, 70779.0), (248, 936.0, 1969.0, 248.43333333333334, 76860.0),\n",
       "        (546, 890.0, 1637.0, 546.4120370370371, 88943.0), (6466, 902.0, 1645.0, 6466.417592592593, 327168.0),\n",
       "        (6631, 486.0, 1240.0, 6631.225, 333849.0), (8313, 1965.0, 2159.0, 8313.909722222223, 401427.0),\n",
       "        (8609, 438.0, 1210.0, 8609.202777777778, 413471.0), (10182, 697.0, 1450.0, 10182.322685185185, 477368.0),\n",
       "        (11827, 621.0, 1383.0, 11827.2875, 543546.0), (13370, 547.0, 1307.0, 13370.253240740742, 605602.0),\n",
       "        (13417, 1916.0, 2159.0, 13417.887037037037, 607523.0), (14834, 821.0, 1575.0, 14834.380092592593, 664418.0)], \n",
       "       dtype=[('frame', '<i8'), ('start', '<f8'), ('end', '<f8'), ('position', '<f8'), ('timing', '<f8')]),\n",
       " 2: array([(96, 1246.0, 2043.0, 96.57685185185186, 64697.0), (247, 1968.0, 2159.0, 247.9111111111111, 70779.0),\n",
       "        (547, 1922.0, 2159.0, 547.8898148148148, 82862.0), (6446, 1916.0, 2159.0, 6446.887037037037, 321089.0),\n",
       "        (6613, 1491.0, 2159.0, 6613.690277777778, 327771.0), (8295, 339.0, 1111.0, 8295.156944444445, 395389.0),\n",
       "        (8594, 1436.0, 2159.0, 8594.664814814814, 407393.0), (10186, 1693.0, 2159.0, 10186.783796296297, 471290.0),\n",
       "        (11830, 1610.0, 2159.0, 11830.74537037037, 537469.0), (13371, 1532.0, 2159.0, 13371.70925925926, 599526.0),\n",
       "        (13418, 267.0, 1983.0, 13418.12361111111, 601487.0), (14835, 1806.0, 2159.0, 14835.836111111112, 658342.0)], \n",
       "       dtype=[('frame', '<i8'), ('start', '<f8'), ('end', '<f8'), ('position', '<f8'), ('timing', '<f8')]),\n",
       " 3: array([(77, 238.0, 540.0, 77.33055555555555, 108273.0), (203, 551.0, 719.0, 203.76527777777778, 114353.0), (457, 630.0, 719.0, 457.875, 126432.0),\n",
       "        (5447, 536.0, 719.0, 5447.7444444444445, 364658.0), (5589, 432.0, 719.0, 5589.6, 371337.0), (7002, 530.0, 719.0, 7002.736111111111, 438933.0),\n",
       "        (7254, 60.0, 358.0, 7254.083333333333, 450973.0), (8583, 654.0, 719.0, 8583.908333333333, 514847.99999999994),\n",
       "        (9955, 161.0, 474.0, 9955.22361111111, 581044.0), (11247, 620.0, 719.0, 11247.861111111111, 643081.0),\n",
       "        (11286, 162.0, 476.0, 11286.225, 645040.0), (12463, 201.0, 511.0, 12463.279166666667, 701917.0)], \n",
       "       dtype=[('frame', '<i8'), ('start', '<f8'), ('end', '<f8'), ('position', '<f8'), ('timing', '<f8')]),\n",
       " 4: array([(78, 81.0, 376.0, 78.1125, 94637.0), (204, 388.0, 687.0, 204.5388888888889, 100716.0), (459, 458.0, 719.0, 459.6361111111111, 112796.0),\n",
       "        (5491, 204.0, 517.0, 5491.283333333334, 351029.0), (5632, 98.0, 394.0, 5632.136111111111, 357708.0),\n",
       "        (7048, 152.0, 448.0, 7048.211111111111, 425306.0), (7303, 648.0, 719.0, 7303.9, 437306.0), (8648, 220.0, 521.0, 8648.305555555555, 501224.0),\n",
       "        (10052, 666.0, 719.0, 10052.925, 567382.0), (11364, 102.0, 396.0, 11364.141666666666, 629460.0), (11404, 621.0, 719.0, 11404.8625, 631380.0),\n",
       "        (12607, 623.0, 719.0, 12607.865277777777, 688258.0)], \n",
       "       dtype=[('frame', '<i8'), ('start', '<f8'), ('end', '<f8'), ('position', '<f8'), ('timing', '<f8')])}"
      ]
     },
     "execution_count": 84,
     "metadata": {},
     "output_type": "execute_result"
    }
   ],
   "source": [
    "matched_events_ok = {cam: matched_events[cam][start_ok_idx] for cam in cameras}\n",
    "matched_events_ok"
   ]
  },
  {
   "cell_type": "code",
   "execution_count": null,
   "metadata": {
    "collapsed": false,
    "run_control": {
     "frozen": true,
     "read_only": true
    }
   },
   "outputs": [],
   "source": [
    "synchronized_event_idx = np.vstack([event_pairs_idx[cam] for cam in cameras])\n",
    "show_synchronized_frames(synchronized_event_idx[:, 0], cameras, timed_events, publish=False)"
   ]
  },
  {
   "cell_type": "code",
   "execution_count": null,
   "metadata": {
    "collapsed": false,
    "run_control": {
     "frozen": true,
     "read_only": true
    }
   },
   "outputs": [],
   "source": [
    "distances[distances > close_events_thresh_ms] = np.nan\n",
    "sns.heatmap(distances)"
   ]
  },
  {
   "cell_type": "code",
   "execution_count": null,
   "metadata": {
    "collapsed": false,
    "run_control": {
     "frozen": true,
     "read_only": true
    }
   },
   "outputs": [],
   "source": [
    "cam = cameras[0]\n",
    "plt.imshow(images.get_image(features_start[cam] + 11827, cam))"
   ]
  },
  {
   "cell_type": "code",
   "execution_count": 240,
   "metadata": {
    "collapsed": false,
    "run_control": {
     "frozen": false,
     "read_only": false
    }
   },
   "outputs": [],
   "source": [
    "# visualization: stream events synchronization\n",
    "def multitple_streams_events_visualization(cameras, offsets, events, start_s=0, duration_s=200):\n",
    "    camera_events = []\n",
    "    event_linestyles = []\n",
    "    for cam in cameras:\n",
    "        camera_events.extend([\n",
    "            # sync.get_timings()[cam] - offsets[cam],\n",
    "            events[cam]['timing'] - offsets[cam],\n",
    "            events[cam]['timing'] - offsets[cam] + get_subframe_timing(cam, events)\n",
    "            ])\n",
    "        event_linestyles.extend([\n",
    "                'dashed',\n",
    "                'solid'\n",
    "            ])\n",
    "\n",
    "    camera_events_short = []\n",
    "    for ce in camera_events:\n",
    "        event_range = xrange(*np.searchsorted(ce, [start_s * 1000, (start_s + duration_s) * 1000]))\n",
    "        camera_events_short.append(ce[event_range]) #  / 1000. / 60.)    \n",
    "\n",
    "    palettes = {1: 'Blues', 2: 'Reds', 3: 'Blues', 4: 'Reds'}\n",
    "    n_events_per_cam = len(camera_events_short) / len(cameras)\n",
    "    event_colors = []\n",
    "    event_lineoffsets = []\n",
    "    for i, cam in enumerate(cameras):\n",
    "        event_colors.extend(sns.color_palette(palettes[cam], n_events_per_cam))\n",
    "        event_lineoffsets.extend([i] * n_events_per_cam)       \n",
    "        \n",
    "\n",
    "    fig = plt.figure()\n",
    "    plots = plt.eventplot(camera_events_short, \n",
    "                  linelengths=1, \n",
    "                  lineoffsets=event_lineoffsets, \n",
    "                  colors=event_colors,\n",
    "                  linestyles=event_linestyles) #, label=[1, 1, 1, 1, 1, 1])\n",
    "    plt.xlabel('time [min]')\n",
    "    # plt.legend((plots[0], plots[3]), ['cam %d' % cam for cam in cameras])     # probably not possible, plots[] are EventCollection(LineCollection) \n",
    "                                                                                # where no Artists are available for legend to bind to\n",
    "    fig.get_axes()[0].get_yaxis().set_visible(False)\n",
    "    plt.tight_layout(pad=1)\n",
    "    \n",
    "# multitple_streams_events_visualization(cameras, frame_offsets, duration_s=1300)"
   ]
  },
  {
   "cell_type": "code",
   "execution_count": 302,
   "metadata": {
    "collapsed": false,
    "run_control": {
     "frozen": false,
     "read_only": false
    }
   },
   "outputs": [],
   "source": [
    "# timed_events[cam][event_pairs_idx[cam]]\n",
    "subframe = {cam: get_subframe_timing(cam, matched_events_ok) for cam in cameras}\n",
    "\n",
    "offsets = {cam: timed_events[cam][event_selection_idx[cam][0]]['timing'] - \n",
    "                subframe[cam][event_selection_idx[cam][0]] for cam in cameras}\n",
    "subframe_timing = np.vstack([matched_events_ok[cam]['timing'] - subframe[cam] for cam in cameras])\n",
    "cam234_offsets = np.median(subframe_timing[1:] - subframe_timing[0], axis=1)\n",
    "offsets_subframe = {1: 0, 2: cam234_offsets[0], 3: cam234_offsets[1], 4: cam234_offsets[2]}\n",
    "plots = multitple_streams_events_visualization(cameras, \n",
    "                                               offsets_subframe, \n",
    "                                               matched_events_ok,\n",
    "                                               duration_s=1300)"
   ]
  },
  {
   "cell_type": "code",
   "execution_count": 282,
   "metadata": {
    "collapsed": false,
    "run_control": {
     "frozen": false,
     "read_only": false
    }
   },
   "outputs": [
    {
     "data": {
      "text/plain": [
       "array([ 171.56,   87.94,   63.28])"
      ]
     },
     "execution_count": 282,
     "metadata": {},
     "output_type": "execute_result"
    }
   ],
   "source": [
    "(subframe_timing[1:] - subframe_timing[0]).std(axis=1) * lines_per_ms[1:]"
   ]
  },
  {
   "cell_type": "code",
   "execution_count": 274,
   "metadata": {
    "collapsed": false,
    "run_control": {
     "frozen": false,
     "read_only": false
    }
   },
   "outputs": [
    {
     "data": {
      "text/plain": [
       "array([[ -3.35,  -2.  ,  -2.  ,  -0.33,   0.5 ,  -8.22,   0.37,   0.33,   1.2 ,   2.13,  -6.65,   2.13],\n",
       "       [ -0.05,   3.32,   4.56,   0.12,   0.05,  -3.9 ,  -5.73,   0.47,  -7.51,   0.36, -12.44,  -7.99],\n",
       "       [  1.08,   3.12,   4.86,  -1.47,  -1.66,  -6.05,   5.79,  -1.79,   4.4 ,  -3.56,  -1.08,   2.31]])"
      ]
     },
     "execution_count": 274,
     "metadata": {},
     "output_type": "execute_result"
    }
   ],
   "source": [
    "(subframe_timing[1:] - subframe_timing[0]) - np.median(subframe_timing[1:] - subframe_timing[0], axis=1).reshape((-1, 1))"
   ]
  },
  {
   "cell_type": "code",
   "execution_count": 281,
   "metadata": {
    "collapsed": false,
    "run_control": {
     "frozen": false,
     "read_only": false
    }
   },
   "outputs": [],
   "source": [
    "lines_per_ms = np.array([images_dimensions[cam][0] for cam in cameras]) / 40."
   ]
  },
  {
   "cell_type": "code",
   "execution_count": 263,
   "metadata": {
    "collapsed": false,
    "run_control": {
     "frozen": false,
     "read_only": false
    }
   },
   "outputs": [],
   "source": [
    "fig = plt.figure()\n",
    "ax = fig.gca()\n",
    "colors = sns.color_palette(n_colors=3)\n",
    "for t, c in zip(subframe_timing[1:] - subframe_timing[0],\n",
    "                colors):\n",
    "    ax_ = ax.twinx()\n",
    "    ax_.plot(t, color=c)"
   ]
  },
  {
   "cell_type": "markdown",
   "metadata": {
    "collapsed": false,
    "run_control": {
     "frozen": false,
     "read_only": false
    }
   },
   "source": [
    "### Time vs px Diffs Evaluation"
   ]
  },
  {
   "cell_type": "code",
   "execution_count": 300,
   "metadata": {
    "collapsed": false,
    "run_control": {
     "frozen": false,
     "read_only": false
    }
   },
   "outputs": [],
   "source": [
    "timing_ok = np.vstack([matched_events_ok[cam]['timing'] for cam in cameras])\n",
    "start_ok = np.vstack([matched_events_ok[cam]['start'] for cam in cameras])\n",
    "timing_diff12 = timing_ok[0] - timing_ok[1]\n",
    "start_diff12 = start_ok[0] - start_ok[1]\n",
    "timing_diff34 = timing_ok[2] - timing_ok[3]\n",
    "start_diff34 = start_ok[2] - start_ok[3]\n",
    "\n",
    "timing_diff13 = timing_ok[0] - timing_ok[2]\n",
    "start_diff13 = start_ok[0] - start_ok[2]\n",
    "\n",
    "timing_diff14 = timing_ok[0] - timing_ok[2]\n",
    "start_diff14 = start_ok[0] - start_ok[2]"
   ]
  },
  {
   "cell_type": "code",
   "execution_count": 301,
   "metadata": {
    "collapsed": true,
    "run_control": {
     "frozen": false,
     "read_only": false
    }
   },
   "outputs": [],
   "source": [
    "fig = plt.figure()\n",
    "ax = fig.gca()\n",
    "colors = sns.color_palette(n_colors=3)\n",
    "for t, c in zip([timing_diff14, -start_diff14],\n",
    "                colors):\n",
    "    ax_ = ax.twinx()\n",
    "    ax_.plot(t, color=c)"
   ]
  },
  {
   "cell_type": "markdown",
   "metadata": {},
   "source": [
    "### Evaluation"
   ]
  },
  {
   "cell_type": "code",
   "execution_count": null,
   "metadata": {
    "collapsed": true,
    "run_control": {
     "frozen": false,
     "read_only": false
    }
   },
   "outputs": [],
   "source": [
    "offsets = {cam: timed_events[cam][synchronization_events_idx[cam]]['timing'] for cam in cameras}\n",
    "pairs = find_event_pairs(timed_events, cameras, offsets)\n",
    "synchronization_errors = \\\n",
    "(timed_events[cameras[0]][pairs[cameras[0]]]['timing'] - offsets[cameras[0]]) - \\\n",
    "(timed_events[cameras[1]][pairs[cameras[1]]]['timing'] - offsets[cameras[1]])"
   ]
  },
  {
   "cell_type": "code",
   "execution_count": 475,
   "metadata": {
    "collapsed": false,
    "run_control": {
     "frozen": false,
     "read_only": false
    },
    "scrolled": true
   },
   "outputs": [
    {
     "data": {
      "text/html": [
       "<table>\n",
       "<tr><th style=\"text-align: right;\">  cam1 [ms]</th><th style=\"text-align: right;\">  cam1 start [px]</th><th style=\"text-align: right;\">  cam1 sub [ms]</th><th style=\"text-align: right;\">  cam2 [ms]</th><th style=\"text-align: right;\">  cam2 start [px]</th><th style=\"text-align: right;\">  cam2 sub [ms]</th><th style=\"text-align: right;\">  cam3 [ms]</th><th style=\"text-align: right;\">  cam3 start [px]</th><th style=\"text-align: right;\">  cam3 sub [ms]</th><th style=\"text-align: right;\">  cam4 [ms]</th><th style=\"text-align: right;\">  cam4 start [px]</th><th style=\"text-align: right;\">  cam4 sub [ms]</th><th style=\"text-align: right;\">  diff 3 1 [ms]</th><th style=\"text-align: right;\">  diff start 3 1 [px]</th><th style=\"text-align: right;\">  diff sub 3 1 [ms]</th><th style=\"text-align: right;\">  diff start linfit resid 3 1 [px]</th><th style=\"text-align: right;\">  diff 3 2 [ms]</th><th style=\"text-align: right;\">  diff start 3 2 [px]</th><th style=\"text-align: right;\">  diff sub 3 2 [ms]</th><th style=\"text-align: right;\">  diff start linfit resid 3 2 [px]</th><th style=\"text-align: right;\">  diff 3 4 [ms]</th><th style=\"text-align: right;\">  diff start 3 4 [px]</th><th style=\"text-align: right;\">  diff sub 3 4 [ms]</th><th style=\"text-align: right;\">  diff start linfit resid 3 4 [px]</th></tr>\n",
       "<tr><td style=\"text-align: right;\">      70779</td><td style=\"text-align: right;\">              233</td><td style=\"text-align: right;\">        70743.3</td><td style=\"text-align: right;\">      64697</td><td style=\"text-align: right;\">             1246</td><td style=\"text-align: right;\">        64680.1</td><td style=\"text-align: right;\">     108273</td><td style=\"text-align: right;\">              238</td><td style=\"text-align: right;\">         108246</td><td style=\"text-align: right;\">      94637</td><td style=\"text-align: right;\">               81</td><td style=\"text-align: right;\">        94601.5</td><td style=\"text-align: right;\">          37494</td><td style=\"text-align: right;\">                    5</td><td style=\"text-align: right;\">            37502.9</td><td style=\"text-align: right;\">                        -170.281  </td><td style=\"text-align: right;\">          43576</td><td style=\"text-align: right;\">                -1008</td><td style=\"text-align: right;\">            43566.1</td><td style=\"text-align: right;\">                         -218.736 </td><td style=\"text-align: right;\">          13636</td><td style=\"text-align: right;\">                  157</td><td style=\"text-align: right;\">            13644.7</td><td style=\"text-align: right;\">                         1.37423  </td></tr>\n",
       "<tr><td style=\"text-align: right;\">      76860</td><td style=\"text-align: right;\">              936</td><td style=\"text-align: right;\">        76837.3</td><td style=\"text-align: right;\">      70779</td><td style=\"text-align: right;\">             1968</td><td style=\"text-align: right;\">        70775.4</td><td style=\"text-align: right;\">     114353</td><td style=\"text-align: right;\">              551</td><td style=\"text-align: right;\">         114344</td><td style=\"text-align: right;\">     100716</td><td style=\"text-align: right;\">              388</td><td style=\"text-align: right;\">       100698  </td><td style=\"text-align: right;\">          37493</td><td style=\"text-align: right;\">                 -385</td><td style=\"text-align: right;\">            37506.3</td><td style=\"text-align: right;\">                         215.997  </td><td style=\"text-align: right;\">          43574</td><td style=\"text-align: right;\">                -1417</td><td style=\"text-align: right;\">            43568.2</td><td style=\"text-align: right;\">                          186.882 </td><td style=\"text-align: right;\">          13637</td><td style=\"text-align: right;\">                  163</td><td style=\"text-align: right;\">            13646.1</td><td style=\"text-align: right;\">                        -0.537212 </td></tr>\n",
       "<tr><td style=\"text-align: right;\">      88943</td><td style=\"text-align: right;\">              890</td><td style=\"text-align: right;\">        88919.5</td><td style=\"text-align: right;\">      82862</td><td style=\"text-align: right;\">             1922</td><td style=\"text-align: right;\">        82857.6</td><td style=\"text-align: right;\">     126432</td><td style=\"text-align: right;\">              630</td><td style=\"text-align: right;\">         126427</td><td style=\"text-align: right;\">     112796</td><td style=\"text-align: right;\">              458</td><td style=\"text-align: right;\">       112781  </td><td style=\"text-align: right;\">          37489</td><td style=\"text-align: right;\">                 -260</td><td style=\"text-align: right;\">            37507.5</td><td style=\"text-align: right;\">                          83.6002 </td><td style=\"text-align: right;\">          43570</td><td style=\"text-align: right;\">                -1292</td><td style=\"text-align: right;\">            43569.4</td><td style=\"text-align: right;\">                           55.1638</td><td style=\"text-align: right;\">          13636</td><td style=\"text-align: right;\">                  172</td><td style=\"text-align: right;\">            13645.6</td><td style=\"text-align: right;\">                        -1.41457  </td></tr>\n",
       "<tr><td style=\"text-align: right;\">     327168</td><td style=\"text-align: right;\">              902</td><td style=\"text-align: right;\">       327145  </td><td style=\"text-align: right;\">     321089</td><td style=\"text-align: right;\">             1916</td><td style=\"text-align: right;\">       321084  </td><td style=\"text-align: right;\">     364658</td><td style=\"text-align: right;\">              536</td><td style=\"text-align: right;\">         364648</td><td style=\"text-align: right;\">     351029</td><td style=\"text-align: right;\">              204</td><td style=\"text-align: right;\">       351000  </td><td style=\"text-align: right;\">          37490</td><td style=\"text-align: right;\">                 -366</td><td style=\"text-align: right;\">            37503.1</td><td style=\"text-align: right;\">                          43.7278 </td><td style=\"text-align: right;\">          43569</td><td style=\"text-align: right;\">                -1380</td><td style=\"text-align: right;\">            43563.3</td><td style=\"text-align: right;\">                           10.6604</td><td style=\"text-align: right;\">          13629</td><td style=\"text-align: right;\">                  332</td><td style=\"text-align: right;\">            13647.4</td><td style=\"text-align: right;\">                        -1.21716  </td></tr>\n",
       "<tr><td style=\"text-align: right;\">     333849</td><td style=\"text-align: right;\">              486</td><td style=\"text-align: right;\">       333818  </td><td style=\"text-align: right;\">     327771</td><td style=\"text-align: right;\">             1491</td><td style=\"text-align: right;\">       327759  </td><td style=\"text-align: right;\">     371337</td><td style=\"text-align: right;\">              432</td><td style=\"text-align: right;\">         371321</td><td style=\"text-align: right;\">     357708</td><td style=\"text-align: right;\">               98</td><td style=\"text-align: right;\">       357673  </td><td style=\"text-align: right;\">          37488</td><td style=\"text-align: right;\">                  -54</td><td style=\"text-align: right;\">            37503  </td><td style=\"text-align: right;\">                        -272.362  </td><td style=\"text-align: right;\">          43566</td><td style=\"text-align: right;\">                -1059</td><td style=\"text-align: right;\">            43562.4</td><td style=\"text-align: right;\">                          nan     </td><td style=\"text-align: right;\">          13629</td><td style=\"text-align: right;\">                  334</td><td style=\"text-align: right;\">            13647.6</td><td style=\"text-align: right;\">                         1.2742   </td></tr>\n",
       "<tr><td style=\"text-align: right;\">     401427</td><td style=\"text-align: right;\">             1965</td><td style=\"text-align: right;\">       401423  </td><td style=\"text-align: right;\">     395389</td><td style=\"text-align: right;\">              339</td><td style=\"text-align: right;\">       395355  </td><td style=\"text-align: right;\">     438933</td><td style=\"text-align: right;\">              530</td><td style=\"text-align: right;\">         438922</td><td style=\"text-align: right;\">     425306</td><td style=\"text-align: right;\">              152</td><td style=\"text-align: right;\">       425274  </td><td style=\"text-align: right;\">          37506</td><td style=\"text-align: right;\">                -1435</td><td style=\"text-align: right;\">            37499.1</td><td style=\"text-align: right;\">                         nan      </td><td style=\"text-align: right;\">          43544</td><td style=\"text-align: right;\">                  191</td><td style=\"text-align: right;\">            43567.2</td><td style=\"text-align: right;\">                          nan     </td><td style=\"text-align: right;\">          13627</td><td style=\"text-align: right;\">                  378</td><td style=\"text-align: right;\">            13648  </td><td style=\"text-align: right;\">                         2.7298   </td></tr>\n",
       "<tr><td style=\"text-align: right;\">     413471</td><td style=\"text-align: right;\">              438</td><td style=\"text-align: right;\">       413439  </td><td style=\"text-align: right;\">     407393</td><td style=\"text-align: right;\">             1436</td><td style=\"text-align: right;\">       407380  </td><td style=\"text-align: right;\">     450973</td><td style=\"text-align: right;\">               60</td><td style=\"text-align: right;\">         450936</td><td style=\"text-align: right;\">     437306</td><td style=\"text-align: right;\">              648</td><td style=\"text-align: right;\">       437302  </td><td style=\"text-align: right;\">          37502</td><td style=\"text-align: right;\">                 -378</td><td style=\"text-align: right;\">            37497.2</td><td style=\"text-align: right;\">                           2.87469</td><td style=\"text-align: right;\">          43580</td><td style=\"text-align: right;\">                -1376</td><td style=\"text-align: right;\">            43556.7</td><td style=\"text-align: right;\">                          -41.3488</td><td style=\"text-align: right;\">          13667</td><td style=\"text-align: right;\">                 -588</td><td style=\"text-align: right;\">            13634.3</td><td style=\"text-align: right;\">                       nan        </td></tr>\n",
       "<tr><td style=\"text-align: right;\">     477368</td><td style=\"text-align: right;\">              697</td><td style=\"text-align: right;\">       477341  </td><td style=\"text-align: right;\">     471290</td><td style=\"text-align: right;\">             1693</td><td style=\"text-align: right;\">       471281  </td><td style=\"text-align: right;\">     514848</td><td style=\"text-align: right;\">              654</td><td style=\"text-align: right;\">         514844</td><td style=\"text-align: right;\">     501224</td><td style=\"text-align: right;\">              220</td><td style=\"text-align: right;\">       501196  </td><td style=\"text-align: right;\">          37480</td><td style=\"text-align: right;\">                  -43</td><td style=\"text-align: right;\">            37503.4</td><td style=\"text-align: right;\">                         nan      </td><td style=\"text-align: right;\">          43558</td><td style=\"text-align: right;\">                -1039</td><td style=\"text-align: right;\">            43563  </td><td style=\"text-align: right;\">                          nan     </td><td style=\"text-align: right;\">          13624</td><td style=\"text-align: right;\">                  434</td><td style=\"text-align: right;\">            13648.1</td><td style=\"text-align: right;\">                        -2.22042  </td></tr>\n",
       "<tr><td style=\"text-align: right;\">     543546</td><td style=\"text-align: right;\">              621</td><td style=\"text-align: right;\">       543518  </td><td style=\"text-align: right;\">     537469</td><td style=\"text-align: right;\">             1610</td><td style=\"text-align: right;\">       537459  </td><td style=\"text-align: right;\">     581044</td><td style=\"text-align: right;\">              161</td><td style=\"text-align: right;\">         581013</td><td style=\"text-align: right;\">     567382</td><td style=\"text-align: right;\">              666</td><td style=\"text-align: right;\">       567379  </td><td style=\"text-align: right;\">          37498</td><td style=\"text-align: right;\">                 -460</td><td style=\"text-align: right;\">            37495.4</td><td style=\"text-align: right;\">                           5.22859</td><td style=\"text-align: right;\">          43575</td><td style=\"text-align: right;\">                -1449</td><td style=\"text-align: right;\">            43554.1</td><td style=\"text-align: right;\">                          -40.6955</td><td style=\"text-align: right;\">          13662</td><td style=\"text-align: right;\">                 -505</td><td style=\"text-align: right;\">            13633.9</td><td style=\"text-align: right;\">                       nan        </td></tr>\n",
       "<tr><td style=\"text-align: right;\">     605602</td><td style=\"text-align: right;\">              547</td><td style=\"text-align: right;\">       605572  </td><td style=\"text-align: right;\">     599526</td><td style=\"text-align: right;\">             1532</td><td style=\"text-align: right;\">       599514  </td><td style=\"text-align: right;\">     643081</td><td style=\"text-align: right;\">              620</td><td style=\"text-align: right;\">         643075</td><td style=\"text-align: right;\">     629460</td><td style=\"text-align: right;\">              102</td><td style=\"text-align: right;\">       629426  </td><td style=\"text-align: right;\">          37479</td><td style=\"text-align: right;\">                   73</td><td style=\"text-align: right;\">            37503.3</td><td style=\"text-align: right;\">                         nan      </td><td style=\"text-align: right;\">          43555</td><td style=\"text-align: right;\">                 -912</td><td style=\"text-align: right;\">            43561.1</td><td style=\"text-align: right;\">                          nan     </td><td style=\"text-align: right;\">          13621</td><td style=\"text-align: right;\">                  518</td><td style=\"text-align: right;\">            13649.8</td><td style=\"text-align: right;\">                         0.0111233</td></tr>\n",
       "<tr><td style=\"text-align: right;\">     607523</td><td style=\"text-align: right;\">             1916</td><td style=\"text-align: right;\">       607518  </td><td style=\"text-align: right;\">     601487</td><td style=\"text-align: right;\">              267</td><td style=\"text-align: right;\">       601452  </td><td style=\"text-align: right;\">     645040</td><td style=\"text-align: right;\">              162</td><td style=\"text-align: right;\">         645009</td><td style=\"text-align: right;\">     631380</td><td style=\"text-align: right;\">              621</td><td style=\"text-align: right;\">       631374  </td><td style=\"text-align: right;\">          37517</td><td style=\"text-align: right;\">                -1754</td><td style=\"text-align: right;\">            37490.5</td><td style=\"text-align: right;\">                         nan      </td><td style=\"text-align: right;\">          43553</td><td style=\"text-align: right;\">                 -105</td><td style=\"text-align: right;\">            43557.1</td><td style=\"text-align: right;\">                          nan     </td><td style=\"text-align: right;\">          13660</td><td style=\"text-align: right;\">                 -459</td><td style=\"text-align: right;\">            13634.5</td><td style=\"text-align: right;\">                       nan        </td></tr>\n",
       "<tr><td style=\"text-align: right;\">     664418</td><td style=\"text-align: right;\">              821</td><td style=\"text-align: right;\">       664393  </td><td style=\"text-align: right;\">     658342</td><td style=\"text-align: right;\">             1806</td><td style=\"text-align: right;\">       658335  </td><td style=\"text-align: right;\">     701917</td><td style=\"text-align: right;\">              201</td><td style=\"text-align: right;\">         701888</td><td style=\"text-align: right;\">     688258</td><td style=\"text-align: right;\">              623</td><td style=\"text-align: right;\">       688253  </td><td style=\"text-align: right;\">          37499</td><td style=\"text-align: right;\">                 -620</td><td style=\"text-align: right;\">            37495  </td><td style=\"text-align: right;\">                          91.2147 </td><td style=\"text-align: right;\">          43575</td><td style=\"text-align: right;\">                -1605</td><td style=\"text-align: right;\">            43552.7</td><td style=\"text-align: right;\">                           48.0739</td><td style=\"text-align: right;\">          13659</td><td style=\"text-align: right;\">                 -422</td><td style=\"text-align: right;\">            13635.6</td><td style=\"text-align: right;\">                       nan        </td></tr>\n",
       "</table>"
      ],
      "text/plain": [
       "<IPython.core.display.HTML object>"
      ]
     },
     "execution_count": 475,
     "metadata": {},
     "output_type": "execute_result"
    }
   ],
   "source": [
    "def events_table_histogram(events, base_cam):\n",
    "    t = []\n",
    "    headers = []\n",
    "    for cam, e in events.iteritems():        \n",
    "        t.extend([\n",
    "            e['timing'],\n",
    "            e['start'],\n",
    "            e['timing'] - get_subframe_timing(cam, events),\n",
    "            # e['end']                \n",
    "            ])\n",
    "        headers.extend([\n",
    "            'cam%d [ms]' % cam,\n",
    "            'cam%d start [px]' % cam,\n",
    "            'cam%d sub [ms]' % cam,            \n",
    "            # 'cam%d end [px]' % cam\n",
    "            ])\n",
    "        \n",
    "    for cam in set(events.keys()) - set([base_cam]):\n",
    "        X = events[base_cam]['timing'].reshape((-1, 1))\n",
    "        y = events[base_cam]['start'] - events[cam]['start']        \n",
    "        resid, model = flash_start_linear_fit(X, y)\n",
    "        resid[~model.inlier_mask_] = np.nan\n",
    "        t.extend([\n",
    "                events[base_cam]['timing'] - events[cam]['timing'],\n",
    "                events[base_cam]['start'] - events[cam]['start'],\n",
    "                (events[base_cam]['timing'] - get_subframe_timing(base_cam, events)) -\n",
    "                (events[cam]['timing'] - get_subframe_timing(cam, events)),\n",
    "                resid,\n",
    "            ])\n",
    "        headers.extend([\n",
    "                'diff %d %d [ms]' % (base_cam, cam),\n",
    "                'diff start %d %d [px]' % (base_cam, cam),\n",
    "                'diff sub %d %d [ms]' % (base_cam, cam),\n",
    "                'diff start linfit resid %d %d [px]' % (base_cam, cam),\n",
    "            ])\n",
    "        \n",
    "    table = np.vstack(t).T\n",
    "    html_table = HTML(tabulate(table, headers=headers, tablefmt='html'))\n",
    "\n",
    "#     plt.figure()\n",
    "#     __ = plt.hist(t[:, 5], 100)\n",
    "#     plt.title('Synchronized events lead-in line difference')\n",
    "#     plt.xlabel('difference [px]')\n",
    "#     plt.ylabel('count')\n",
    "    return html_table, table, headers\n",
    "    \n",
    "html_table, table, headers = events_table_histogram(matched_events_ok, 3)\n",
    "#     {cam: matched_events[cam][['timing', 'start', 'end']] for cam in cameras}, 1)\n",
    "html_table"
   ]
  },
  {
   "cell_type": "code",
   "execution_count": 223,
   "metadata": {
    "collapsed": false,
    "run_control": {
     "frozen": false,
     "read_only": false
    }
   },
   "outputs": [
    {
     "data": {
      "text/plain": [
       "<matplotlib.legend.Legend at 0x7fde6fb73f90>"
      ]
     },
     "execution_count": 223,
     "metadata": {},
     "output_type": "execute_result"
    }
   ],
   "source": [
    "ax = plt.gca()\n",
    "ax2 = ax.twinx()\n",
    "ax.plot(matched_events_ok[1]['timing'] - matched_events_ok[2]['timing'], 'r', label='diff timing')\n",
    "ax2.plot(matched_events_ok[1]['start'] - matched_events_ok[2]['start'], 'b', label='diff start')\n",
    "plt.legend()\n",
    "np.corrcoef()"
   ]
  },
  {
   "cell_type": "code",
   "execution_count": 310,
   "metadata": {
    "collapsed": false,
    "run_control": {
     "frozen": false,
     "read_only": false
    }
   },
   "outputs": [],
   "source": [
    "from sklearn import linear_model\n",
    "\n",
    "def flash_start_linear_fit(X, y=None):\n",
    "    model = linear_model.LinearRegression()\n",
    "    model.fit(X.reshape((-1, 1)), y)\n",
    "    model_ransac = linear_model.RANSACRegressor(linear_model.LinearRegression())\n",
    "    model_ransac.fit(X, y)\n",
    "    residuals = model_ransac.predict(X).flatten() - y\n",
    "    return residuals, model_ransac    "
   ]
  },
  {
   "cell_type": "code",
   "execution_count": 425,
   "metadata": {
    "collapsed": false,
    "run_control": {
     "frozen": false,
     "read_only": false
    }
   },
   "outputs": [],
   "source": [
    "def fit_timing_plus_start(cam1, cam2, events):\n",
    "    model = linear_model.LinearRegression()\n",
    "    n = len(events[cam1])\n",
    "    X = np.vstack((\n",
    "        events[cam1]['start'],\n",
    "        -events[cam2]['start'],\n",
    "        )).T\n",
    "    y = events[cam2]['timing'] - events[cam1]['timing']\n",
    "    model.fit(X, y)\n",
    "    model_ransac = linear_model.RANSACRegressor(linear_model.LinearRegression())\n",
    "    model_ransac.fit(X, y)  \n",
    "    return model_ransac"
   ]
  },
  {
   "cell_type": "code",
   "execution_count": 474,
   "metadata": {
    "collapsed": false,
    "run_control": {
     "frozen": false,
     "read_only": false
    }
   },
   "outputs": [
    {
     "name": "stdout",
     "output_type": "stream",
     "text": [
      "1 2 0.825212576434 [-6055.8827775533     0.0126226455     0.018470428 ] 2\n",
      "1 3 2.02791270446 [ 37496.8054488397      0.0140761495      0.0363956651] 0\n",
      "1 4 1.2819488587 [ 23856.543286827       0.0146998499      0.0440536733] 1\n",
      "2 3 2.96377051776 [ 43554.3023508892      0.0171491738      0.0335837903] 1\n",
      "2 4 3.03446240005 [ 29917.5509841792      0.0170837489      0.0462089811] 0\n",
      "3 4 0.643085265206 [-13641.9766861652      0.0398184755      0.0406977203] 0\n"
     ]
    },
    {
     "data": {
      "text/plain": [
       "<matplotlib.legend.Legend at 0x7fde0f111e90>"
      ]
     },
     "execution_count": 474,
     "metadata": {},
     "output_type": "execute_result"
    }
   ],
   "source": [
    "for i, j in itertools.combinations(cameras, 2): # [[1, 2]]: # itertools.combinations(cameras, 2):   \n",
    "    events_ij = get_matched_events([i, j], timed_events, event_selection_idx, min(i, j), obsolete_regions)\n",
    "    model = fit_timing_plus_start(i, j, matched_events_ok)\n",
    "    coef = np.concatenate((model.estimator_.intercept_, model.estimator_.coef_[0]))\n",
    "    delay = (matched_events_ok[i]['timing'] + coef[1] * matched_events_ok[i]['start']) - \\\n",
    "            (matched_events_ok[j]['timing'] + coef[2] * matched_events_ok[j]['start']) + \\\n",
    "            coef[0]\n",
    "    #print delay[model.inlier_mask_]\n",
    "    print i, j, delay[model.inlier_mask_].std(), coef, np.count_nonzero(~model.inlier_mask_)\n",
    "    # print delay[model.inlier_mask_]\n",
    "    plt.plot(delay[model.inlier_mask_], label='%d %d (std: %f)' % (i, j, delay[model.inlier_mask_].std()))\n",
    "    \n",
    "plt.legend()\n",
    "\n",
    "#     print delay \n",
    "# (delay + model.intercept_).std()    \n",
    "# print model_ransac.inlier_mask_\n",
    "# print model.coef_`\n",
    "# print model_ransac.estimator_.coef_\n",
    "# print model.intercept_\n",
    "# print model_ransac.estimator_.intercept_"
   ]
  },
  {
   "cell_type": "code",
   "execution_count": null,
   "metadata": {
    "collapsed": true,
    "run_control": {
     "frozen": false,
     "read_only": false
    }
   },
   "outputs": [],
   "source": []
  },
  {
   "cell_type": "code",
   "execution_count": 468,
   "metadata": {
    "collapsed": false,
    "run_control": {
     "frozen": false,
     "read_only": false
    }
   },
   "outputs": [
    {
     "data": {
      "text/plain": [
       "array([ 80.,  40.,  40.,  40.,  40.,  40.,  40.,  40.,  40.,  80.,  40.,  80.])"
      ]
     },
     "execution_count": 468,
     "metadata": {},
     "output_type": "execute_result"
    }
   ],
   "source": [
    "cam = 4\n",
    "np.set_printoptions(precision=10)\n",
    "np.diff(sync.get_timings()[cam][features_start[cam]:])[matched_events_ok[cam]['frame']]"
   ]
  },
  {
   "cell_type": "code",
   "execution_count": null,
   "metadata": {
    "collapsed": true,
    "run_control": {
     "frozen": false,
     "read_only": false
    }
   },
   "outputs": [],
   "source": [
    "3864, 2202 # https://www.sony.net/Products/SC-HP/sensor/img/product/cmos/STARVIS_Brochure_E.\n",
    "4112 (H) × 2176 (V) # http://www.sony.net/Products/SC-HP/new_pro/february_2016/imx253_255_e.html"
   ]
  },
  {
   "cell_type": "code",
   "execution_count": 444,
   "metadata": {
    "collapsed": false,
    "run_control": {
     "frozen": false,
     "read_only": false
    }
   },
   "outputs": [
    {
     "data": {
      "text/plain": [
       "{0: (1944, 2592, 3),\n",
       " 1: (2160, 3840, 3),\n",
       " 2: (2160, 3840, 3),\n",
       " 3: (720, 1280, 3),\n",
       " 4: (720, 1280, 3)}"
      ]
     },
     "execution_count": 444,
     "metadata": {},
     "output_type": "execute_result"
    }
   ],
   "source": [
    "images_dimensions"
   ]
  },
  {
   "cell_type": "code",
   "execution_count": 320,
   "metadata": {
    "collapsed": false,
    "run_control": {
     "frozen": false,
     "read_only": false
    }
   },
   "outputs": [
    {
     "name": "stdout",
     "output_type": "stream",
     "text": [
      "[ 1.37 -0.54 -1.41 -1.22  1.27  2.73 -2.22  0.01]\n",
      "1.5678545116\n",
      "4\n"
     ]
    }
   ],
   "source": [
    "cam1 = 3\n",
    "cam2 = 4\n",
    "X = matched_events_ok[cam1]['timing'].reshape((-1, 1))\n",
    "y = matched_events_ok[cam1]['start'] - matched_events_ok[cam2]['start']\n",
    "resid, model = flash_start_linear_fit(X, y)\n",
    "print resid[model.inlier_mask_]\n",
    "print resid[model.inlier_mask_].std()\n",
    "print np.count_nonzero(~model.inlier_mask_)"
   ]
  },
  {
   "cell_type": "code",
   "execution_count": 321,
   "metadata": {
    "collapsed": false,
    "run_control": {
     "frozen": false,
     "read_only": false
    }
   },
   "outputs": [
    {
     "name": "stdout",
     "output_type": "stream",
     "text": [
      "[ -0.3   80.01  38.64   0.9    6.1   -9.14  72.27 -57.94 -35.91 -34.07 -45.95 -14.62]\n",
      "42.200328401\n",
      "0\n"
     ]
    }
   ],
   "source": [
    "X = (matched_events_ok[cam1]['timing'] - get_subframe_timing(cam1, matched_events_ok)) - \\\n",
    "    (matched_events_ok[cam2]['timing'] - get_subframe_timing(cam2, matched_events_ok))\n",
    "resid, model = flash_start_linear_fit(X.reshape((-1, 1)), y)\n",
    "print resid[model.inlier_mask_]\n",
    "print resid[model.inlier_mask_].std()\n",
    "print np.count_nonzero(~model.inlier_mask_)    "
   ]
  },
  {
   "cell_type": "code",
   "execution_count": null,
   "metadata": {
    "collapsed": true,
    "run_control": {
     "frozen": false,
     "read_only": false
    }
   },
   "outputs": [],
   "source": [
    "cam1 = 1\n",
    "cam2 = 2\n",
    "X = matched_events_ok[cam1]['start'] - matched_events_ok[cam2]['start']\n",
    "y = \n",
    "resid, model = flash_start_linear_fit(X, y)\n",
    "print resid[model.inlier_mask_]\n",
    "print resid[model.inlier_mask_].std()\n",
    "print np.count_nonzero(~model.inlier_mask_)"
   ]
  },
  {
   "cell_type": "code",
   "execution_count": 176,
   "metadata": {
    "collapsed": false,
    "run_control": {
     "frozen": false,
     "read_only": false
    }
   },
   "outputs": [],
   "source": [
    "cam = 2\n",
    "frame = matched_events_ok[cam][5]['frame']\n",
    "f2d = np.diff(features[cam].astype(float), axis=1)\n",
    "plot_frame_with_profile(cam, frame, features, diff2d=f2d)"
   ]
  },
  {
   "cell_type": "code",
   "execution_count": 476,
   "metadata": {
    "collapsed": false,
    "run_control": {
     "frozen": false,
     "read_only": false
    }
   },
   "outputs": [],
   "source": [
    "np.savetxt('4cameras_ok.csv', table, header=','.join(headers), delimiter=',', fmt='%06f')"
   ]
  },
  {
   "cell_type": "markdown",
   "metadata": {},
   "source": [
    "### Vertical Flash Position Regression"
   ]
  },
  {
   "cell_type": "code",
   "execution_count": 554,
   "metadata": {
    "collapsed": false
   },
   "outputs": [
    {
     "name": "stdout",
     "output_type": "stream",
     "text": [
      "[  -12.7524579964     6.7227525698     3.148027344      7.6670001067 -2628.9483614445 -2474.2292547794 -2620.9664155753 -2622.70163323\n",
      "     2.4047245369    -0.7130321316   -13.824458911      2.5319685503     8.2835166571    -0.1943847089    -2.0744188742   -19.6231106943\n",
      "    -1.1353184966 -2625.9133816428    -0.9721818303    -0.987297968    596.4222693034     2.0211629405    -3.9266139544  -986.84787581\n",
      "     0.1927605154    -3.0725034636 -2624.9473904696     1.0422370651 -2632.8076429715     5.6385180491]\n"
     ]
    },
    {
     "data": {
      "text/plain": [
       "[<matplotlib.lines.Line2D at 0x7fddfd978590>]"
      ]
     },
     "execution_count": 554,
     "metadata": {},
     "output_type": "execute_result"
    }
   ],
   "source": [
    "i = cam1 = 1\n",
    "j = cam2 = 2\n",
    "events_ij = get_matched_events([i, j], timed_events, event_selection_idx, min(i, j), obsolete_regions)\n",
    "model = linear_model.LinearRegression()\n",
    "n = len(events[cam1])\n",
    "X = np.vstack((\n",
    "    events_ij[cam1]['timing'],\n",
    "    )).T\n",
    "y = events_ij[cam1]['start'] - events_ij[cam2]['start']\n",
    "model.fit(X, y)\n",
    "model_ransac = linear_model.RANSACRegressor(linear_model.LinearRegression())\n",
    "model_ransac.fit(X, y)\n",
    "print model_ransac.predict(X).flatten() - y\n",
    "plt.plot(X.flatten(), y, '.')\n",
    "plt.plot(X[~model_ransac.inlier_mask_], y[~model_ransac.inlier_mask_], 'o')\n",
    "x = X.flatten()\n",
    "x12 = x[[0, -1]]\n",
    "plt.plot(x12, x12 * model_ransac.estimator_.coef_[0] + model_ransac.estimator_.intercept_)"
   ]
  },
  {
   "cell_type": "code",
   "execution_count": 555,
   "metadata": {
    "collapsed": false
   },
   "outputs": [],
   "source": [
    "# 2625 978 "
   ]
  },
  {
   "cell_type": "code",
   "execution_count": 543,
   "metadata": {
    "collapsed": false
   },
   "outputs": [
    {
     "name": "stdout",
     "output_type": "stream",
     "text": [
      "------  ------  ----  ----  -----  -\n",
      " 70779   64697   233  1246  -1013  1\n",
      " 76860   70779   936  1968  -1032  1\n",
      " 82302   76221   729  1757  -1028  1\n",
      " 88943   82862   890  1922  -1032  1\n",
      " 93865   87824  1708   103   1605  0\n",
      "103067   96986  1957   506   1451  0\n",
      "183209  177168  1834   230   1604  0\n",
      "237783  231744  1656    46   1610  0\n",
      "239144  233064   893  1908  -1015  1\n",
      "263230  257151   564  1574  -1010  1\n",
      "287397  281317   217  1212   -995  1\n",
      "291958  285879   805  1816  -1011  1\n",
      "327168  321089   902  1916  -1014  1\n",
      "333849  327771   486  1491  -1005  1\n",
      "360977  354898   577  1578  -1001  1\n",
      "392345  386267   243  1224   -981  0\n",
      "398587  392509   341  1340   -999  1\n",
      "401427  395389  1965   339   1626  0\n",
      "413471  407393   438  1436   -998  1\n",
      "426074  419996  1121  2118   -997  1\n",
      "431315  425237   396  1990  -1594  0\n",
      "477368  471290   697  1693   -996  1\n",
      "529222  523145  1030  2016   -986  1\n",
      "543026  536949  1967  1969     -2  0\n",
      "543546  537469   621  1610   -989  1\n",
      "552948  546872  1044  2029   -985  1\n",
      "554549  548512  1725    88   1637  0\n",
      "605602  599526   547  1532   -985  1\n",
      "607523  601487  1916   267   1649  0\n",
      "664418  658342   821  1806   -985  1\n",
      "------  ------  ----  ----  -----  -\n"
     ]
    }
   ],
   "source": [
    "table = np.vstack((\n",
    "        events_ij[cam1]['timing'],\n",
    "        events_ij[cam2]['timing'],\n",
    "        events_ij[cam1]['start'],\n",
    "        events_ij[cam2]['start'],\n",
    "        events_ij[cam1]['start'] - events_ij[cam2]['start'],\n",
    "        model_ransac.inlier_mask_\n",
    "        )).T\n",
    "\n",
    "print tabulate(table)\n"
   ]
  },
  {
   "cell_type": "code",
   "execution_count": 546,
   "metadata": {
    "collapsed": false
   },
   "outputs": [
    {
     "data": {
      "text/plain": [
       "[<matplotlib.lines.Line2D at 0x7fddffcb3c50>]"
      ]
     },
     "execution_count": 546,
     "metadata": {},
     "output_type": "execute_result"
    }
   ],
   "source": [
    "plt.plot(events_ij[cam1]['timing'], events_ij[cam1]['start'], 'r.')\n",
    "plt.plot(events_ij[cam1]['timing'][~model_ransac.inlier_mask_], \n",
    "         events_ij[cam1]['start'][~model_ransac.inlier_mask_], 'ro')\n",
    "plt.plot(events_ij[cam1]['timing'], events_ij[cam2]['start'], 'g.')\n",
    "plt.plot(events_ij[cam1]['timing'][~model_ransac.inlier_mask_], \n",
    "         events_ij[cam2]['start'][~model_ransac.inlier_mask_], 'go')\n"
   ]
  },
  {
   "cell_type": "code",
   "execution_count": 525,
   "metadata": {
    "collapsed": false
   },
   "outputs": [
    {
     "data": {
      "text/plain": [
       "array([-2628.9483614445, -2474.2292547794, -2620.9664155753, -2622.70163323  ,   -19.6231106943, -2625.9133816428,   596.4222693034,  -986.84787581  ,\n",
       "       -2624.9473904696, -2632.8076429715])"
      ]
     },
     "execution_count": 525,
     "metadata": {},
     "output_type": "execute_result"
    }
   ],
   "source": [
    "(model_ransac.predict(X).flatten() - y)[~model_ransac.inlier_mask_]"
   ]
  },
  {
   "cell_type": "markdown",
   "metadata": {},
   "source": [
    "### Start Event Detection Check"
   ]
  },
  {
   "cell_type": "code",
   "execution_count": 560,
   "metadata": {
    "collapsed": false
   },
   "outputs": [
    {
     "name": "stdout",
     "output_type": "stream",
     "text": [
      "30\n",
      "26\n",
      "28\n",
      "21\n",
      "23\n",
      "18\n"
     ]
    }
   ],
   "source": [
    "for i, j in itertools.combinations(cameras, 2):\n",
    "    events_ij = get_matched_events([i, j], timed_events, event_selection_idx, min(i, j), obsolete_regions)\n",
    "    print len(events_ij[i])"
   ]
  },
  {
   "cell_type": "code",
   "execution_count": 562,
   "metadata": {
    "collapsed": false
   },
   "outputs": [
    {
     "data": {
      "text/plain": [
       "{1: array([(96, 233.0, 1000.0, 96.10787037037036, 70779.0), (248, 936.0, 1969.0, 248.43333333333334, 76860.0), (382, 729.0, 1477.0, 382.3375, 82302.0),\n",
       "        (546, 890.0, 1637.0, 546.4120370370371, 88943.0), (667, 1708.0, 2159.0, 667.7907407407407, 93865.0),\n",
       "        (737, 28.0, 232.0, 737.012962962963, 96706.0), (896, 1957.0, 1977.0, 896.9060185185185, 103067.0), (953, 1971.0, 1976.0, 953.9125, 105348.0),\n",
       "        (1430, 1938.0, 2159.0, 1430.8972222222221, 124433.0), (1518, 28.0, 598.0, 1518.012962962963, 127954.0),\n",
       "        (1582, 1701.0, 2159.0, 1582.7875, 130594.0), (2081, 28.0, 591.0, 2081.012962962963, 150760.0),\n",
       "        (2175, 1272.0, 2045.0, 2175.588888888889, 154601.0), (2517, 395.0, 1972.0, 2517.1828703703704, 168365.0),\n",
       "        (2888, 1834.0, 2159.0, 2888.849074074074, 183209.0), (3229, 1506.0, 2159.0, 3229.697222222222, 196893.0),\n",
       "        (3627, 28.0, 235.0, 3627.012962962963, 212897.0), (4055, 1951.0, 1995.0, 4055.903240740741, 230021.0),\n",
       "        (4249, 1656.0, 2159.0, 4249.766666666666, 237783.0), (4281, 893.0, 1638.0, 4281.413425925926, 239144.0),\n",
       "        (4314, 1169.0, 2007.0, 4314.541203703704, 240544.0), (4879, 564.0, 1332.0, 4879.261111111111, 263230.0),\n",
       "        (5005, 28.0, 543.0, 5005.012962962963, 268352.0), (5040, 1324.0, 2095.0, 5040.612962962963, 269832.0),\n",
       "        (5231, 394.0, 1966.0, 5231.1824074074075, 277474.0), (5473, 1976.0, 1977.0, 5473.914814814815, 287157.0),\n",
       "        (5479, 217.0, 974.0, 5479.100462962963, 287397.0), (5590, 805.0, 1547.0, 5590.372685185185, 291958.0),\n",
       "        (5676, 28.0, 672.0, 5676.012962962963, 295519.0), (5785, 28.0, 252.0, 5785.012962962963, 299880.0),\n",
       "        (6466, 902.0, 1645.0, 6466.417592592593, 327168.0), (6631, 486.0, 1240.0, 6631.225, 333849.0),\n",
       "        (7087, 1963.0, 2014.0, 7087.908796296297, 352254.0), (7256, 28.0, 700.0, 7256.012962962963, 359016.0),\n",
       "        (7305, 577.0, 1341.0, 7305.267129629629, 360977.0), (8088, 243.0, 996.0, 8088.1125, 392345.0),\n",
       "        (8243, 341.0, 1107.0, 8243.15787037037, 398587.0), (8313, 1965.0, 2159.0, 8313.909722222223, 401427.0),\n",
       "        (8609, 438.0, 1210.0, 8609.202777777778, 413471.0), (8819, 28.0, 576.0, 8819.012962962963, 421953.0),\n",
       "        (8920, 1121.0, 1872.0, 8920.518981481482, 426074.0), (9049, 396.0, 1977.0, 9049.183333333332, 431315.0),\n",
       "        (9213, 1563.0, 2159.0, 9213.72361111111, 438277.0), (9270, 1392.0, 2139.0, 9270.644444444444, 440638.0),\n",
       "        (10182, 697.0, 1450.0, 10182.322685185185, 477368.0), (10576, 1584.0, 2159.0, 10576.733333333334, 493252.0),\n",
       "        (10754, 1621.0, 2159.0, 10754.750462962964, 500454.0), (11427, 1510.0, 2159.0, 11427.699074074075, 527461.0),\n",
       "        (11469, 1030.0, 1763.0, 11469.476851851852, 529222.0), (11556, 1344.0, 2117.0, 11556.622222222222, 532703.0),\n",
       "        (11814, 1967.0, 1971.0, 11814.910648148149, 543026.0), (11827, 621.0, 1383.0, 11827.2875, 543546.0),\n",
       "        (11829, 1963.0, 2041.0, 11829.908796296297, 543626.0), (12061, 1044.0, 1790.0, 12061.483333333334, 552948.0),\n",
       "        (12099, 1725.0, 2159.0, 12099.798611111111, 554549.0), (12328, 28.0, 1973.0, 12328.012962962963, 563791.0),\n",
       "        (12464, 1953.0, 1978.0, 12464.904166666667, 569312.0), (13261, 1967.0, 1977.0, 13261.910648148149, 601201.0),\n",
       "        (13339, 1414.0, 2138.0, 13339.65462962963, 604322.0), (13370, 547.0, 1307.0, 13370.253240740742, 605602.0),\n",
       "        (13401, 1962.0, 1975.0, 13401.908333333333, 606882.0), (13417, 1916.0, 2159.0, 13417.887037037037, 607523.0),\n",
       "        (14081, 1528.0, 2159.0, 14081.707407407408, 634130.0), (14415, 1974.0, 1977.0, 14415.913888888888, 647574.0),\n",
       "        (14565, 1322.0, 2094.0, 14565.612037037037, 653575.0), (14834, 821.0, 1575.0, 14834.380092592593, 664418.0)], \n",
       "       dtype=[('frame', '<i8'), ('start', '<f8'), ('end', '<f8'), ('position', '<f8'), ('timing', '<f8')]),\n",
       " 2: array([(96, 1246.0, 2043.0, 96.57685185185186, 64697.0), (247, 1968.0, 2159.0, 247.9111111111111, 70779.0),\n",
       "        (383, 1757.0, 2159.0, 383.8134259259259, 76221.0), (547, 1922.0, 2159.0, 547.8898148148148, 82862.0),\n",
       "        (670, 103.0, 849.0, 670.0476851851852, 87824.0), (740, 534.0, 1321.0, 740.2472222222223, 90625.0),\n",
       "        (899, 506.0, 1977.0, 899.2342592592593, 96986.0), (900, 1944.0, 1990.0, 900.9, 97026.0), (910, 1977.0, 2054.0, 910.9152777777778, 97426.0),\n",
       "        (911, 1970.0, 1985.0, 911.9120370370371, 97466.0), (1434, 321.0, 1091.0, 1434.1486111111112, 119392.0),\n",
       "        (1519, 854.0, 1607.0, 1519.3953703703703, 122873.0), (1586, 93.0, 835.0, 1586.0430555555556, 125554.0),\n",
       "        (2088, 832.0, 2002.0, 2088.385185185185, 145680.0), (2183, 28.0, 398.0, 2183.012962962963, 149561.0),\n",
       "        (2866, 230.0, 992.0, 2866.1064814814813, 177168.0), (3207, 28.0, 2005.0, 3207.012962962963, 190852.0),\n",
       "        (3605, 534.0, 1987.0, 3605.2472222222223, 206817.0), (3655, 1979.0, 1996.0, 3655.9162037037036, 208857.0),\n",
       "        (4227, 46.0, 780.0, 4227.021296296296, 231744.0), (4260, 1908.0, 2159.0, 4260.883333333333, 233064.0),\n",
       "        (4296, 28.0, 272.0, 4296.012962962963, 234504.0), (4862, 1574.0, 2159.0, 4862.728703703704, 257151.0),\n",
       "        (4988, 780.0, 1537.0, 4988.361111111111, 262272.0), (5024, 28.0, 442.0, 5024.012962962963, 263793.0),\n",
       "        (5460, 1212.0, 2014.0, 5460.561111111111, 281317.0), (5572, 1816.0, 2159.0, 5572.84074074074, 285879.0),\n",
       "        (5659, 922.0, 1679.0, 5659.426851851852, 289440.0), (5766, 533.0, 1300.0, 5766.246759259259, 293801.0),\n",
       "        (6446, 1916.0, 2159.0, 6446.887037037037, 321089.0), (6490, 1959.0, 1972.0, 6490.906944444445, 322849.0),\n",
       "        (6524, 1966.0, 2040.0, 6524.910185185186, 324210.0), (6613, 1491.0, 2159.0, 6613.690277777778, 327771.0),\n",
       "        (7241, 940.0, 1692.0, 7241.435185185185, 352938.0), (7289, 1578.0, 2159.0, 7289.730555555556, 354898.0),\n",
       "        (7617, 1959.0, 2005.0, 7617.906944444445, 368102.0), (7618, 1965.0, 1988.0, 7618.909722222223, 368142.0),\n",
       "        (8071, 1224.0, 2033.0, 8071.566666666667, 386267.0), (8225, 1340.0, 2115.0, 8225.62037037037, 392509.0),\n",
       "        (8295, 339.0, 1111.0, 8295.156944444445, 395389.0), (8594, 1436.0, 2159.0, 8594.664814814814, 407393.0),\n",
       "        (8804, 808.0, 1583.0, 8804.374074074074, 415875.0), (8905, 2118.0, 2159.0, 8905.980555555556, 419996.0),\n",
       "        (8906, 28.0, 467.0, 8906.012962962963, 420036.0), (9036, 1990.0, 2159.0, 9036.921296296296, 425237.0),\n",
       "        (9211, 28.0, 1984.0, 9211.012962962963, 432240.0), (9270, 28.0, 473.0, 9270.012962962963, 434600.0),\n",
       "        (10186, 1693.0, 2159.0, 10186.783796296297, 471290.0), (10250, 1968.0, 1975.0, 10250.91111111111, 473931.0),\n",
       "        (10251, 1970.0, 1989.0, 10251.912037037036, 473971.0), (10252, 1969.0, 1997.0, 10252.911574074074, 474011.0),\n",
       "        (10258, 1978.0, 1989.0, 10258.91574074074, 474251.0), (10582, 28.0, 705.0, 10582.012962962963, 487215.0),\n",
       "        (10672, 1972.0, 1986.0, 10672.912962962962, 490816.0), (10761, 28.0, 740.0, 10761.012962962963, 494417.0),\n",
       "        (11431, 28.0, 632.0, 11431.012962962963, 521424.0), (11474, 2016.0, 2159.0, 11474.933333333332, 523145.0),\n",
       "        (11475, nan, nan, nan, 523184.99999999994), (11562, 28.0, 423.0, 11562.012962962963, 526666.0),\n",
       "        (11797, 466.0, 2003.0, 11797.215740740741, 536149.0), (11817, 1969.0, 1993.0, 11817.911574074074, 536949.0),\n",
       "        (11830, 1610.0, 2159.0, 11830.74537037037, 537469.0), (12063, 2029.0, 2159.0, 12063.939351851852, 546872.0),\n",
       "        (12064, 28.0, 112.0, 12064.012962962963, 546912.0), (12104, 88.0, 835.0, 12104.04074074074, 548512.0),\n",
       "        (12188, 1983.0, 2037.0, 12188.918055555556, 551873.0), (12189, 1965.0, 2032.0, 12189.909722222223, 551913.0),\n",
       "        (12333, 591.0, 1357.0, 12333.273611111112, 557714.0), (13342, 28.0, 494.0, 13342.012962962963, 598286.0),\n",
       "        (13371, 1532.0, 2159.0, 13371.70925925926, 599526.0), (13418, 267.0, 1983.0, 13418.12361111111, 601487.0),\n",
       "        (14082, 28.0, 639.0, 14082.012962962963, 628094.0), (14567, 28.0, 417.0, 14567.012962962963, 647539.0),\n",
       "        (14835, 1806.0, 2159.0, 14835.836111111112, 658342.0)], \n",
       "       dtype=[('frame', '<i8'), ('start', '<f8'), ('end', '<f8'), ('position', '<f8'), ('timing', '<f8')]),\n",
       " 3: array([(77, 238.0, 540.0, 77.33055555555555, 108273.0), (203, 551.0, 719.0, 203.76527777777778, 114353.0),\n",
       "        (318, 517.0, 719.0, 318.71805555555557, 119792.0), (457, 630.0, 719.0, 457.875, 126432.0), (563, 28.0, 287.0, 563.0388888888889, 131392.0),\n",
       "        (619, 176.0, 475.0, 619.2444444444444, 134192.0), (1200, 312.0, 623.0, 1200.4333333333334, 161950.0),\n",
       "        (1273, 541.0, 719.0, 1273.7513888888889, 165430.0), (1329, 272.0, 569.0, 1329.3777777777777, 168110.0),\n",
       "        (1828, 304.0, 611.0, 1828.4222222222222, 192108.0), (3053, 107.0, 412.0, 3053.148611111111, 250385.0),\n",
       "        (3601, 28.0, 119.0, 3601.038888888889, 276663.0), (3631, 28.0, 255.0, 3631.038888888889, 278063.0),\n",
       "        (4107, 28.0, 201.0, 4107.038888888889, 300742.0), (4212, 192.0, 719.0, 4212.266666666666, 305821.0),\n",
       "        (4612, 28.0, 266.0, 4612.038888888889, 324900.0), (4709, 222.0, 531.0, 4709.308333333333, 329460.0),\n",
       "        (4783, 28.0, 227.0, 4783.038888888889, 333020.0), (5447, 536.0, 719.0, 5447.7444444444445, 364658.0), (5589, 432.0, 719.0, 5589.6, 371337.0),\n",
       "        (6943, 28.0, 222.0, 6943.038888888889, 436094.0), (7002, 530.0, 719.0, 7002.736111111111, 438933.0),\n",
       "        (7254, 60.0, 358.0, 7254.083333333333, 450973.0), (7431, 28.0, 174.0, 7431.038888888889, 459452.0),\n",
       "        (7516, 409.0, 716.0, 7516.5680555555555, 463572.0), (7767, 668.0, 719.0, 7767.927777777778, 475771.0),\n",
       "        (8583, 654.0, 719.0, 8583.908333333333, 514847.99999999994), (8913, 127.0, 436.0, 8913.176388888889, 530767.0),\n",
       "        (9062, 196.0, 501.0, 9062.272222222222, 537967.0), (9621, 365.0, 680.0, 9621.506944444445, 564965.0),\n",
       "        (9657, 202.0, 509.0, 9657.280555555555, 566725.0), (9955, 161.0, 474.0, 9955.22361111111, 581044.0),\n",
       "        (10153, 393.0, 702.0, 10153.545833333334, 590444.0), (10186, 657.0, 719.0, 10186.9125, 592044.0),\n",
       "        (11247, 620.0, 719.0, 11247.861111111111, 643081.0), (11286, 162.0, 476.0, 11286.225, 645040.0),\n",
       "        (12238, 301.0, 607.0, 12238.418055555556, 691078.0), (12463, 201.0, 511.0, 12463.279166666667, 701917.0)], \n",
       "       dtype=[('frame', '<i8'), ('start', '<f8'), ('end', '<f8'), ('position', '<f8'), ('timing', '<f8')]),\n",
       " 4: array([(78, 81.0, 376.0, 78.1125, 94637.0), (204, 388.0, 687.0, 204.5388888888889, 100716.0), (459, 458.0, 719.0, 459.6361111111111, 112796.0),\n",
       "        (1214, 121.0, 416.0, 1214.1680555555556, 148315.0), (1288, 342.0, 644.0, 1288.475, 151795.0),\n",
       "        (1344, 76.0, 369.0, 1344.1055555555556, 154475.0), (1773, 499.0, 719.0, 1773.6930555555555, 174594.0),\n",
       "        (1855, 89.0, 383.0, 1855.1236111111111, 178474.0), (2462, 501.0, 719.0, 2462.695833333333, 207073.0),\n",
       "        (2750, 476.0, 719.0, 2750.661111111111, 220753.0), (3610, 28.0, 119.0, 3610.038888888889, 261671.0),\n",
       "        (3638, 552.0, 719.0, 3638.766666666667, 262991.0), (3669, 665.0, 719.0, 3669.9236111111113, 264391.0),\n",
       "        (4144, 602.0, 719.0, 4144.836111111111, 287071.0), (4252, 342.0, 646.0, 4252.475, 292190.0), (4282, 28.0, 246.0, 4282.038888888889, 293710.0),\n",
       "        (4652, 640.0, 719.0, 4652.888888888889, 311230.0), (4751, 28.0, 229.0, 4751.038888888889, 315830.0),\n",
       "        (4825, 591.0, 719.0, 4825.820833333333, 319350.0), (4918, 474.0, 719.0, 4918.658333333334, 323709.0),\n",
       "        (5491, 204.0, 517.0, 5491.283333333334, 351029.0), (5632, 98.0, 394.0, 5632.136111111111, 357708.0),\n",
       "        (6161, 76.0, 369.0, 6161.105555555556, 382868.0), (6200, 324.0, 622.0, 6200.45, 384828.0), (6859, 418.0, 719.0, 6859.580555555555, 416187.0),\n",
       "        (6987, 505.0, 719.0, 6987.701388888889, 422426.0), (7048, 152.0, 448.0, 7048.211111111111, 425306.0), (7303, 648.0, 719.0, 7303.9, 437306.0),\n",
       "        (7569, 28.0, 309.0, 7569.038888888889, 449946.0), (7679, 28.0, 297.0, 7679.038888888889, 455185.0), (7874, 216.0, 512.0, 7874.3, 464505.0),\n",
       "        (8648, 220.0, 521.0, 8648.305555555555, 501224.0), (8986, 663.0, 719.0, 8986.920833333334, 517102.99999999994),\n",
       "        (9710, 28.0, 177.0, 9710.038888888888, 551342.0), (9820, 28.0, 149.0, 9820.038888888888, 556582.0), (10052, 666.0, 719.0, 10052.925, 567382.0),\n",
       "        (11336, 411.0, 719.0, 11336.570833333333, 628180.0), (11364, 102.0, 396.0, 11364.141666666666, 629460.0),\n",
       "        (11404, 621.0, 719.0, 11404.8625, 631380.0), (11966, 667.0, 719.0, 11966.926388888889, 657979.0),\n",
       "        (12607, 623.0, 719.0, 12607.865277777777, 688258.0)], \n",
       "       dtype=[('frame', '<i8'), ('start', '<f8'), ('end', '<f8'), ('position', '<f8'), ('timing', '<f8')])}"
      ]
     },
     "execution_count": 562,
     "metadata": {},
     "output_type": "execute_result"
    }
   ],
   "source": [
    "timed_events"
   ]
  },
  {
   "cell_type": "code",
   "execution_count": null,
   "metadata": {
    "collapsed": true
   },
   "outputs": [],
   "source": [
    "cam = 2\n",
    "frame = 740\n",
    "f2d = np.diff(features[cam].astype(float), axis=1)\n",
    "plot_frame_with_profile(cam, frame, features, diff2d=f2d)"
   ]
  },
  {
   "cell_type": "markdown",
   "metadata": {},
   "source": [
    "### Other Experiments"
   ]
  },
  {
   "cell_type": "code",
   "execution_count": null,
   "metadata": {
    "collapsed": false,
    "run_control": {
     "frozen": false,
     "read_only": false
    }
   },
   "outputs": [],
   "source": [
    "def mad(arr):\n",
    "    \"\"\" Median Absolute Deviation: a \"Robust\" version of standard deviation.\n",
    "        Indices variabililty of the sample.\n",
    "        https://en.wikipedia.org/wiki/Median_absolute_deviation \n",
    "    \"\"\"\n",
    "    arr = np.ma.array(arr).compressed() # should be faster to not use masked arrays.\n",
    "    med = np.median(arr)\n",
    "    return np.median(np.abs(arr - med))\n",
    "\n",
    "rising_diff = timed_events[cameras[0]][pairs[cameras[0]]]['start'] - timed_events[cameras[1]][pairs[cameras[1]]]['start']\n",
    "rising_diff_iqr = np.subtract(*np.percentile(rising_diff, [75, 25]))\n",
    "rising_diff_mad = mad(rising_diff)\n",
    "ms_per_line = float(mode_duration_ms) / images_dimensions[cameras[0]][0]\n",
    "print rising_diff_iqr, rising_diff_mad, rising_diff_iqr * ms_per_line, rising_diff_mad * ms_per_line\n"
   ]
  },
  {
   "cell_type": "code",
   "execution_count": null,
   "metadata": {
    "collapsed": false,
    "run_control": {
     "frozen": false,
     "read_only": false
    }
   },
   "outputs": [],
   "source": [
    "offsets = {cam: get_subframe_timing(cam, timed_events, synchronization_events_idx[cam]) for cam in cameras}\n",
    "pairs = find_event_pairs(timed_events, cameras, offsets)\n",
    "synchronization_errors = \\\n",
    "(get_subframe_timing(cameras[0], timed_events, pairs[cameras[0]]) - offsets[cameras[0]]) - \\\n",
    "(get_subframe_timing(cameras[1], timed_events, pairs[cameras[1]]) - offsets[cameras[1]])\n",
    "synchronization_errors"
   ]
  },
  {
   "cell_type": "code",
   "execution_count": null,
   "metadata": {
    "collapsed": false,
    "run_control": {
     "frozen": false,
     "read_only": false
    }
   },
   "outputs": [],
   "source": [
    "synchronization_errors / 40. * images_dimensions[cam][0]"
   ]
  },
  {
   "cell_type": "code",
   "execution_count": null,
   "metadata": {
    "collapsed": true,
    "run_control": {
     "frozen": false,
     "read_only": false
    }
   },
   "outputs": [],
   "source": []
  },
  {
   "cell_type": "code",
   "execution_count": null,
   "metadata": {
    "collapsed": true,
    "run_control": {
     "frozen": false,
     "read_only": false
    }
   },
   "outputs": [],
   "source": [
    "plt.figure()\n",
    "plt.hist(synchronization_errors[~np.isnan(synchronization_errors)], 50, )\n",
    "plt.title('Synchronization errors')\n",
    "plt.xlabel('event timing difference [ms]')\n",
    "plt.ylabel('count')"
   ]
  },
  {
   "cell_type": "code",
   "execution_count": null,
   "metadata": {
    "collapsed": true,
    "run_control": {
     "frozen": false,
     "read_only": false
    }
   },
   "outputs": [],
   "source": [
    "np.set_printoptions(precision=2)"
   ]
  },
  {
   "cell_type": "code",
   "execution_count": null,
   "metadata": {
    "collapsed": false,
    "run_control": {
     "frozen": false,
     "read_only": false
    }
   },
   "outputs": [],
   "source": [
    "timed_events\n",
    "pairs\n",
    "\n",
    "np.set_printoptions(precision=0)\n",
    "\n",
    "table = []\n",
    "\n",
    "cam = 1\n",
    "table.append(get_subframe_timing(cam, timed_events, pairs[cam]))\n",
    "cam = 2\n",
    "table.append(get_subframe_timing(cam, timed_events, pairs[cam]))\n",
    "\n",
    "table.append(table[1] - table[0])\n",
    "\n",
    "HTML(tabulate(table, floatfmt='.1f', tablefmt='html'))"
   ]
  },
  {
   "cell_type": "code",
   "execution_count": null,
   "metadata": {
    "collapsed": true,
    "run_control": {
     "frozen": false,
     "read_only": false
    }
   },
   "outputs": [],
   "source": [
    "plt.close('all')"
   ]
  },
  {
   "cell_type": "code",
   "execution_count": null,
   "metadata": {
    "collapsed": true,
    "run_control": {
     "frozen": false,
     "read_only": false
    }
   },
   "outputs": [],
   "source": [
    "np.set_printoptions(precision=2)"
   ]
  },
  {
   "cell_type": "code",
   "execution_count": null,
   "metadata": {
    "collapsed": false,
    "run_control": {
     "frozen": true,
     "read_only": true
    }
   },
   "outputs": [],
   "source": [
    "# manually annotated flash start line\n",
    "# definition: last position before \"diff median luminance\" begin to differ\n",
    "idx = 0\n",
    "cam = 1\n",
    "timed_events[cam][pairs[cam][idx]]['start'] = 218\n",
    "cam = 2\n",
    "timed_events[cam][pairs[cam][idx]]['start'] = 1238\n",
    "\n",
    "idx = 12\n",
    "cam = 1\n",
    "timed_events[cam][pairs[cam][idx]]['start'] = 887\n",
    "cam = 2\n",
    "timed_events[cam][pairs[cam][idx]]['start'] = 1903\n",
    "\n",
    "idx = 25\n",
    "cam = 1\n",
    "timed_events[cam][pairs[cam][idx]]['start'] = 220\n",
    "cam = 2\n",
    "timed_events[cam][pairs[cam][idx]]['start'] = 1218\n",
    "\n",
    "idx = 39\n",
    "cam = 1\n",
    "timed_events[cam][pairs[cam][idx]]['start'] = 1023\n",
    "cam = 2\n",
    "timed_events[cam][pairs[cam][idx]]['start'] = 2010\n",
    "\n",
    "idx = 53\n",
    "cam = 1\n",
    "timed_events[cam][pairs[cam][idx]]['start'] = 811\n",
    "cam = 2\n",
    "timed_events[cam][pairs[cam][idx]]['start'] = 1795\n",
    "\n",
    "\n",
    "# bad_idx = [37, 38]\n",
    "\n",
    "events_manual_idx = [0, 12, 25, 39, 53]\n",
    "events_manual_cams = [1, 2]\n",
    "events_manual = {cam: timed_events[cam][pairs[cam]][events_manual_idx] for cam in events_manual_cams}\n",
    "events_manual\n",
    "\n",
    "offsets = {cam: get_subframe_timing(cam, events_manual, 0) for cam in cameras}\n",
    "synchronization_errors = \\\n",
    "(get_subframe_timing(cameras[0], events_manual) - offsets[cameras[0]]) - \\\n",
    "(get_subframe_timing(cameras[1], events_manual) - offsets[cameras[1]])\n",
    "synchronization_errors"
   ]
  },
  {
   "cell_type": "code",
   "execution_count": null,
   "metadata": {
    "collapsed": false,
    "run_control": {
     "frozen": false,
     "read_only": false
    }
   },
   "outputs": [],
   "source": [
    "timing1 = get_subframe_timing(cameras[0], events_manual)\n",
    "timing2 = get_subframe_timing(cameras[1], events_manual)\n",
    "np.vstack((timing1, timing2, timing1 - timing2))"
   ]
  },
  {
   "cell_type": "code",
   "execution_count": null,
   "metadata": {
    "collapsed": false,
    "run_control": {
     "frozen": false,
     "read_only": false
    }
   },
   "outputs": [],
   "source": [
    "events_manual[cameras[0]]['timing']"
   ]
  },
  {
   "cell_type": "code",
   "execution_count": null,
   "metadata": {
    "collapsed": false,
    "run_control": {
     "frozen": false,
     "read_only": false
    }
   },
   "outputs": [],
   "source": [
    "timing1 = events_manual[cameras[0]]['timing']\n",
    "timing2 = events_manual[cameras[1]]['timing']\n",
    "np.vstack((timing1, timing2, timing1 - timing2))"
   ]
  },
  {
   "cell_type": "code",
   "execution_count": null,
   "metadata": {
    "collapsed": false,
    "run_control": {
     "frozen": false,
     "read_only": false
    }
   },
   "outputs": [],
   "source": [
    "np.vstack((events_manual[cameras[0]]['timing'], events_manual[cameras[0]]['start'],\n",
    "          events_manual[cameras[1]]['timing'], events_manual[cameras[1]]['start'],\n",
    "         events_manual[cameras[0]]['timing'] - events_manual[cameras[1]]['timing'],\n",
    "         events_manual[cameras[0]]['start'] - events_manual[cameras[1]]['start']))"
   ]
  },
  {
   "cell_type": "code",
   "execution_count": null,
   "metadata": {
    "collapsed": false,
    "run_control": {
     "frozen": false,
     "read_only": false
    }
   },
   "outputs": [],
   "source": [
    "publish = True\n",
    "for idx in xrange(len(events_manual[cameras[0]])):\n",
    "    for cam in cameras:\n",
    "        plot_frame_with_profile(cam, events_manual[cam][idx]['frame'], \n",
    "                                features, np.diff(features[cam].astype(float), axis=1),\n",
    "                                events_manual[cam][idx]['start'], events_manual[cam][idx]['end'],\n",
    "                                filename='manual_event_pair_f%d_c%d.png' % (events_manual[cam][idx]['frame'], cam))\n",
    "        plt.close()"
   ]
  },
  {
   "cell_type": "code",
   "execution_count": null,
   "metadata": {
    "collapsed": false,
    "run_control": {
     "frozen": false,
     "read_only": false
    }
   },
   "outputs": [],
   "source": [
    "events_manual = \\\n",
    "{1: np.array([(96, 218.0, 1000.0, 96.10787037037036, 70779.0), \n",
    "              (4281, 887.0, 1638.0, 4281.413425925926, 239144.0),\n",
    "              (8088, 220.0, 996.0, 8088.1125, 392345.0), \n",
    "              (11469, 1023.0, 1763.0, 11469.476851851852, 529222.0), \n",
    "              (14834, 811.0, 1575.0, 14834.380092592593, 664418.0)],\n",
    "       dtype=[('frame', '<i8'), ('start', '<f8'), ('end', '<f8'), ('position', '<f8'), ('timing', '<f8')]),\n",
    " 2: np.array([\n",
    "            (96, 1238.0, 2043.0, 96.57685185185186, 64697.0), \n",
    "            (4260, 1903.0, 2159.0, 4260.883333333333, 233064.0),\n",
    "            (8071, 1218.0, 2033.0, 8071.566666666667, 386267.0), \n",
    "            (11474, 2010.0, 2159.0, 11474.933333333332, 523145.0), \n",
    "            (14835, 1795.0, 2159.0, 14835.836111111112, 658342.0)],\n",
    "       dtype=[('frame', '<i8'), ('start', '<f8'), ('end', '<f8'), ('position', '<f8'), ('timing', '<f8')])}"
   ]
  },
  {
   "cell_type": "code",
   "execution_count": null,
   "metadata": {
    "collapsed": false,
    "run_control": {
     "frozen": false,
     "read_only": false
    }
   },
   "outputs": [],
   "source": [
    "table, __ = events_table_histogram(events_manual[1]['timing'], events_manual[2]['timing'],\n",
    "                       events_manual[1]['start'], events_manual[2]['start'])\n",
    "table"
   ]
  },
  {
   "cell_type": "code",
   "execution_count": null,
   "metadata": {
    "collapsed": false,
    "run_control": {
     "frozen": false,
     "read_only": false
    }
   },
   "outputs": [],
   "source": [
    "cam = 1\n",
    "idx = 39\n",
    "plot_frame_with_profile(cam, timed_events[cam][pairs[cam][idx]]['frame'], \n",
    "                        features, diff2d=np.diff(features[cam].astype(float), axis=1))"
   ]
  },
  {
   "cell_type": "code",
   "execution_count": null,
   "metadata": {
    "collapsed": true,
    "run_control": {
     "frozen": false,
     "read_only": false
    }
   },
   "outputs": [],
   "source": [
    "plt.close('all')"
   ]
  },
  {
   "cell_type": "code",
   "execution_count": null,
   "metadata": {
    "collapsed": true,
    "run_control": {
     "frozen": true,
     "read_only": true
    }
   },
   "outputs": [],
   "source": [
    "video_files_template = '../data/ihwc2015/video/usa_rus/%d.mp4'\n",
    "cam = 4\n",
    "ffprobe_timestamps_ms = get_timestamps_ms(video_files_template % cam, '10:00')"
   ]
  }
 ],
 "metadata": {
  "hide_input": false,
  "kernelspec": {
   "display_name": "Python 2",
   "language": "python",
   "name": "python2"
  },
  "language_info": {
   "codemirror_mode": {
    "name": "ipython",
    "version": 2
   },
   "file_extension": ".py",
   "mimetype": "text/x-python",
   "name": "python",
   "nbconvert_exporter": "python",
   "pygments_lexer": "ipython2",
   "version": "2.7.11"
  },
  "nav_menu": {
   "height": "123px",
   "width": "228px"
  },
  "toc": {
   "navigate_menu": true,
   "number_sections": true,
   "sideBar": false,
   "threshold": 6,
   "toc_cell": false,
   "toc_section_display": "block",
   "toc_window_display": true
  },
  "toc_position": {
   "height": "314px",
   "left": "2px",
   "right": "1091px",
   "top": "108px",
   "width": "187px"
  }
 },
 "nbformat": 4,
 "nbformat_minor": 0
}
