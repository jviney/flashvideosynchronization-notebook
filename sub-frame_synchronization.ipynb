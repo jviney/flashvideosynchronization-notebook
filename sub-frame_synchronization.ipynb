{
 "cells": [
  {
   "cell_type": "code",
   "execution_count": 1,
   "metadata": {
    "collapsed": false,
    "hide_input": true,
    "run_control": {
     "frozen": false,
     "read_only": false
    }
   },
   "outputs": [],
   "source": [
    "# %pylab inline\n",
    "%matplotlib qt4 \n",
    "import matplotlib.pylab as plt\n",
    "# matplotlib.rcParams['backend.qt4']='PySide'"
   ]
  },
  {
   "cell_type": "code",
   "execution_count": 2,
   "metadata": {
    "collapsed": false,
    "hide_input": true,
    "run_control": {
     "frozen": false,
     "read_only": false
    }
   },
   "outputs": [],
   "source": [
    "# %pylab --no-import-all inline\n",
    "%reload_ext autoreload\n",
    "%autoreload \n",
    "import matplotlib\n",
    "# import mpld3\n",
    "# mpld3.enable_notebook()\n",
    "# from IPython.core.debugger import Tracer; set_trace = Tracer()\n",
    "import IPython\n",
    "IPython.core.pylabtools.figsize(10, 8)\n",
    "import cv2\n",
    "import os\n",
    "import seaborn as sns\n",
    "import numpy as np\n",
    "# import matplotlib.pylab as plt\n",
    "import matplotutils\n",
    "import pickle\n",
    "import parameters\n",
    "import imagesequencevideo\n",
    "import subprocess\n",
    "from joblib import Memory\n",
    "import math\n",
    "from numpy.lib.recfunctions import merge_arrays, append_fields\n",
    "# from bokeh import mpl\n",
    "# from bokeh.plotting import output_file, show, figure\n",
    "from scipy import stats\n",
    "from collections import OrderedDict\n",
    "import itertools\n",
    "import datetime\n",
    "from tabulate import tabulate\n",
    "from IPython.display import HTML, display\n",
    "from sklearn import linear_model"
   ]
  },
  {
   "cell_type": "code",
   "execution_count": 476,
   "metadata": {
    "collapsed": true,
    "run_control": {
     "frozen": false,
     "read_only": false
    }
   },
   "outputs": [],
   "source": [
    "experiment_root = '/home/matej/prace/sport_tracking/git/experiments/2016-08-22_subframe_synchronization/'  # len: match start + 600s\n",
    "# experiment_root = '/home/matej/prace/sport_tracking/git/experiments/2016-09-17_subframe_mobile_seq/'\n",
    "features_file = os.path.join(experiment_root, 'out/flashes2d_luminance_median.pkl')\n",
    "paper_figures_dir = '/home/matej/Private/Dropbox/prace/publikace/2017 wacv/figures'\n",
    "# memory = Memory(cachedir=experiment_root, verbose=0)\n",
    "memory = Memory(cachedir='.', verbose=0)\n",
    "all_cameras = [0, 1, 2, 3, 4]\n",
    "cameras = [1, 2, 3, 4]"
   ]
  },
  {
   "cell_type": "code",
   "execution_count": 4,
   "metadata": {
    "collapsed": false,
    "run_control": {
     "frozen": false,
     "read_only": false
    }
   },
   "outputs": [],
   "source": [
    "publish = True\n",
    "\n",
    "if publish:\n",
    "    fig_width_in = 4 # 2.953 # real column width -> too thick lines, font size probably also too big\n",
    "    fig_height_in = fig_width_in * 0.7\n",
    "       \n",
    "    sns.set_style('ticks')  # or 'ticks'\n",
    "    sns.set_context(\"paper\")\n",
    "    # sns.set(font='times')\n",
    "    # plt.style.use(['seaborn-white', 'seaborn-paper'])\n",
    "    sns.set_palette(sns.color_palette('muted')) # sns.cubehelix_palette())\n",
    "    sns.set_color_codes()\n",
    "    \n",
    "    params = {\n",
    "    #    'axes.labelsize': 9,\n",
    "    #    'font.size': 9,\n",
    "    #    'legend.fontsize': 9,\n",
    "    #    'xtick.labelsize': 9,\n",
    "    #    'ytick.labelsize': 9,\n",
    "    #    'text.usetex': False,\n",
    "        'figure.figsize': [fig_width_in, fig_height_in],\n",
    "        'figure.dpi' : 80,\n",
    "        'text.usetex': False,\n",
    "        'font.family': 'serif',\n",
    "        'savefig.dpi' : 300,\n",
    "       }\n",
    "    plt.rcParams.update(params)\n",
    "    \n",
    "    # # fig.set_size_inches(6, 3)\n",
    "    # plt.tight_layout()\n",
    "else:\n",
    "    sns.set_style('whitegrid')\n",
    "    sns.set_context('notebook')\n",
    "    params = {\n",
    "    #    'axes.labelsize': 9,\n",
    "    #    'font.size': 9,\n",
    "    #    'legend.fontsize': 9,\n",
    "    #    'xtick.labelsize': 9,\n",
    "    #    'ytick.labelsize': 9,\n",
    "    #    'text.usetex': False,\n",
    "    #    'figure.figsize': [fig_width_in, fig_height_in],\n",
    "        'figure.dpi' : 80,\n",
    "        'text.usetex': False,\n",
    "    #    'font.family': 'serif',\n",
    "        'savefig.dpi' : 300,\n",
    "       }\n",
    "    plt.rcParams.update(params)    \n",
    "    \n",
    "    \n",
    "# plt.rcParams"
   ]
  },
  {
   "cell_type": "code",
   "execution_count": 5,
   "metadata": {
    "code_folding": [],
    "collapsed": true,
    "run_control": {
     "frozen": false,
     "read_only": false
    }
   },
   "outputs": [],
   "source": [
    "@memory.cache\n",
    "def get_timestamps_ms(video_file, duration_mmss='01:00'):\n",
    "    ffprobe_cmd = 'ffprobe -select_streams v -show_frames -show_entries ' \\\n",
    "        'frame=best_effort_timestamp_time,pkt_pts_time,coded_picture_number %s -of csv ' \\\n",
    "        '-read_intervals %%%s' % (video_file, duration_mmss)\n",
    "    ffprobe_csv = subprocess.check_output(ffprobe_cmd.split()).decode('utf8')\n",
    "    ffprobe_timestamps = np.recfromcsv(ffprobe_csv.split('\\n'), usecols=(1,2,3), \n",
    "                                       names=('best_effort_timestamp_time', 'pkt_pts_time', 'coded_picture_number'))\n",
    "    ffprobe_timestamps_ms = ffprobe_timestamps['best_effort_timestamp_time'] * 1000.\n",
    "    return ffprobe_timestamps_ms\n",
    "\n",
    "# 1.mp4:\n",
    "# frame,134.716000,134.716000,3349\n",
    "# frame,134.756000,134.756000,3350\n",
    "# frame,134.796000,134.796000,3351\n",
    "# frame,134.836000,134.836000,3352\n",
    "# frame,134.876000,134.876000,3353"
   ]
  },
  {
   "cell_type": "code",
   "execution_count": 6,
   "metadata": {
    "collapsed": false,
    "run_control": {
     "frozen": false,
     "read_only": false
    }
   },
   "outputs": [],
   "source": [
    "@memory.cache\n",
    "def get_timestamps_ms_(video_file, duration_mmss='01:00'):\n",
    "    ffprobe_cmd = 'ffprobe -select_streams v -show_frames -show_entries ' \\\n",
    "        'frame=best_effort_timestamp_time,pkt_pts_time,coded_picture_number %s -of csv ' \\\n",
    "        '-read_intervals %%%s' % (video_file, duration_mmss)\n",
    "    ffprobe_csv = subprocess.check_output(ffprobe_cmd.split()).decode('utf8')\n",
    "    ffprobe_timestamps = np.recfromcsv(ffprobe_csv.split('\\n'), usecols=(1,2,3), \n",
    "                                       names=('best_effort_timestamp_time', 'pkt_pts_time', 'coded_picture_number'))\n",
    "    ffprobe_timestamps_ms = ffprobe_timestamps['best_effort_timestamp_time'] * 1000.\n",
    "    return ffprobe_timestamps_ms"
   ]
  },
  {
   "cell_type": "code",
   "execution_count": 7,
   "metadata": {
    "collapsed": false,
    "run_control": {
     "frozen": false,
     "read_only": false
    }
   },
   "outputs": [],
   "source": [
    "# load features\n",
    "with open(features_file, 'rb') as fr:\n",
    "    features = pickle.load(fr)\n",
    "    features_start = pickle.load(fr)"
   ]
  },
  {
   "cell_type": "code",
   "execution_count": 8,
   "metadata": {
    "collapsed": false,
    "run_control": {
     "frozen": false,
     "read_only": false
    }
   },
   "outputs": [],
   "source": [
    "# load image sequences\n",
    "p = parameters.Parameters(os.path.join(experiment_root, 'parameters.yaml'))\n",
    "data_root = '../data/ihwc2015'\n",
    "p.c['data_root'] = data_root\n",
    "# p.c['data_root'] = '../data/synchronization_mobile'\n",
    "del p.c['background_subtraction']['masks']\n",
    "images = p.get_image_sequence()\n",
    "assert isinstance(images, imagesequencevideo.ImageSequenceVideo)  # we need raw video, not synchronized sequences"
   ]
  },
  {
   "cell_type": "code",
   "execution_count": 9,
   "metadata": {
    "collapsed": true,
    "run_control": {
     "frozen": false,
     "read_only": false
    }
   },
   "outputs": [],
   "source": [
    "images_dimensions = {}\n",
    "for cam in p.c['cameras']:\n",
    "    img = images.get_next_image(cam)\n",
    "    images_dimensions[cam] = img.shape   "
   ]
  },
  {
   "cell_type": "code",
   "execution_count": 10,
   "metadata": {
    "collapsed": false,
    "run_control": {
     "frozen": false,
     "read_only": false
    }
   },
   "outputs": [
    {
     "data": {
      "text/plain": [
       "{1: {'bottom': 2159, 'top': 28},\n",
       " 2: {'bottom': 2159, 'top': 28},\n",
       " 3: {'bottom': 719, 'top': 28},\n",
       " 4: {'bottom': 719, 'top': 28}}"
      ]
     },
     "execution_count": 10,
     "metadata": {},
     "output_type": "execute_result"
    }
   ],
   "source": [
    "# [0, top] and [bottom, maxy] are obsolete regions (including top and bottom)\n",
    "obsolete_regions = {cam: {'top': 28 , 'bottom': images_dimensions[cam][0] - 1} for cam in cameras}\n",
    "obsolete_regions"
   ]
  },
  {
   "cell_type": "code",
   "execution_count": 11,
   "metadata": {
    "collapsed": true,
    "run_control": {
     "frozen": false,
     "read_only": false
    }
   },
   "outputs": [],
   "source": [
    "ms_per_frame = {0: 240, 1:40, 2:40, 3:40, 4:40}"
   ]
  },
  {
   "cell_type": "code",
   "execution_count": 12,
   "metadata": {
    "collapsed": false,
    "run_control": {
     "frozen": false,
     "read_only": false
    }
   },
   "outputs": [
    {
     "name": "stdout",
     "output_type": "stream",
     "text": [
      "apprixamated features_len_minutes [11.988, 9.93, 9.93, 8.346666666666668, 8.442666666666666]\n"
     ]
    }
   ],
   "source": [
    "features_len_minutes = [features[cam].shape[1] * ms_per_frame[cam] / 1000. / 60. for cam in all_cameras]\n",
    "print 'apprixamated features_len_minutes ' + str(features_len_minutes)"
   ]
  },
  {
   "cell_type": "code",
   "execution_count": null,
   "metadata": {
    "collapsed": true,
    "run_control": {
     "frozen": true,
     "read_only": true
    }
   },
   "outputs": [],
   "source": [
    "# plot possibly incorrect frames due to VideoCaptureAS seeking, see test_videosequence_seek.py\n",
    "bad_frames = {2: np.array([4285, 4287, 4288, 4289]) - features_start[2]}\n",
    "plt.plot(features[2][:, bad_frames[2]])"
   ]
  },
  {
   "cell_type": "code",
   "execution_count": null,
   "metadata": {
    "collapsed": true,
    "run_control": {
     "frozen": true,
     "read_only": true
    }
   },
   "outputs": [],
   "source": [
    "from flashsynchronization import extract_features, compute_luminance_median\n",
    "\n",
    "@memory.cache\n",
    "def batch_extract_features(params, sync=None):\n",
    "    images = p.get_image_sequence()\n",
    "    # sync=None, match_start=None, sequence_length_sec=None:\n",
    "    for cam in p.c['cameras']:\n",
    "        print cam\n",
    "        if sync:\n",
    "            start = np.searchsorted(sync.get_timings()[cam], match_start)\n",
    "            end = np.searchsorted(sync.get_timings()[cam], match_start + np.timedelta64(sequence_length_sec, 's'))\n",
    "        else:\n",
    "            start = 0\n",
    "            end = -1\n",
    "        features_start[cam] = start\n",
    "        features[cam] = extract_features(images, compute_luminance_median, cam, start, end, dtype=np.uint8)\n",
    "    return features, features_start\n",
    "    \n",
    "features, features_start = batch_extract_features(p) # images, p.c['cameras'])\n",
    "# sync, np.datetime64('1900-01-01T' + p.c['match_start']), 600)"
   ]
  },
  {
   "cell_type": "code",
   "execution_count": null,
   "metadata": {
    "collapsed": true,
    "run_control": {
     "frozen": true,
     "read_only": true
    }
   },
   "outputs": [],
   "source": [
    "if not os.path.exists(features_file):\n",
    "    with open(features_file, 'wb') as fw:\n",
    "        pickle.dump(features, fw)\n",
    "        pickle.dump(features_start, fw)"
   ]
  },
  {
   "cell_type": "markdown",
   "metadata": {},
   "source": [
    "## Event Detection"
   ]
  },
  {
   "cell_type": "code",
   "execution_count": 13,
   "metadata": {
    "code_folding": [],
    "collapsed": false,
    "run_control": {
     "frozen": false,
     "read_only": false
    }
   },
   "outputs": [],
   "source": [
    "def get_events(features2d, hidden_scanlines=0, diffmax_peak_thresh=20):\n",
    "# features2d = features[1]\n",
    "# hidden_scanlines=0\n",
    "# diffmax_peak_thresh=20\n",
    "    diff = np.diff(features2d.astype(float), axis=1)\n",
    "    n_scanlines = features2d.shape[0] + hidden_scanlines\n",
    "    diff_max = np.max(diff, axis=0)\n",
    "    idx = np.nonzero(diff_max > diffmax_peak_thresh)[0] + 1\n",
    "\n",
    "\n",
    "    events = np.zeros(len(idx), dtype=[('frame', int),('start', float), ('end', float), ('position', float)])\n",
    "    for i, frame in enumerate(idx):\n",
    "        profile = diff[:, frame - 1]\n",
    "        middle, start, end = ramp_detection(profile, difference=4)\n",
    "        events[i] = (frame, start, end, frame + start / float(n_scanlines))        \n",
    "    return events   "
   ]
  },
  {
   "cell_type": "code",
   "execution_count": 14,
   "metadata": {
    "collapsed": false,
    "run_control": {
     "frozen": false,
     "read_only": false
    }
   },
   "outputs": [],
   "source": [
    "# artefact position detection\n",
    "def ramp_detection(profile, difference=4):    \n",
    "    max_pos = np.argmax(profile)\n",
    "    try:\n",
    "        start = np.flatnonzero(profile[:max_pos] > difference)[0]\n",
    "        end = max_pos + np.flatnonzero(profile[max_pos:] > difference)[-1]\n",
    "        middle = (start + end) / 2.\n",
    "    except IndexError:\n",
    "        start = np.nan\n",
    "        end = np.nan\n",
    "        middle = np.nan\n",
    "    return middle, start, end"
   ]
  },
  {
   "cell_type": "code",
   "execution_count": 15,
   "metadata": {
    "collapsed": false,
    "run_control": {
     "frozen": false,
     "read_only": false
    }
   },
   "outputs": [],
   "source": [
    "events = {cam: get_events(features[cam]) for cam in cameras}"
   ]
  },
  {
   "cell_type": "code",
   "execution_count": 16,
   "metadata": {
    "collapsed": false,
    "run_control": {
     "frozen": false,
     "read_only": false
    }
   },
   "outputs": [],
   "source": [
    "override_good = {0: [], 1: [248, 4314, 9049], 2: [2088, 3605, 13418], 3: [4212,], 4: []}  # force to stay\n",
    "override_start = {0: [], 1: [(9049, 983), ], 2: [], 3: [(4212, 633), ], 4: []}  # force to stay and fix start\n",
    "override_bad = {0: [], 1: [], 2: [11475,], 3: [], 4: []}  # force to filter out\n",
    "\n",
    "# cam = 2\n",
    "# frame = 11475\n",
    "# f2d = np.diff(features[cam].astype(float), axis=1)\n",
    "# plot_frame_with_profile(cam, frame, features, diff2d=f2d)"
   ]
  },
  {
   "cell_type": "code",
   "execution_count": 17,
   "metadata": {
    "collapsed": false,
    "run_control": {
     "frozen": false,
     "read_only": false
    }
   },
   "outputs": [],
   "source": [
    "# filter out wrong detections\n",
    "events = {}\n",
    "for cam in cameras:\n",
    "    cam_events = get_events(features[cam])\n",
    "    mask_not_trimmed = (cam_events['start'] > obsolete_regions[cam]['top']) & (cam_events['end'] < obsolete_regions[cam]['bottom']) \n",
    "    event_length_px = np.median(cam_events[mask_not_trimmed]['end'] - cam_events[mask_not_trimmed]['start'])\n",
    "    override_bad_mask = np.any([cam_events['frame'] == frame for frame in override_bad[cam]], axis=0)\n",
    "    mask_bad = (~(cam_events['end'] == obsolete_regions[cam]['bottom']) & \n",
    "                ((cam_events['end'] - cam_events['start']) < event_length_px * 0.9)) | \\\n",
    "               ((cam_events['end'] - cam_events['start']) > event_length_px * 1.1)  | \\\n",
    "                (cam_events['start'] <= obsolete_regions[cam]['top']) | \\\n",
    "                override_bad_mask\n",
    "            \n",
    "    override_good_mask = np.any([cam_events['frame'] == frame for frame in override_good[cam]], axis=0)\n",
    "    events[cam] = cam_events[~mask_bad | override_good_mask]\n",
    "    for frame, start in override_start[cam]:\n",
    "        events[cam][np.where(events[cam]['frame'] == frame)[0][0]]['start'] = start"
   ]
  },
  {
   "cell_type": "code",
   "execution_count": 497,
   "metadata": {
    "collapsed": false
   },
   "outputs": [
    {
     "name": "stdout",
     "output_type": "stream",
     "text": [
      "\\begin{tabular}{rr}\n",
      "\\hline\n",
      "   camera &   flashes \\\\\n",
      "\\hline\n",
      "        1 &        43 \\\\\n",
      "        2 &        40 \\\\\n",
      "        3 &        30 \\\\\n",
      "        4 &        34 \\\\\n",
      "\\hline\n",
      "\\end{tabular}\n"
     ]
    }
   ],
   "source": [
    "t = [[cam, len(events[cam])] for cam in cameras]\n",
    "header = ['camera', 'flashes']\n",
    "print tabulate(t, header, tablefmt='latex')"
   ]
  },
  {
   "cell_type": "code",
   "execution_count": 18,
   "metadata": {
    "collapsed": false,
    "run_control": {
     "frozen": false,
     "read_only": false
    }
   },
   "outputs": [],
   "source": [
    "from synchronization import MultipleVideoSynchronization\n",
    "sync = MultipleVideoSynchronization()\n",
    "use_ocr = False\n",
    "if use_ocr:\n",
    "    ocred_timings = 'video/usa_rus/frame_timings.pkl'\n",
    "    sync.load(os.path.join(p.c['data_root'], ocred_timings))\n",
    "else:\n",
    "    sync.frame_timings = {cam: get_timestamps_ms(os.path.join(data_root, p.c['video_sequences']) % cam, '20:00') \n",
    "                          for cam in all_cameras}\n",
    "    # frame_timings_min_len = min([len(ft) for ft in sync.frame_timings.values()])\n",
    "    # sync.frame_timings = {cam: sync.frame_timings[cam][:frame_timings_min_len] for cam in all_cameras}"
   ]
  },
  {
   "cell_type": "code",
   "execution_count": 19,
   "metadata": {
    "collapsed": false,
    "run_control": {
     "frozen": false,
     "read_only": false
    }
   },
   "outputs": [],
   "source": [
    "# add events timing to timed_events\n",
    "timed_events = {}\n",
    "for cam in cameras:\n",
    "    timings_n = len(sync.get_timings()[cam])\n",
    "    have_timings = (features_start[cam] + events[cam]['frame']) < timings_n    \n",
    "    timings = sync.get_timings()[cam][features_start[cam] + events[cam][have_timings]['frame']]\n",
    "     # = merge_arrays((event_selection[cam], ().astype(dtype=[('timing', 'timedelta64[ms]')])))\n",
    "    timed_events[cam] = append_fields(events[cam][have_timings], 'timing', \n",
    "                                      timings, \n",
    "                                      usemask=False)"
   ]
  },
  {
   "cell_type": "code",
   "execution_count": 20,
   "metadata": {
    "collapsed": true,
    "run_control": {
     "frozen": false,
     "read_only": false
    }
   },
   "outputs": [],
   "source": [
    "# # show event frames\n",
    "# cam\n",
    "# idx = 3\n",
    "# for cam, idx in menumerate(cameras):\n",
    "#     plt.figure()\n",
    "#     print int(event_pairs[i][idx, 0])\n",
    "#     plt.imshow(images.get_image(features_start[cam] + int(event_pairs[i][idx, 0]), cam))\n",
    "#     plt.grid(False)"
   ]
  },
  {
   "cell_type": "code",
   "execution_count": 758,
   "metadata": {
    "collapsed": true,
    "run_control": {
     "frozen": true,
     "read_only": true
    }
   },
   "outputs": [
    {
     "ename": "SyntaxError",
     "evalue": "invalid syntax (<ipython-input-758-1590c61aa795>, line 3)",
     "output_type": "error",
     "traceback": [
      "\u001b[0;36m  File \u001b[0;32m\"<ipython-input-758-1590c61aa795>\"\u001b[0;36m, line \u001b[0;32m3\u001b[0m\n\u001b[0;31m    partial_events_end = {cam: events[cam][events[cam]['end'] >= obsolete_regions[cam]['bottom']]['frame']\u001b[0m\n\u001b[0m                                                                                                          ^\u001b[0m\n\u001b[0;31mSyntaxError\u001b[0m\u001b[0;31m:\u001b[0m invalid syntax\n"
     ]
    }
   ],
   "source": [
    "cam = 1\n",
    "partial_events_start = events[cam][events[cam]['start'] <= obsolete_regions[cam]['top']]['frame']\n",
    "partial_events_end = {cam: events[cam][events[cam]['end'] >= obsolete_regions[cam]['bottom']]['frame']"
   ]
  },
  {
   "cell_type": "code",
   "execution_count": null,
   "metadata": {
    "collapsed": false,
    "run_control": {
     "frozen": true,
     "read_only": true
    }
   },
   "outputs": [],
   "source": [
    "# TODO: flash event splited in two frame\n",
    "# cam = 2\n",
    "# frame = 2183\n",
    "# plt.imshow(images.get_image(features_start[cam] + 11474, 2) - images.get_image(features_start[cam] + 11475, cam))"
   ]
  },
  {
   "cell_type": "markdown",
   "metadata": {},
   "source": [
    "## Single Stream Analysis"
   ]
  },
  {
   "cell_type": "code",
   "execution_count": 21,
   "metadata": {
    "collapsed": false,
    "run_control": {
     "frozen": false,
     "read_only": false
    }
   },
   "outputs": [],
   "source": [
    "cam = 2"
   ]
  },
  {
   "cell_type": "code",
   "execution_count": 22,
   "metadata": {
    "collapsed": false,
    "run_control": {
     "frozen": false,
     "read_only": false
    }
   },
   "outputs": [],
   "source": [
    "# compute 2d diff, 1d max features and artefact locations\n",
    "f2d = np.diff(features[cam].astype(float), axis=1)\n",
    "f1d = np.max(f2d, axis=0)\n",
    "diff_thresh = 20\n",
    "events_idx = np.nonzero(f1d > diff_thresh)[0] + 1"
   ]
  },
  {
   "cell_type": "code",
   "execution_count": 23,
   "metadata": {
    "collapsed": false,
    "run_control": {
     "frozen": false,
     "read_only": false
    },
    "scrolled": false
   },
   "outputs": [],
   "source": [
    "# plot max diff and peak detection (max (ax=0) diff (ax=1) median (ax=1) luminance)\n",
    "limit_n_frames_bellow = 1500 # len(f1d) # 1000\n",
    "f1d_limited = f1d[:limit_n_frames_bellow]\n",
    "fig = plt.figure()\n",
    "\n",
    "plt.plot(f1d_limited)\n",
    "events_idx_ = events_idx[events_idx < limit_n_frames_bellow] - 1\n",
    "plt.plot(events_idx_, len(events_idx_) * [max(f1d_limited) * 1.1], 'ro', label='detected\\nevents')\n",
    "plt.hlines(diff_thresh, 0, limit_n_frames_bellow,\n",
    "           colors='r', linestyles='dotted', label='detection threshold')\n",
    "if not publish:\n",
    "    plt.title('Flash Artefact Feature Based on Line-wise Median of Luminance Channel')\n",
    "plt.xlabel('frame number')\n",
    "plt.ylabel('maximum of median line intensity')\n",
    "plt.ylim(ymax=plt.ylim()[1] * 1.3) \n",
    "legend = plt.legend(loc='upper right', frameon=True)\n",
    "frame = legend.get_frame()\n",
    "frame.set_color('white')\n",
    "sns.despine(fig)\n",
    "if publish:\n",
    "    plt.tight_layout()\n",
    "    # fig.set_size_inches(column_width_in, column_width_in)\n",
    "    plt.savefig(os.path.join(paper_figures_dir, 'feature1d_with_detections_cam%d.pdf' % cam))\n",
    "    plt.close()"
   ]
  },
  {
   "cell_type": "markdown",
   "metadata": {},
   "source": [
    "## Single Event Analysis"
   ]
  },
  {
   "cell_type": "code",
   "execution_count": 24,
   "metadata": {
    "collapsed": false,
    "run_control": {
     "frozen": false,
     "read_only": false
    }
   },
   "outputs": [],
   "source": [
    "# select event\n",
    "cam = 1\n",
    "f2d = np.diff(features[cam].astype(float), axis=1)\n",
    "frame = events_idx[0]"
   ]
  },
  {
   "cell_type": "code",
   "execution_count": 25,
   "metadata": {
    "collapsed": false,
    "run_control": {
     "frozen": false,
     "read_only": false
    }
   },
   "outputs": [],
   "source": [
    "# plot flash image with corresponding profiles\n",
    "# publish = True\n",
    "# # plt.style.use('default')\n",
    "# sns.set_style('white')\n",
    "\n",
    "def plot_frame_with_profile(cam, frame, features, diff2d, start=None, end=None, filename=None):\n",
    "    fig = plt.figure()\n",
    "    plt.axis('tight')\n",
    "    if publish:\n",
    "        fig.set_size_inches(fig_width_in * 2, fig_height_in * 2 * 0.6, forward=True)\n",
    "    gs = matplotlib.gridspec.GridSpec(1, 3, width_ratios=[7, 1, 1])\n",
    "    if (start is None) or (end is None):\n",
    "        __, start_, end_ = ramp_detection(diff2d[:, frame - 1])\n",
    "    if start is None:\n",
    "        start = start_\n",
    "    if end is None:\n",
    "        end = end_\n",
    "\n",
    "    ax1 = plt.subplot(gs[0])\n",
    "    img = images.get_image(features_start[cam] + frame, cam)\n",
    "    height = img.shape[0]\n",
    "    ax1.imshow(img)\n",
    "    plt.title('frame $I_n$')\n",
    "    plt.grid(False)\n",
    "    plt.axis('off')\n",
    "    #plt.tight_layout(0)\n",
    "    if not np.isnan(start):\n",
    "        plt.hlines([start, end], plt.xlim()[0], plt.xlim()[1], 'r', linestyles='dotted')\n",
    "\n",
    "    ax = plt.subplot(gs[1], sharey=ax1)\n",
    "    plt.title('median line\\nintensity')\n",
    "    # plt.plot(features[cam][:, frame] / features[cam][:, frame - 1].astype(float), range(height), label='divison')\n",
    "    plt.plot(features[cam][:, frame], range(height), label='$\\mathrm{I}_n$')\n",
    "    plt.plot(features[cam][:, frame - 1], range(height), label='$\\mathrm{I}_{n-1}$')\n",
    "    if not np.isnan(start):\n",
    "        plt.hlines([start, end], plt.xlim()[0], plt.xlim()[1], 'r', linestyles='dotted')\n",
    "    ax.axes.xaxis.set_ticklabels([])\n",
    "    ax.axes.yaxis.set_ticklabels([])\n",
    "    ax.spines['left'].set_position('zero')\n",
    "    sns.despine(ax=ax)\n",
    "    legend = plt.legend(loc='upper right', bbox_to_anchor=(1.3, 1))\n",
    "#     frame = legend.get_frame()\n",
    "#     frame.set_color('white')\n",
    "\n",
    "    ax = plt.subplot(gs[2], sharey=ax1)\n",
    "    plt.title('median line\\nintensity\\ndifference')\n",
    "    plt.plot(diff2d[:, frame - 1], range(height), label='$\\mathrm{I}_n - \\mathrm{I}_{n-1}$')\n",
    "    plt.plot(diff2d[:, frame - 2], range(height), label='$\\mathrm{I}_{n-1} - \\mathrm{I}_{n-2}$')\n",
    "    if not np.isnan(start):\n",
    "        plt.hlines([start, end], plt.xlim()[0], plt.xlim()[1], 'r', linestyles='dotted')\n",
    "    ax.axes.xaxis.set_ticklabels([])\n",
    "    ax.spines['left'].set_position('zero')\n",
    "    ax.axes.yaxis.set_ticklabels([])\n",
    "    sns.despine(ax=ax)    \n",
    "    # plt.xlim(xmax=80)  # plt.xlim()[1] * 1.5\n",
    "    box = ax.get_position()\n",
    "    # ax.set_position([box.x0, box.y0, box.width * 0.8, box.height])    \n",
    "    ax.legend(loc='upper left', bbox_to_anchor=(0.2, 1))\n",
    "    # legend = plt\n",
    "#     frame = legend.get_frame()\n",
    "#     frame.set_color('white')\n",
    "\n",
    "    plt.tight_layout(0, rect=(0, 0, 0.95, 1))\n",
    "    plt.autoscale(tight=True)\n",
    "\n",
    "    if publish:\n",
    "        if filename is None:\n",
    "            filename = 'flash_with_profiles_c%d_f%d.jpg' % (cam, frame)\n",
    "        plt.savefig(os.path.join(paper_figures_dir, filename))\n",
    "    return fig\n"
   ]
  },
  {
   "cell_type": "code",
   "execution_count": 26,
   "metadata": {
    "collapsed": false,
    "run_control": {
     "frozen": false,
     "read_only": false
    }
   },
   "outputs": [],
   "source": [
    "cam = 2\n",
    "frame = 8295\n",
    "f2d = np.diff(features[cam].astype(float), axis=1)\n",
    "_ = plot_frame_with_profile(cam, frame, features, diff2d=f2d, filename='flash_with_profiles_c%d_f%d.pdf' % (cam, frame))"
   ]
  },
  {
   "cell_type": "code",
   "execution_count": 27,
   "metadata": {
    "collapsed": false,
    "run_control": {
     "frozen": false,
     "read_only": false
    }
   },
   "outputs": [],
   "source": [
    "# plot diff profile\n",
    "cam = 2\n",
    "frame = 740\n",
    "f2d = np.diff(features[cam].astype(float), axis=1)\n",
    "profile = f2d[:, frame - 1]\n",
    "# middle, start, end = ramp_detection(profile)\n",
    "\n",
    "fig = plt.figure()\n",
    "fig.set_size_inches(fig_width_in, fig_height_in * 0.5)\n",
    "if not publish:\n",
    "    plt.title('median line intensity difference')\n",
    "# profile = f2d[:, frame - 1]\n",
    "# plt.plot(profile, range(len(profile)), label='flash frame')\n",
    "plt.plot(range(len(profile)), f2d[:, frame - 1]) # , label='frame - 1')\n",
    "plt.ylabel('pixel intensity')\n",
    "plt.xlabel('row in pixels')\n",
    "# plt.ylim(ymin=-5)\n",
    "# plt.xlim(xmax=len(profile))\n",
    "# plt.yticks([0, 10, 20, 30, 40])\n",
    "sns.despine(fig, trim=True)\n",
    "# ax.spines['bottom'].set_position('zero')\n",
    "# plt.legend()\n",
    "plt.tight_layout(0)\n",
    "\n",
    "if publish:\n",
    "    filename = 'diff_profile_c%d_f%d.pdf' % (cam, frame)\n",
    "    plt.savefig(os.path.join(paper_figures_dir, filename))\n",
    "\n",
    "# ramp_pos, ramp_start, ramp_end, ramp_middle_val = ramp_detection_middle_val(profile)\n",
    "# plt.plot(ramp_middle_val, ramp_start, 'r.')\n",
    "# plt.plot(ramp_middle_val, ramp_end, 'r.')\n",
    "\n",
    "# output_file(\"diff_median_luminance.html\", title=\"diff median luminance\")\n",
    "# fig = mpl.to_bokeh()\n",
    "# import bokeh.models.tools\n",
    "# fig.add_tools(bokeh.models.tools.ResizeTool())\n",
    "# show(fig)"
   ]
  },
  {
   "cell_type": "code",
   "execution_count": 134,
   "metadata": {
    "collapsed": false,
    "run_control": {
     "frozen": true,
     "read_only": true
    }
   },
   "outputs": [
    {
     "data": {
      "text/plain": [
       "[<matplotlib.lines.Line2D at 0x7f4bf98b6690>,\n",
       " <matplotlib.lines.Line2D at 0x7f4bf63c6990>]"
      ]
     },
     "execution_count": 134,
     "metadata": {},
     "output_type": "execute_result"
    }
   ],
   "source": [
    "# plot diff for all frames with detected events\n",
    "plt.figure()\n",
    "f2d[f2d < 0] = 0\n",
    "img = cv2.normalize(f2d, None, alpha=0, beta=255, norm_type=cv2.NORM_MINMAX, dtype=8)\n",
    "plt.imshow(img.T, cmap='gray')  # warning: inline figure is too small to show 1 px wide artefacts\n",
    "plt.grid(False)\n",
    "plt.axis('tight')\n",
    "plt.plot(events[cam][['start', 'end']].view((float, 2)), events[cam]['frame'] - 1, '.r')\n"
   ]
  },
  {
   "cell_type": "markdown",
   "metadata": {},
   "source": [
    "## Batch Event Visualization"
   ]
  },
  {
   "cell_type": "code",
   "execution_count": 662,
   "metadata": {
    "collapsed": false,
    "run_control": {
     "frozen": false,
     "read_only": false
    }
   },
   "outputs": [],
   "source": [
    "# plot flash images with corresponding profiles\n",
    "plt.interactive(False)\n",
    "for cam, cam_events in events.iteritems():\n",
    "    diff2d = np.diff(features[cam].astype(float), axis=1)\n",
    "    \n",
    "    mask_not_trimmed = (cam_events['start'] > obsolete_regions[cam]['top']) & (cam_events['end'] < obsolete_regions[cam]['bottom']) \n",
    "    event_length_px = np.median(cam_events[mask_not_trimmed]['end'] - cam_events[mask_not_trimmed]['start'])\n",
    "    mask_bad = (~(cam_events['end'] == obsolete_regions[cam]['bottom']) & \n",
    "                ((cam_events['end'] - cam_events['start']) < event_length_px * 0.9)) | \\\n",
    "               ((cam_events['end'] - cam_events['start']) > event_length_px * 1.1)  | \\\n",
    "                (cam_events['start'] <= obsolete_regions[cam]['top'])   \n",
    "            \n",
    "    for e in cam_events[~mask_bad]:\n",
    "        fig = plot_frame_with_profile(cam, e['frame'], features, diff2d)\n",
    "        plt.close(fig)\n",
    "    for e in cam_events[mask_bad]:\n",
    "        fig = plot_frame_with_profile(cam, e['frame'], features, diff2d,\n",
    "                                      filename='batch/bad/flash_with_profiles_c%d_f%d.jpg' % (cam, e['frame']))\n",
    "        plt.close(fig)\n",
    "        \n",
    "plt.interactive(True)"
   ]
  },
  {
   "cell_type": "code",
   "execution_count": null,
   "metadata": {
    "collapsed": false,
    "run_control": {
     "frozen": true,
     "read_only": true
    }
   },
   "outputs": [],
   "source": [
    "plt.interactive(False)\n",
    "for cam, cam_events in events.iteritems():\n",
    "    diff2d = np.diff(features[cam].astype(float), axis=1)\n",
    "plt.interactive(True)"
   ]
  },
  {
   "cell_type": "code",
   "execution_count": null,
   "metadata": {
    "collapsed": false,
    "run_control": {
     "frozen": true,
     "read_only": true
    }
   },
   "outputs": [],
   "source": [
    "features[cam][:, cam_events[:, 0].astype(int)].shape"
   ]
  },
  {
   "cell_type": "code",
   "execution_count": null,
   "metadata": {
    "collapsed": false,
    "run_control": {
     "frozen": true,
     "read_only": true
    }
   },
   "outputs": [],
   "source": [
    "plt.interactive(True)\n",
    "plt.plot(xrange(720), features[cam][:, cam_events[:, 0].astype(int)])\n",
    "plt.show()"
   ]
  },
  {
   "cell_type": "code",
   "execution_count": null,
   "metadata": {
    "collapsed": false,
    "run_control": {
     "frozen": true,
     "read_only": true
    }
   },
   "outputs": [],
   "source": [
    "diff2d = np.diff(features[cam].astype(float), axis=1)\n",
    "plt.plot(diff2d[:, cam_events[::5, 0].astype(int) - 1], xrange(720))"
   ]
  },
  {
   "cell_type": "markdown",
   "metadata": {},
   "source": [
    "## Timing Statistics"
   ]
  },
  {
   "cell_type": "code",
   "execution_count": 138,
   "metadata": {
    "collapsed": false,
    "run_control": {
     "frozen": false,
     "read_only": false
    }
   },
   "outputs": [
    {
     "data": {
      "text/plain": [
       "[5997, 29824, 29840, 25052, 25358]"
      ]
     },
     "execution_count": 138,
     "metadata": {},
     "output_type": "execute_result"
    }
   ],
   "source": [
    "[len(sync.frame_timings[cam]) for cam in all_cameras]"
   ]
  },
  {
   "cell_type": "code",
   "execution_count": 139,
   "metadata": {
    "collapsed": false,
    "run_control": {
     "frozen": false,
     "read_only": false
    }
   },
   "outputs": [
    {
     "name": "stdout",
     "output_type": "stream",
     "text": [
      "[ 1.24  1.12  1.01  1.74  1.52]\n"
     ]
    }
   ],
   "source": [
    "features_start_minutes = [sync.frame_timings[cam][features_start[cam]] / 1000. / 60. for cam in all_cameras]\n",
    "print np.array2string(np.array(features_start_minutes), precision=2)"
   ]
  },
  {
   "cell_type": "code",
   "execution_count": 30,
   "metadata": {
    "collapsed": true,
    "run_control": {
     "frozen": false,
     "read_only": false
    }
   },
   "outputs": [
    {
     "name": "stdout",
     "output_type": "stream",
     "text": [
      "[ 20  12  20  12  20  12  19  65  12 116  12  20 128  12  52  12 116  32  44  20  12  19  32  13  20  63  33  12  20  12  20  12  64  20  32  12  20\n",
      "  12  52  12  20  12  20  12  32  32  20  12  20  12  32  20  12  64  20  12  32  20  12  51  45  20  12  64  20  12  20  12  20  12  20  12  20  12\n",
      "  20  12  84  12  32  32  31  20  13  32  20  12  20  12  84  12  20  12  52  12  20  32  12  20  12  20  12  20  12  20  12  20  12  20  44  20  12\n",
      "  20  12  20  12  20  12  20  12  20  12  20  32 140  32  20  12  20  12  32  64  20  12  32  20  12  20  12  20  12  32  20  12  20  12  20  12  20\n",
      "  12 180  12  32  32  32  20  12  20  64  32  12  20  44 116  12  20  12  64 148  12  20  64  12  20  12  20  12 128  52  12  20  76  84  12  20  12\n",
      "  20  12  20  12  32  20  12  32  52  12  20  12  32  20  32  12  20  12  20 109  31  20  12  20  12  20  12  20  12  33]\n",
      "[ 96  96  96  64  96  96  96  96  64  96  96  96  96  64  96  96 160  96  96  96  96  64  96  96  96  64 128  64  96  96  96  96  64  96  96  96  96\n",
      "  64  96  96  96  96  64  96  96 162  64  96  96  96  96  64  96  96  96  96  64  96  96  96  96  96  64  96  96  96  64  96  96  96  64  96  96  96\n",
      "  96  96  64  96  96  64  96  96  96  96  64  96  96  96  96  64  96  96  96  96  64  96  96  96  96  64  96  96  96  96  64  96  96  96  96  64  96\n",
      "  96  96  96  96  64  96  96  96  96  64  96  96  96  96  96  64  96  64  96  96  96  96  96  64  96  96  96  64 384  64  96  96  96  96  64  96  96\n",
      "  96  96  64  96  96  96  64  96  96  96  96  96  64  96  96  96  64  96  96  96  96  64  96  96  96  96  64  96 192  96  64  96  96  96  64  96  96\n",
      "  96  96  64  96  96  96  96  96  64  96  96  96  96  64  96  96  96  96  64  96  96  96  96  64  96  96  96  96  64  96  96  96  96  64  96  96  96\n",
      "  96  64  96  96  96  96  64  96  96  96  96  96  64  96  96  96  96  64  96  96  96  64  96  96  96  96  64  96  96  96  96  96  64  96  96  96  64\n",
      "  96  96  96  96  64  96  96  96  64  96  96  96  96  96  64  96  96  96  64 448 192  96  96  64  96  96 160  96  64  96  96  96  96  64  96  96  96\n",
      "  96  64  96  96  96 128  64  96  96  96  96  64  96  96  96  64  96  96  96  96  96  64  96  96]\n"
     ]
    }
   ],
   "source": [
    "# periodicity of non standard frame durations \n",
    "print np.diff(np.nonzero((np.diff(sync.frame_timings[0]) == 159))[0])\n",
    "print np.diff(np.nonzero((np.diff(sync.frame_timings[2]) == 41))[0])"
   ]
  },
  {
   "cell_type": "code",
   "execution_count": 152,
   "metadata": {
    "collapsed": false,
    "run_control": {
     "frozen": false,
     "read_only": false
    },
    "scrolled": true
   },
   "outputs": [
    {
     "data": {
      "text/html": [
       "<table>\n",
       "<tr><th style=\"text-align: right;\">  duration in ms</th><th style=\"text-align: right;\">  count</th></tr>\n",
       "<tr><td style=\"text-align: right;\">              40</td><td style=\"text-align: right;\">  29339</td></tr>\n",
       "<tr><td style=\"text-align: right;\">              41</td><td style=\"text-align: right;\">    318</td></tr>\n",
       "<tr><td style=\"text-align: right;\">              80</td><td style=\"text-align: right;\">    157</td></tr>\n",
       "<tr><td style=\"text-align: right;\">              81</td><td style=\"text-align: right;\">      5</td></tr>\n",
       "<tr><td style=\"text-align: right;\">             120</td><td style=\"text-align: right;\">      3</td></tr>\n",
       "<tr><td style=\"text-align: right;\">              39</td><td style=\"text-align: right;\">      1</td></tr>\n",
       "</table>"
      ],
      "text/plain": [
       "<IPython.core.display.HTML object>"
      ]
     },
     "metadata": {},
     "output_type": "display_data"
    }
   ],
   "source": [
    "# show timing visualizations\n",
    "# TODO produce some summary visualization\n",
    "\n",
    "for i, cam in enumerate([1]):  # all_cameras\n",
    "    frame_timings = np.round(get_timestamps_ms(os.path.join(data_root, p.c['video_sequences']) % cam, '20:00'), 6)\n",
    "    \n",
    "    fig = plt.figure()\n",
    "    diff_timing = np.diff(frame_timings)\n",
    "    unique_diff_timing = np.unique(diff_timing)\n",
    "    diff_mode, _ = stats.mode(diff_timing)\n",
    "    \n",
    "#     plt.hist(diff_timing, histtype='stepfilled', bins=unique_diff_timing, # range=(0.9 * np.median(diff_timing), 2.2 * np.median(diff_timing)), \n",
    "#              log=True, cumulative=True) # np.linspace(30, 90, 30)\n",
    "\n",
    "#     sns.distplot(diff_timing, kde=False, bins=unique_diff_timing,\n",
    "#                  hist_kws={'cumulative': True, 'histtype': 'stepfilled'}, \n",
    "#                  rug=False)\n",
    "#     plt.xticks(np.arange(diff_mode, diff_timing.max(), diff_mode))\n",
    "#     plt.title('Frame durations histogram (camera %d)' % cam)\n",
    "#     plt.xlabel('event timing difference [ms]')\n",
    "#     plt.ylabel('count')\n",
    "#     if publish:\n",
    "#         plt.savefig(os.path.join(paper_figures_dir, 'cam%d_durations_histogram.png' % cam))    \n",
    "\n",
    "    plt.figure()\n",
    "    val, count = np.unique(diff_timing, return_counts=True)\n",
    "    sort_idx = np.argsort(count)[::-1]    \n",
    "       \n",
    "    header = ['duration in ms', 'count']\n",
    "    table = np.vstack((val[sort_idx], count[sort_idx])).T\n",
    "    display(HTML(tabulate(table, header, tablefmt='html')))\n",
    "    break   \n",
    "    \n",
    "    print('cam %d: unique durations counts: %s' % (cam, str(count[sort_idx])))\n",
    "    bars = plt.bar(np.arange(len(count)), count[sort_idx], log=True)\n",
    "    plt.xticks(np.arange(len(count)) + 0.5, val[sort_idx], rotation='vertical') # np.round(val[sort_idx], 6)\n",
    "    plt.title('Frame durations statistics (camera %d)' % cam)\n",
    "    plt.xlabel('durations [ms]')\n",
    "    plt.ylabel('count')\n",
    "    plt.tight_layout()\n",
    "    if publish:\n",
    "        plt.savefig(os.path.join(paper_figures_dir, 'cam%d_frame_duration_statistics.png' % cam))\n",
    "    \n",
    "\n",
    "    mode_duration_ms, _ = stats.mode(diff_timing)\n",
    "    mask_clean = (0.8 * mode_duration_ms < diff_timing) & (diff_timing  < 1.2 * mode_duration_ms)\n",
    "    diff_timing_clean = diff_timing[np.nonzero(mask_clean)]\n",
    "    duration_errors = diff_timing_clean - mode_duration_ms * np.ones(len(diff_timing_clean)) \n",
    "    \n",
    "\n",
    "    plt.figure()\n",
    "    plt.plot(duration_errors, '.')\n",
    "    plt.title('Deviations from %0.2f ms frame duration (camera %d)' % (mode_duration_ms, cam))\n",
    "    plt.xlabel('frame')\n",
    "    plt.ylabel('deviation [ms]')\n",
    "    plt.yticks(np.unique(duration_errors))\n",
    "    plt.margins(y=0.05, x=0)\n",
    "    if publish:\n",
    "        plt.savefig(os.path.join(paper_figures_dir, 'cam%d_frame_duration_errors.png' % cam))\n",
    "       \n",
    "    plt.figure()\n",
    "    __ = plt.hist(duration_errors[np.nonzero(duration_errors)])\n",
    "    plt.title('Deviations from %0.2f ms frame duration (camera %d)' % (mode_duration_ms, cam))\n",
    "    plt.xlabel('deviation [ms]')\n",
    "    plt.ylabel('counts')    \n",
    "    if publish:\n",
    "        plt.savefig(os.path.join(paper_figures_dir, 'not used/cam%d_duration_errors_histogram.png' % cam))\n"
   ]
  },
  {
   "cell_type": "code",
   "execution_count": null,
   "metadata": {
    "collapsed": true,
    "run_control": {
     "frozen": false,
     "read_only": false
    }
   },
   "outputs": [],
   "source": []
  },
  {
   "cell_type": "code",
   "execution_count": 140,
   "metadata": {
    "collapsed": false,
    "run_control": {
     "frozen": false,
     "read_only": false
    }
   },
   "outputs": [
    {
     "data": {
      "text/html": [
       "<table>\n",
       "<tr><th style=\"text-align: right;\">  camera</th><th style=\"text-align: right;\">  frames</th><th>duration      </th><th style=\"text-align: right;\">  mode [ms]</th><th style=\"text-align: right;\">  mode fps</th><th style=\"text-align: right;\">  clean frames</th><th style=\"text-align: right;\">  bad frames</th><th style=\"text-align: right;\">  bad frames [%]</th><th style=\"text-align: right;\">  clean frames not accurate</th><th style=\"text-align: right;\">  clean frames not accurate [%]</th><th style=\"text-align: right;\">  sum clean frames error [ms]</th></tr>\n",
       "<tr><td style=\"text-align: right;\">       0</td><td style=\"text-align: right;\">    5997</td><td>0:19:59.852000</td><td style=\"text-align: right;\">     240.00</td><td style=\"text-align: right;\">      4.17</td><td style=\"text-align: right;\">          2984</td><td style=\"text-align: right;\">        3012</td><td style=\"text-align: right;\">           50.23</td><td style=\"text-align: right;\">                        174</td><td style=\"text-align: right;\">                           5.83</td><td style=\"text-align: right;\">                      -136.00</td></tr>\n",
       "<tr><td style=\"text-align: right;\">       1</td><td style=\"text-align: right;\">   29824</td><td>0:19:59.962000</td><td style=\"text-align: right;\">      40.00</td><td style=\"text-align: right;\">     25.00</td><td style=\"text-align: right;\">         29658</td><td style=\"text-align: right;\">         165</td><td style=\"text-align: right;\">            0.55</td><td style=\"text-align: right;\">                        319</td><td style=\"text-align: right;\">                           1.08</td><td style=\"text-align: right;\">                       317.00</td></tr>\n",
       "<tr><td style=\"text-align: right;\">       2</td><td style=\"text-align: right;\">   29840</td><td>0:19:59.974000</td><td style=\"text-align: right;\">      40.00</td><td style=\"text-align: right;\">     25.00</td><td style=\"text-align: right;\">         29711</td><td style=\"text-align: right;\">         128</td><td style=\"text-align: right;\">            0.43</td><td style=\"text-align: right;\">                        330</td><td style=\"text-align: right;\">                           1.11</td><td style=\"text-align: right;\">                       330.00</td></tr>\n",
       "<tr><td style=\"text-align: right;\">       3</td><td style=\"text-align: right;\">   25052</td><td>0:19:59.927000</td><td style=\"text-align: right;\">      40.00</td><td style=\"text-align: right;\">     25.00</td><td style=\"text-align: right;\">         20861</td><td style=\"text-align: right;\">        4190</td><td style=\"text-align: right;\">           16.73</td><td style=\"text-align: right;\">                        330</td><td style=\"text-align: right;\">                           1.58</td><td style=\"text-align: right;\">                       -16.00</td></tr>\n",
       "<tr><td style=\"text-align: right;\">       4</td><td style=\"text-align: right;\">   25358</td><td>0:19:59.960000</td><td style=\"text-align: right;\">      40.00</td><td style=\"text-align: right;\">     25.00</td><td style=\"text-align: right;\">         21307</td><td style=\"text-align: right;\">        4050</td><td style=\"text-align: right;\">           15.97</td><td style=\"text-align: right;\">                        299</td><td style=\"text-align: right;\">                           1.40</td><td style=\"text-align: right;\">                        38.00</td></tr>\n",
       "</table>"
      ],
      "text/plain": [
       "<IPython.core.display.HTML object>"
      ]
     },
     "metadata": {},
     "output_type": "display_data"
    },
    {
     "name": "stdout",
     "output_type": "stream",
     "text": [
      "\n",
      "- clean frames: duration close to duration mode\n",
      "- bad frames: other frames, mainly dropped frames and other outliers\n",
      "- clean frames not accurate: clean frames with duration other than mode\n",
      "- clean frames not accurate [%]: out of clean frames\n",
      "\n"
     ]
    }
   ],
   "source": [
    "statistics = []\n",
    "for i, cam in enumerate(all_cameras):\n",
    "    frame_timings = np.round(get_timestamps_ms(os.path.join(data_root, p.c['video_sequences']) % cam, '20:00'), 6)\n",
    "    diff_timing = np.diff(frame_timings)\n",
    "    mode_duration_ms, _ = stats.mode(diff_timing)\n",
    "    mask_clean = (0.8 * mode_duration_ms < diff_timing) & (diff_timing  < 1.2 * mode_duration_ms)\n",
    "    diff_timing_clean = diff_timing[np.nonzero(mask_clean)]\n",
    "    duration_errors = diff_timing_clean - mode_duration_ms * np.ones(len(diff_timing_clean))\n",
    "    \n",
    "    statistics.append(OrderedDict([\n",
    "                       ('camera', cam), \n",
    "                       ('frames', len(frame_timings)), \n",
    "                       ('duration', datetime.timedelta(milliseconds=frame_timings[-1])),\n",
    "                       ('mode [ms]', mode_duration_ms),\n",
    "                       ('mode fps', 1000 / mode_duration_ms),\n",
    "                       ('clean frames', np.count_nonzero(mask_clean)),\n",
    "                       ('bad frames', len(diff_timing) - np.count_nonzero(mask_clean)),\n",
    "                       ('bad frames [%]', (len(diff_timing) - np.count_nonzero(mask_clean)) / float(len(diff_timing)) * 100),                       \n",
    "                       ('clean frames not accurate', np.count_nonzero(duration_errors)),\n",
    "                       ('clean frames not accurate [%]', np.count_nonzero(duration_errors) / float(len(duration_errors)) * 100),\n",
    "                       ('sum clean frames error [ms]', duration_errors.sum())\n",
    "                      ]))\n",
    "    \n",
    "display(HTML(tabulate(statistics, headers='keys', tablefmt='html', floatfmt='0.2f')))\n",
    "print \"\"\"\n",
    "- clean frames: duration close to duration mode\n",
    "- bad frames: other frames, mainly dropped frames and other outliers\n",
    "- clean frames not accurate: clean frames with duration other than mode\n",
    "- clean frames not accurate [%]: out of clean frames\n",
    "\"\"\"  "
   ]
  },
  {
   "cell_type": "code",
   "execution_count": 153,
   "metadata": {
    "collapsed": false,
    "run_control": {
     "frozen": false,
     "read_only": false
    }
   },
   "outputs": [],
   "source": [
    "plt.close('all')"
   ]
  },
  {
   "cell_type": "code",
   "execution_count": null,
   "metadata": {
    "collapsed": false,
    "run_control": {
     "frozen": true,
     "read_only": true
    },
    "scrolled": true
   },
   "outputs": [],
   "source": [
    "mean_error_in_lines = np.mean(duration_errors) / mode_duration_ms * images_dimensions[cam][0]\n",
    "std_error_in_lines = np.std(duration_errors) / mode_duration_ms * images_dimensions[cam][0]\n",
    "print mean_error_in_lines, std_error_in_lines"
   ]
  },
  {
   "cell_type": "markdown",
   "metadata": {},
   "source": [
    "## Synchronization"
   ]
  },
  {
   "cell_type": "code",
   "execution_count": 31,
   "metadata": {
    "collapsed": true,
    "run_control": {
     "frozen": false,
     "read_only": false
    }
   },
   "outputs": [],
   "source": [
    "# manual event association\n",
    "cameras = [1, 2, 3, 4]\n",
    "event_selection_idx = {1: [0, 1], 2: [0, 1], 3: [0, 1], 4: [0, 1]}\n",
    "# cameras = [1, 2]\n",
    "# event_selection_idx = {1: [0, 1, 2, 3, 9], 2: [0, 1, 2, 3, 11]}\n",
    "# cameras = [3, 4]\n",
    "# event_selection_idx = {3: [0, 1, 3], 4: [0, 1, 2]}"
   ]
  },
  {
   "cell_type": "code",
   "execution_count": 32,
   "metadata": {
    "collapsed": true,
    "run_control": {
     "frozen": false,
     "read_only": false
    }
   },
   "outputs": [],
   "source": [
    "synchronization_events_idx = {1: 0, 2: 0, 3: 0, 4: 0}"
   ]
  },
  {
   "cell_type": "code",
   "execution_count": 33,
   "metadata": {
    "collapsed": false,
    "run_control": {
     "frozen": false,
     "read_only": false
    }
   },
   "outputs": [],
   "source": [
    "event_selection = {cam: timed_events[cam][idxs] for cam, idxs in event_selection_idx.iteritems()}"
   ]
  },
  {
   "cell_type": "code",
   "execution_count": 34,
   "metadata": {
    "collapsed": false,
    "run_control": {
     "frozen": false,
     "read_only": false
    }
   },
   "outputs": [],
   "source": [
    "# show paired event frames side by side\n",
    "def show_synchronized_frames(indices, cameras, events, publish=False):\n",
    "    if publish:\n",
    "        ydim = int(math.floor(math.sqrt(len(cameras))))\n",
    "        xdim = int(math.ceil(len(cameras) / ydim))\n",
    "        frame_str = ''\n",
    "    for i, (idx, cam) in enumerate(zip(indices, cameras)):\n",
    "        frame = events[cam][idx]['frame']\n",
    "        if publish:\n",
    "            plt.subplot(ydim, xdim, i + 1)\n",
    "            frame_str += '_' + str(frame)\n",
    "        else:\n",
    "            plt.figure()\n",
    "        plt.imshow(images.get_image(features_start[cam] + frame, cam)) \n",
    "        plt.grid(False)\n",
    "        plt.axis('off')\n",
    "\n",
    "    if publish:\n",
    "        plt.tight_layout(pad=1)\n",
    "        plt.savefig(os.path.join(paper_figures_dir, 'flashes%s.png' % frame_str))"
   ]
  },
  {
   "cell_type": "code",
   "execution_count": null,
   "metadata": {
    "collapsed": true,
    "run_control": {
     "frozen": true,
     "read_only": true
    }
   },
   "outputs": [],
   "source": [
    "i = 4\n",
    "show_synchronized_frames([event_selection_idx[cam][i] for cam in cameras], cameras, timed_events, publish=False)"
   ]
  },
  {
   "cell_type": "code",
   "execution_count": 149,
   "metadata": {
    "collapsed": false,
    "run_control": {
     "frozen": false,
     "read_only": false
    }
   },
   "outputs": [
    {
     "data": {
      "image/png": "[encoded data removed]",
      "text/plain": [
       "<matplotlib.figure.Figure at 0x7f4bf5d9b490>"
      ]
     },
     "execution_count": 149,
     "metadata": {},
     "output_type": "execute_result"
    }
   ],
   "source": [
    "# visualize all events detected in 2 video streams\n",
    "fig = plt.figure()\n",
    "\n",
    "assert len(cameras) == 2\n",
    "   \n",
    "for cam, color in zip(cameras, ('r', 'g')):    \n",
    "    plt.plot(np.tile(timed_events[cam]['timing'], (2, 1)), timed_events[cam][['start', 'end']].view((float, 2)).T, \n",
    "             '-' + color) # \n",
    "#     for i, event in enumerate(events[cam]):\n",
    "#         if event['frame'] == -1:\n",
    "#             continue\n",
    "#         if publish:\n",
    "#             s = '%0.2f' % event['frame']\n",
    "#         else:\n",
    "#             s = '%d: %0.2f' % (i, event['frame'])\n",
    "#         plt.annotate(s, (event_timing[cam], event['start']), (0, -20), \n",
    "#                      textcoords='offset points', color=color)    \n",
    "# plt.axis('tight')\n",
    "# __ = plt.xlim(0, width)\n",
    "# plt.imsave('diff_median.png', diff_img)\n",
    "# matplotutils.save_figure_as_image('diff_median.png', fig)\n",
    "if publish:\n",
    "    plt.savefig(os.path.join(paper_figures_dir, 'diff_median_rg_cam%d%d.png' % tuple(cameras))) # , bbox_inches='tight') # , pad_inches=0\n",
    "else:\n",
    "    plt.title('composite diff image emphasizing flash events, cam %d - red, %d - green' % tuple(cameras))\n",
    "    \n",
    "fig"
   ]
  },
  {
   "cell_type": "code",
   "execution_count": 206,
   "metadata": {
    "collapsed": false,
    "run_control": {
     "frozen": false,
     "read_only": false
    },
    "scrolled": true
   },
   "outputs": [],
   "source": [
    "# def get_subframe_timing(events, timings, height):\n",
    "#     frame_duration_ms = np.median(np.diff(timings))\n",
    "#     subframe_ms = events['start'] / height * frame_duration_ms\n",
    "#     return events['timing'] + subframe_ms\n",
    "\n",
    "def get_subframe_timing(cam, events, event_idx=slice(None)):\n",
    "    frame_duration_ms = np.median(np.diff(sync.get_timings()[cam]))\n",
    "    height = images_dimensions[cam][0]\n",
    "    subframe_ms = (height - events[cam][event_idx]['start']) / height * frame_duration_ms\n",
    "    # events[cam][event_idx]['timing'] +\n",
    "    return subframe_ms\n",
    "\n",
    "# get_subframe_timing(timed_events[cameras[0]][event_pairs_idx[0]], sync.get_timings()[cameras[0]], height=images_dimensions[cameras[0]][0]) - \\\n",
    "# get_subframe_timing(timed_events[cameras[1]][event_pairs_idx[1]], sync.get_timings()[cameras[1]], height=images_dimensions[cameras[1]][0])\n",
    "\n",
    "# get_subframe_timing(cameras[0], event_pairs_idx[0])\n",
    "# get_subframe_timing(cameras[1], event_pairs_idx[1])"
   ]
  },
  {
   "cell_type": "markdown",
   "metadata": {},
   "source": [
    "### Events Matching"
   ]
  },
  {
   "cell_type": "code",
   "execution_count": 41,
   "metadata": {
    "collapsed": false,
    "run_control": {
     "frozen": false,
     "read_only": false
    }
   },
   "outputs": [],
   "source": [
    "timed_events_nan = {}\n",
    "nan_event = np.array((-1, np.nan, np.nan, np.nan, np.nan), \n",
    "                     dtype=[('frame', int),('start', float), ('end', float), ('position', float), ('timing', float)])\n",
    "for cam in cameras:\n",
    "    timed_events_nan[cam] = np.append(timed_events[cam], nan_event)"
   ]
  },
  {
   "cell_type": "code",
   "execution_count": 500,
   "metadata": {
    "collapsed": false,
    "run_control": {
     "frozen": false,
     "read_only": false
    }
   },
   "outputs": [],
   "source": [
    "# find close events\n",
    "def match_events(timings, cameras, offsets, base_cam, close_events_thresh_ms=35):\n",
    "    nan_val = np.nan\n",
    "    timings_rel = {cam: timings[cam] - offsets[cam] for cam in cameras}\n",
    "    \n",
    "#     fig = plt.figure()\n",
    "#     plt.eventplot([t for t in timings_rel.values()]) # , colors=['r', 'b']) # , 'r', 'b'])\n",
    "#     sns.despine(fig)\n",
    "    \n",
    "    n_timings = {cam: len(timings[cam]) for cam in cameras}\n",
    "    cam2idx = {cam: i for i, cam in enumerate(cameras)}\n",
    "    for cam in cameras:\n",
    "        assert np.all(np.diff(timings[cam]) > 0)\n",
    "    position = {cam: 0 for cam in cameras}\n",
    "    all_matched = []\n",
    "    while position[base_cam] < n_timings[base_cam]:        \n",
    "        matched = [nan_val] * len(cameras)\n",
    "        matched[cam2idx[base_cam]] = position[base_cam]\n",
    "        position[base_cam] += 1\n",
    "        for cam in set(cameras) - set([base_cam]):\n",
    "            while position[cam] < n_timings[cam] and \\\n",
    "                timings_rel[cam][position[cam]] < timings_rel[base_cam][matched[cam2idx[base_cam]]] - close_events_thresh_ms:\n",
    "                single_event = [nan_val] * len(cameras)\n",
    "                single_event[cam2idx[cam]] = position[cam]\n",
    "                all_matched.append(single_event)          \n",
    "                position[cam] += 1\n",
    "            if position[cam] != n_timings[cam] and \\\n",
    "                timings_rel[cam][position[cam]] < timings_rel[base_cam][matched[cam2idx[base_cam]]] + close_events_thresh_ms:\n",
    "                matched[cam2idx[cam]] = position[cam]\n",
    "                position[cam] += 1\n",
    "        all_matched.append(matched)\n",
    "        \n",
    "    for cam in set(cameras) - set([base_cam]):\n",
    "        while position[cam] < n_timings[cam]:\n",
    "            single_event = [nan_val] * len(cameras)\n",
    "            single_event[cam2idx[cam]] = position[cam]\n",
    "            all_matched.append(single_event)                \n",
    "            position[cam] += 1\n",
    "\n",
    "    return np.array(all_matched)\n",
    "              \n",
    "\n",
    "base_cam = 1\n",
    "cameras = [1, 2, 3, 4]\n",
    "matched = match_events({cam: timed_events[cam]['timing'] for cam in cameras}, cameras, \n",
    "             {cam: timed_events[cam][event_selection_idx[cam][0]]['timing'] for cam in cameras}, # timed_events[base_cam][event_selection_idx[base_cam][0]]['timing'] - \n",
    "             base_cam, close_events_thresh_ms=80)\n",
    "mask_full_match = ~np.isnan(matched.sum(axis=1))"
   ]
  },
  {
   "cell_type": "code",
   "execution_count": 43,
   "metadata": {
    "collapsed": false,
    "run_control": {
     "frozen": false,
     "read_only": false
    }
   },
   "outputs": [],
   "source": [
    "# visualize not synchronized events\n",
    "fig = plt.figure()\n",
    "timings = [timed_events[cam]['timing'] for cam in cameras]\n",
    "plt.eventplot(timings, \n",
    "              colors=sns.color_palette(n_colors=len(cameras)),\n",
    "              linelengths=0.95)\n",
    "plt.yticks(np.arange(len(cameras)), cameras)\n",
    "plt.ylabel('cameras')\n",
    "max_timing = max([max(t) for t in timings])\n",
    "plt.xticks(np.arange(0, max_timing, step=200000),\n",
    "           (np.arange(0, max_timing, step=200000) / 1000).astype(int))\n",
    "plt.xlabel('time in seconds')\n",
    "plt.tight_layout(0)\n",
    "sns.despine(fig) # , left=True)\n",
    "if publish:\n",
    "    plt.savefig(os.path.join(paper_figures_dir, 'events_' + '_'.join([str(c) for c in cameras]) + '.pdf'))"
   ]
  },
  {
   "cell_type": "code",
   "execution_count": 44,
   "metadata": {
    "collapsed": false,
    "run_control": {
     "frozen": false,
     "read_only": false
    }
   },
   "outputs": [
    {
     "data": {
      "text/plain": [
       "array([ True,  True, False,  True, False, False, False, False, False, False, False, False, False, False, False, False, False, False, False, False,\n",
       "       False, False, False, False, False, False, False, False, False, False, False, False, False, False, False,  True,  True, False, False, False,\n",
       "       False, False,  True,  True, False, False, False, False, False,  True, False, False, False, False, False,  True, False, False, False, False,\n",
       "        True,  True, False, False,  True], dtype=bool)"
      ]
     },
     "execution_count": 44,
     "metadata": {},
     "output_type": "execute_result"
    }
   ],
   "source": [
    "mask_full_match"
   ]
  },
  {
   "cell_type": "code",
   "execution_count": 45,
   "metadata": {
    "collapsed": false,
    "run_control": {
     "frozen": false,
     "read_only": false
    }
   },
   "outputs": [],
   "source": [
    "# visualize aligned events\n",
    "offsets = {cam: timed_events[cam][event_selection_idx[cam][0]]['timing'] for cam in cameras}\n",
    "timings_rel = {cam: timed_events[cam]['timing'] - offsets[cam] for cam in cameras}\n",
    "\n",
    "# subframe = {cam: get_subframe_timing(cam, timed_events) for cam in cameras}\n",
    "# subframe_rel = {cam: timings_rel[cam] + subframe[cam] for cam in cameras}\n",
    "plt.eventplot([t for t in timings_rel.values()],\n",
    "              colors=sns.color_palette(n_colors=len(cameras)),\n",
    "              linelengths=0.95)\n",
    "plt.yticks(np.arange(len(cameras)), cameras)\n",
    "plt.ylabel('cameras')\n",
    "max_timing = max([max(timings_rel[cam]) for cam in cameras])\n",
    "plt.xticks(np.arange(0, max_timing, step=200000),\n",
    "           (np.arange(0, max_timing, step=200000) / 1000).astype(int))\n",
    "plt.xlabel('time in seconds')\n",
    "plt.tight_layout(0)\n",
    "sns.despine(fig) # , left=True)"
   ]
  },
  {
   "cell_type": "code",
   "execution_count": 46,
   "metadata": {
    "collapsed": false,
    "run_control": {
     "frozen": false,
     "read_only": false
    }
   },
   "outputs": [],
   "source": [
    "# matched_nan = matched.astype(float)\n",
    "# matched_nan[matched_nan == -1] = np.nan\n",
    "# mask_full_match = ~np.isnan(matched_nan.sum(axis=1))\n",
    "# base_cam_idx = 0\n",
    "# for idx, cam in enumerate(cameras):\n",
    "#     print timed_events_nan[cam][matched[:, idx]][mask_full_match]['timing'] - timed_events_nan[base_cam][matched[:, base_cam_idx]][mask_full_match]['timing']"
   ]
  },
  {
   "cell_type": "code",
   "execution_count": 47,
   "metadata": {
    "collapsed": false,
    "run_control": {
     "frozen": false,
     "read_only": false
    }
   },
   "outputs": [],
   "source": [
    "matched_events = {}\n",
    "for idx, cam in enumerate(cameras):\n",
    "    matched_events[cam] = timed_events[cam][matched[mask_full_match].astype(int)[:, idx]]"
   ]
  },
  {
   "cell_type": "code",
   "execution_count": 48,
   "metadata": {
    "collapsed": true,
    "run_control": {
     "frozen": false,
     "read_only": false
    }
   },
   "outputs": [],
   "source": [
    "def get_matched_events(cameras, events, event_selection_idx, base_cam):\n",
    "    matched = match_events({cam: events[cam]['timing'] for cam in cameras}, cameras, \n",
    "                 {cam: events[cam][event_selection_idx[cam][0]]['timing'] for cam in cameras}, \n",
    "                 base_cam, close_events_thresh_ms=80)\n",
    "    mask_full_match = ~np.isnan(matched.sum(axis=1))\n",
    "    matched_events = {}\n",
    "    for idx, cam in enumerate(cameras):\n",
    "        matched_events[cam] = events[cam][matched[mask_full_match].astype(int)[:, idx]]\n",
    "    return matched_events"
   ]
  },
  {
   "cell_type": "code",
   "execution_count": 49,
   "metadata": {
    "collapsed": false,
    "run_control": {
     "frozen": false,
     "read_only": false
    }
   },
   "outputs": [
    {
     "data": {
      "text/plain": [
       "{1: array([(96, 233.0, 1000.0, 96.10787037037036, 70779.0), (248, 936.0, 1969.0, 248.43333333333334, 76860.0),\n",
       "        (546, 890.0, 1637.0, 546.4120370370371, 88943.0), (6466, 902.0, 1645.0, 6466.417592592593, 327168.0),\n",
       "        (6631, 486.0, 1240.0, 6631.225, 333849.0), (8313, 1965.0, 2159.0, 8313.909722222223, 401427.0),\n",
       "        (8609, 438.0, 1210.0, 8609.202777777778, 413471.0), (10182, 697.0, 1450.0, 10182.322685185185, 477368.0),\n",
       "        (11827, 621.0, 1383.0, 11827.2875, 543546.0), (13370, 547.0, 1307.0, 13370.253240740742, 605602.0),\n",
       "        (13417, 1916.0, 2159.0, 13417.887037037037, 607523.0), (14834, 821.0, 1575.0, 14834.380092592593, 664418.0)], \n",
       "       dtype=[('frame', '<i8'), ('start', '<f8'), ('end', '<f8'), ('position', '<f8'), ('timing', '<f8')]),\n",
       " 2: array([(96, 1246.0, 2043.0, 96.57685185185186, 64697.0), (247, 1968.0, 2159.0, 247.9111111111111, 70779.0),\n",
       "        (547, 1922.0, 2159.0, 547.8898148148148, 82862.0), (6446, 1916.0, 2159.0, 6446.887037037037, 321089.0),\n",
       "        (6613, 1491.0, 2159.0, 6613.690277777778, 327771.0), (8295, 339.0, 1111.0, 8295.156944444445, 395389.0),\n",
       "        (8594, 1436.0, 2159.0, 8594.664814814814, 407393.0), (10186, 1693.0, 2159.0, 10186.783796296297, 471290.0),\n",
       "        (11830, 1610.0, 2159.0, 11830.74537037037, 537469.0), (13371, 1532.0, 2159.0, 13371.70925925926, 599526.0),\n",
       "        (13418, 267.0, 1983.0, 13418.12361111111, 601487.0), (14835, 1806.0, 2159.0, 14835.836111111112, 658342.0)], \n",
       "       dtype=[('frame', '<i8'), ('start', '<f8'), ('end', '<f8'), ('position', '<f8'), ('timing', '<f8')]),\n",
       " 3: array([(77, 238.0, 540.0, 77.33055555555555, 108273.0), (203, 551.0, 719.0, 203.76527777777778, 114353.0), (457, 630.0, 719.0, 457.875, 126432.0),\n",
       "        (5447, 536.0, 719.0, 5447.7444444444445, 364658.0), (5589, 432.0, 719.0, 5589.6, 371337.0), (7002, 530.0, 719.0, 7002.736111111111, 438933.0),\n",
       "        (7254, 60.0, 358.0, 7254.083333333333, 450973.0), (8583, 654.0, 719.0, 8583.908333333333, 514847.99999999994),\n",
       "        (9955, 161.0, 474.0, 9955.22361111111, 581044.0), (11247, 620.0, 719.0, 11247.861111111111, 643081.0),\n",
       "        (11286, 162.0, 476.0, 11286.225, 645040.0), (12463, 201.0, 511.0, 12463.279166666667, 701917.0)], \n",
       "       dtype=[('frame', '<i8'), ('start', '<f8'), ('end', '<f8'), ('position', '<f8'), ('timing', '<f8')]),\n",
       " 4: array([(78, 81.0, 376.0, 78.1125, 94637.0), (204, 388.0, 687.0, 204.5388888888889, 100716.0), (459, 458.0, 719.0, 459.6361111111111, 112796.0),\n",
       "        (5491, 204.0, 517.0, 5491.283333333334, 351029.0), (5632, 98.0, 394.0, 5632.136111111111, 357708.0),\n",
       "        (7048, 152.0, 448.0, 7048.211111111111, 425306.0), (7303, 648.0, 719.0, 7303.9, 437306.0), (8648, 220.0, 521.0, 8648.305555555555, 501224.0),\n",
       "        (10052, 666.0, 719.0, 10052.925, 567382.0), (11364, 102.0, 396.0, 11364.141666666666, 629460.0), (11404, 621.0, 719.0, 11404.8625, 631380.0),\n",
       "        (12607, 623.0, 719.0, 12607.865277777777, 688258.0)], \n",
       "       dtype=[('frame', '<i8'), ('start', '<f8'), ('end', '<f8'), ('position', '<f8'), ('timing', '<f8')])}"
      ]
     },
     "execution_count": 49,
     "metadata": {},
     "output_type": "execute_result"
    }
   ],
   "source": [
    "matched_events_ok = {cam: matched_events[cam] for cam in cameras}\n",
    "matched_events_ok"
   ]
  },
  {
   "cell_type": "code",
   "execution_count": 204,
   "metadata": {
    "collapsed": false,
    "run_control": {
     "frozen": true,
     "read_only": true
    }
   },
   "outputs": [],
   "source": [
    "# visualization: stream events synchronization\n",
    "def multitple_streams_events_visualization(cameras, offsets, events, start_s=0, duration_s=200):\n",
    "    camera_events = []\n",
    "    event_linestyles = []\n",
    "    for cam in cameras:\n",
    "        camera_events.extend([\n",
    "            # sync.get_timings()[cam] - offsets[cam],\n",
    "            events[cam]['timing'] - offsets[cam],\n",
    "            events[cam]['timing'] - offsets[cam] + get_subframe_timing(cam, events)\n",
    "            ])\n",
    "        event_linestyles.extend([\n",
    "                'dashed',\n",
    "                'solid'\n",
    "            ])\n",
    "\n",
    "    camera_events_short = []\n",
    "    for ce in camera_events:\n",
    "        event_range = xrange(*np.searchsorted(ce, [start_s * 1000, (start_s + duration_s) * 1000]))\n",
    "        camera_events_short.append(ce[event_range]) #  / 1000. / 60.)    \n",
    "\n",
    "    palettes = {1: 'Blues', 2: 'Reds', 3: 'Blues', 4: 'Reds'}\n",
    "    n_events_per_cam = len(camera_events_short) / len(cameras)\n",
    "    event_colors = []\n",
    "    event_lineoffsets = []\n",
    "    for i, cam in enumerate(cameras):\n",
    "        event_colors.extend(sns.color_palette(palettes[cam], n_events_per_cam))\n",
    "        event_lineoffsets.extend([i] * n_events_per_cam)       \n",
    "        \n",
    "\n",
    "    fig = plt.figure()\n",
    "    plots = plt.eventplot(camera_events_short, \n",
    "                  linelengths=1, \n",
    "                  lineoffsets=event_lineoffsets, \n",
    "                  colors=event_colors,\n",
    "                  linestyles=event_linestyles) #, label=[1, 1, 1, 1, 1, 1])\n",
    "    plt.xlabel('time in minutes')\n",
    "    # plt.legend((plots[0], plots[3]), ['cam %d' % cam for cam in cameras])     # probably not possible, plots[] are EventCollection(LineCollection) \n",
    "                                                                                # where no Artists are available for legend to bind to\n",
    "    fig.get_axes()[0].get_yaxis().set_visible(False)\n",
    "    plt.tight_layout(pad=1)\n",
    "    \n",
    "# multitple_streams_events_visualization(cameras, frame_offsets, duration_s=1300)"
   ]
  },
  {
   "cell_type": "code",
   "execution_count": 207,
   "metadata": {
    "collapsed": false,
    "run_control": {
     "frozen": true,
     "read_only": true
    }
   },
   "outputs": [],
   "source": [
    "# timed_events[cam][event_pairs_idx[cam]]\n",
    "subframe = {cam: get_subframe_timing(cam, matched_events_ok) for cam in cameras}\n",
    "\n",
    "offsets = {cam: timed_events[cam][event_selection_idx[cam][0]]['timing'] - \n",
    "                subframe[cam][event_selection_idx[cam][0]] for cam in cameras}\n",
    "subframe_timing = np.vstack([matched_events_ok[cam]['timing'] - subframe[cam] for cam in cameras])\n",
    "cam234_offsets = np.median(subframe_timing[1:] - subframe_timing[0], axis=1)\n",
    "offsets_subframe = {1: 0, 2: cam234_offsets[0], 3: cam234_offsets[1], 4: cam234_offsets[2]}\n",
    "plots = multitple_streams_events_visualization(cameras, \n",
    "                                               offsets_subframe, \n",
    "                                               matched_events_ok,\n",
    "                                               duration_s=1300)"
   ]
  },
  {
   "cell_type": "code",
   "execution_count": 50,
   "metadata": {
    "collapsed": false,
    "run_control": {
     "frozen": false,
     "read_only": false
    }
   },
   "outputs": [
    {
     "ename": "NameError",
     "evalue": "name 'subframe_timing' is not defined",
     "output_type": "error",
     "traceback": [
      "\u001b[0;31m---------------------------------------------------------------------------\u001b[0m",
      "\u001b[0;31mNameError\u001b[0m                                 Traceback (most recent call last)",
      "\u001b[0;32m<ipython-input-50-a39bde542ace>\u001b[0m in \u001b[0;36m<module>\u001b[0;34m()\u001b[0m\n\u001b[0;32m----> 1\u001b[0;31m \u001b[0;34m(\u001b[0m\u001b[0msubframe_timing\u001b[0m\u001b[0;34m[\u001b[0m\u001b[0;36m1\u001b[0m\u001b[0;34m:\u001b[0m\u001b[0;34m]\u001b[0m \u001b[0;34m-\u001b[0m \u001b[0msubframe_timing\u001b[0m\u001b[0;34m[\u001b[0m\u001b[0;36m0\u001b[0m\u001b[0;34m]\u001b[0m\u001b[0;34m)\u001b[0m\u001b[0;34m.\u001b[0m\u001b[0mstd\u001b[0m\u001b[0;34m(\u001b[0m\u001b[0maxis\u001b[0m\u001b[0;34m=\u001b[0m\u001b[0;36m1\u001b[0m\u001b[0;34m)\u001b[0m \u001b[0;34m*\u001b[0m \u001b[0mlines_per_ms\u001b[0m\u001b[0;34m[\u001b[0m\u001b[0;36m1\u001b[0m\u001b[0;34m:\u001b[0m\u001b[0;34m]\u001b[0m\u001b[0;34m\u001b[0m\u001b[0m\n\u001b[0m",
      "\u001b[0;31mNameError\u001b[0m: name 'subframe_timing' is not defined"
     ]
    }
   ],
   "source": [
    "(subframe_timing[1:] - subframe_timing[0]).std(axis=1) * lines_per_ms[1:]"
   ]
  },
  {
   "cell_type": "code",
   "execution_count": 274,
   "metadata": {
    "collapsed": false,
    "run_control": {
     "frozen": false,
     "read_only": false
    }
   },
   "outputs": [
    {
     "data": {
      "text/plain": [
       "array([[ -3.35,  -2.  ,  -2.  ,  -0.33,   0.5 ,  -8.22,   0.37,   0.33,   1.2 ,   2.13,  -6.65,   2.13],\n",
       "       [ -0.05,   3.32,   4.56,   0.12,   0.05,  -3.9 ,  -5.73,   0.47,  -7.51,   0.36, -12.44,  -7.99],\n",
       "       [  1.08,   3.12,   4.86,  -1.47,  -1.66,  -6.05,   5.79,  -1.79,   4.4 ,  -3.56,  -1.08,   2.31]])"
      ]
     },
     "execution_count": 274,
     "metadata": {},
     "output_type": "execute_result"
    }
   ],
   "source": [
    "(subframe_timing[1:] - subframe_timing[0]) - np.median(subframe_timing[1:] - subframe_timing[0], axis=1).reshape((-1, 1))"
   ]
  },
  {
   "cell_type": "code",
   "execution_count": 208,
   "metadata": {
    "collapsed": false,
    "run_control": {
     "frozen": false,
     "read_only": false
    }
   },
   "outputs": [],
   "source": [
    "lines_per_ms = np.array([images_dimensions[cam][0] for cam in cameras]) / 40."
   ]
  },
  {
   "cell_type": "code",
   "execution_count": 209,
   "metadata": {
    "collapsed": false,
    "run_control": {
     "frozen": true,
     "read_only": true
    }
   },
   "outputs": [],
   "source": [
    "fig = plt.figure()\n",
    "ax = fig.gca()\n",
    "colors = sns.color_palette(n_colors=3)\n",
    "for t, c in zip(subframe_timing[1:] - subframe_timing[0],\n",
    "                colors):\n",
    "    ax_ = ax.twinx()\n",
    "    ax_.plot(t, color=c)"
   ]
  },
  {
   "cell_type": "markdown",
   "metadata": {
    "collapsed": false,
    "run_control": {
     "frozen": false,
     "read_only": false
    }
   },
   "source": [
    "### Time vs px Diffs Evaluation"
   ]
  },
  {
   "cell_type": "code",
   "execution_count": 210,
   "metadata": {
    "collapsed": false,
    "run_control": {
     "frozen": false,
     "read_only": false
    }
   },
   "outputs": [],
   "source": [
    "timing_ok = np.vstack([matched_events_ok[cam]['timing'] for cam in cameras])\n",
    "start_ok = np.vstack([matched_events_ok[cam]['start'] for cam in cameras])\n",
    "timing_diff12 = timing_ok[0] - timing_ok[1]\n",
    "start_diff12 = start_ok[0] - start_ok[1]\n",
    "timing_diff34 = timing_ok[2] - timing_ok[3]\n",
    "start_diff34 = start_ok[2] - start_ok[3]\n",
    "\n",
    "timing_diff13 = timing_ok[0] - timing_ok[2]\n",
    "start_diff13 = start_ok[0] - start_ok[2]\n",
    "\n",
    "timing_diff14 = timing_ok[0] - timing_ok[2]\n",
    "start_diff14 = start_ok[0] - start_ok[2]"
   ]
  },
  {
   "cell_type": "code",
   "execution_count": 211,
   "metadata": {
    "collapsed": true,
    "run_control": {
     "frozen": false,
     "read_only": false
    }
   },
   "outputs": [],
   "source": [
    "fig = plt.figure()\n",
    "ax = fig.gca()\n",
    "colors = sns.color_palette(n_colors=3)\n",
    "for t, c in zip([timing_diff14, -start_diff14],\n",
    "                colors):\n",
    "    ax_ = ax.twinx()\n",
    "    ax_.plot(t, color=c)"
   ]
  },
  {
   "cell_type": "markdown",
   "metadata": {},
   "source": [
    "### Evaluation"
   ]
  },
  {
   "cell_type": "code",
   "execution_count": null,
   "metadata": {
    "collapsed": true,
    "run_control": {
     "frozen": false,
     "read_only": false
    }
   },
   "outputs": [],
   "source": [
    "offsets = {cam: timed_events[cam][synchronization_events_idx[cam]]['timing'] for cam in cameras}\n",
    "pairs = find_event_pairs(timed_events, cameras, offsets)\n",
    "synchronization_errors = \\\n",
    "(timed_events[cameras[0]][pairs[cameras[0]]]['timing'] - offsets[cameras[0]]) - \\\n",
    "(timed_events[cameras[1]][pairs[cameras[1]]]['timing'] - offsets[cameras[1]])"
   ]
  },
  {
   "cell_type": "code",
   "execution_count": 475,
   "metadata": {
    "collapsed": false,
    "run_control": {
     "frozen": false,
     "read_only": false
    },
    "scrolled": true
   },
   "outputs": [
    {
     "data": {
      "text/html": [
       "<table>\n",
       "<tr><th style=\"text-align: right;\">  cam1 [ms]</th><th style=\"text-align: right;\">  cam1 start [px]</th><th style=\"text-align: right;\">  cam1 sub [ms]</th><th style=\"text-align: right;\">  cam2 [ms]</th><th style=\"text-align: right;\">  cam2 start [px]</th><th style=\"text-align: right;\">  cam2 sub [ms]</th><th style=\"text-align: right;\">  cam3 [ms]</th><th style=\"text-align: right;\">  cam3 start [px]</th><th style=\"text-align: right;\">  cam3 sub [ms]</th><th style=\"text-align: right;\">  cam4 [ms]</th><th style=\"text-align: right;\">  cam4 start [px]</th><th style=\"text-align: right;\">  cam4 sub [ms]</th><th style=\"text-align: right;\">  diff 3 1 [ms]</th><th style=\"text-align: right;\">  diff start 3 1 [px]</th><th style=\"text-align: right;\">  diff sub 3 1 [ms]</th><th style=\"text-align: right;\">  diff start linfit resid 3 1 [px]</th><th style=\"text-align: right;\">  diff 3 2 [ms]</th><th style=\"text-align: right;\">  diff start 3 2 [px]</th><th style=\"text-align: right;\">  diff sub 3 2 [ms]</th><th style=\"text-align: right;\">  diff start linfit resid 3 2 [px]</th><th style=\"text-align: right;\">  diff 3 4 [ms]</th><th style=\"text-align: right;\">  diff start 3 4 [px]</th><th style=\"text-align: right;\">  diff sub 3 4 [ms]</th><th style=\"text-align: right;\">  diff start linfit resid 3 4 [px]</th></tr>\n",
       "<tr><td style=\"text-align: right;\">      70779</td><td style=\"text-align: right;\">              233</td><td style=\"text-align: right;\">        70743.3</td><td style=\"text-align: right;\">      64697</td><td style=\"text-align: right;\">             1246</td><td style=\"text-align: right;\">        64680.1</td><td style=\"text-align: right;\">     108273</td><td style=\"text-align: right;\">              238</td><td style=\"text-align: right;\">         108246</td><td style=\"text-align: right;\">      94637</td><td style=\"text-align: right;\">               81</td><td style=\"text-align: right;\">        94601.5</td><td style=\"text-align: right;\">          37494</td><td style=\"text-align: right;\">                    5</td><td style=\"text-align: right;\">            37502.9</td><td style=\"text-align: right;\">                        -170.281  </td><td style=\"text-align: right;\">          43576</td><td style=\"text-align: right;\">                -1008</td><td style=\"text-align: right;\">            43566.1</td><td style=\"text-align: right;\">                         -218.736 </td><td style=\"text-align: right;\">          13636</td><td style=\"text-align: right;\">                  157</td><td style=\"text-align: right;\">            13644.7</td><td style=\"text-align: right;\">                         1.37423  </td></tr>\n",
       "<tr><td style=\"text-align: right;\">      76860</td><td style=\"text-align: right;\">              936</td><td style=\"text-align: right;\">        76837.3</td><td style=\"text-align: right;\">      70779</td><td style=\"text-align: right;\">             1968</td><td style=\"text-align: right;\">        70775.4</td><td style=\"text-align: right;\">     114353</td><td style=\"text-align: right;\">              551</td><td style=\"text-align: right;\">         114344</td><td style=\"text-align: right;\">     100716</td><td style=\"text-align: right;\">              388</td><td style=\"text-align: right;\">       100698  </td><td style=\"text-align: right;\">          37493</td><td style=\"text-align: right;\">                 -385</td><td style=\"text-align: right;\">            37506.3</td><td style=\"text-align: right;\">                         215.997  </td><td style=\"text-align: right;\">          43574</td><td style=\"text-align: right;\">                -1417</td><td style=\"text-align: right;\">            43568.2</td><td style=\"text-align: right;\">                          186.882 </td><td style=\"text-align: right;\">          13637</td><td style=\"text-align: right;\">                  163</td><td style=\"text-align: right;\">            13646.1</td><td style=\"text-align: right;\">                        -0.537212 </td></tr>\n",
       "<tr><td style=\"text-align: right;\">      88943</td><td style=\"text-align: right;\">              890</td><td style=\"text-align: right;\">        88919.5</td><td style=\"text-align: right;\">      82862</td><td style=\"text-align: right;\">             1922</td><td style=\"text-align: right;\">        82857.6</td><td style=\"text-align: right;\">     126432</td><td style=\"text-align: right;\">              630</td><td style=\"text-align: right;\">         126427</td><td style=\"text-align: right;\">     112796</td><td style=\"text-align: right;\">              458</td><td style=\"text-align: right;\">       112781  </td><td style=\"text-align: right;\">          37489</td><td style=\"text-align: right;\">                 -260</td><td style=\"text-align: right;\">            37507.5</td><td style=\"text-align: right;\">                          83.6002 </td><td style=\"text-align: right;\">          43570</td><td style=\"text-align: right;\">                -1292</td><td style=\"text-align: right;\">            43569.4</td><td style=\"text-align: right;\">                           55.1638</td><td style=\"text-align: right;\">          13636</td><td style=\"text-align: right;\">                  172</td><td style=\"text-align: right;\">            13645.6</td><td style=\"text-align: right;\">                        -1.41457  </td></tr>\n",
       "<tr><td style=\"text-align: right;\">     327168</td><td style=\"text-align: right;\">              902</td><td style=\"text-align: right;\">       327145  </td><td style=\"text-align: right;\">     321089</td><td style=\"text-align: right;\">             1916</td><td style=\"text-align: right;\">       321084  </td><td style=\"text-align: right;\">     364658</td><td style=\"text-align: right;\">              536</td><td style=\"text-align: right;\">         364648</td><td style=\"text-align: right;\">     351029</td><td style=\"text-align: right;\">              204</td><td style=\"text-align: right;\">       351000  </td><td style=\"text-align: right;\">          37490</td><td style=\"text-align: right;\">                 -366</td><td style=\"text-align: right;\">            37503.1</td><td style=\"text-align: right;\">                          43.7278 </td><td style=\"text-align: right;\">          43569</td><td style=\"text-align: right;\">                -1380</td><td style=\"text-align: right;\">            43563.3</td><td style=\"text-align: right;\">                           10.6604</td><td style=\"text-align: right;\">          13629</td><td style=\"text-align: right;\">                  332</td><td style=\"text-align: right;\">            13647.4</td><td style=\"text-align: right;\">                        -1.21716  </td></tr>\n",
       "<tr><td style=\"text-align: right;\">     333849</td><td style=\"text-align: right;\">              486</td><td style=\"text-align: right;\">       333818  </td><td style=\"text-align: right;\">     327771</td><td style=\"text-align: right;\">             1491</td><td style=\"text-align: right;\">       327759  </td><td style=\"text-align: right;\">     371337</td><td style=\"text-align: right;\">              432</td><td style=\"text-align: right;\">         371321</td><td style=\"text-align: right;\">     357708</td><td style=\"text-align: right;\">               98</td><td style=\"text-align: right;\">       357673  </td><td style=\"text-align: right;\">          37488</td><td style=\"text-align: right;\">                  -54</td><td style=\"text-align: right;\">            37503  </td><td style=\"text-align: right;\">                        -272.362  </td><td style=\"text-align: right;\">          43566</td><td style=\"text-align: right;\">                -1059</td><td style=\"text-align: right;\">            43562.4</td><td style=\"text-align: right;\">                          nan     </td><td style=\"text-align: right;\">          13629</td><td style=\"text-align: right;\">                  334</td><td style=\"text-align: right;\">            13647.6</td><td style=\"text-align: right;\">                         1.2742   </td></tr>\n",
       "<tr><td style=\"text-align: right;\">     401427</td><td style=\"text-align: right;\">             1965</td><td style=\"text-align: right;\">       401423  </td><td style=\"text-align: right;\">     395389</td><td style=\"text-align: right;\">              339</td><td style=\"text-align: right;\">       395355  </td><td style=\"text-align: right;\">     438933</td><td style=\"text-align: right;\">              530</td><td style=\"text-align: right;\">         438922</td><td style=\"text-align: right;\">     425306</td><td style=\"text-align: right;\">              152</td><td style=\"text-align: right;\">       425274  </td><td style=\"text-align: right;\">          37506</td><td style=\"text-align: right;\">                -1435</td><td style=\"text-align: right;\">            37499.1</td><td style=\"text-align: right;\">                         nan      </td><td style=\"text-align: right;\">          43544</td><td style=\"text-align: right;\">                  191</td><td style=\"text-align: right;\">            43567.2</td><td style=\"text-align: right;\">                          nan     </td><td style=\"text-align: right;\">          13627</td><td style=\"text-align: right;\">                  378</td><td style=\"text-align: right;\">            13648  </td><td style=\"text-align: right;\">                         2.7298   </td></tr>\n",
       "<tr><td style=\"text-align: right;\">     413471</td><td style=\"text-align: right;\">              438</td><td style=\"text-align: right;\">       413439  </td><td style=\"text-align: right;\">     407393</td><td style=\"text-align: right;\">             1436</td><td style=\"text-align: right;\">       407380  </td><td style=\"text-align: right;\">     450973</td><td style=\"text-align: right;\">               60</td><td style=\"text-align: right;\">         450936</td><td style=\"text-align: right;\">     437306</td><td style=\"text-align: right;\">              648</td><td style=\"text-align: right;\">       437302  </td><td style=\"text-align: right;\">          37502</td><td style=\"text-align: right;\">                 -378</td><td style=\"text-align: right;\">            37497.2</td><td style=\"text-align: right;\">                           2.87469</td><td style=\"text-align: right;\">          43580</td><td style=\"text-align: right;\">                -1376</td><td style=\"text-align: right;\">            43556.7</td><td style=\"text-align: right;\">                          -41.3488</td><td style=\"text-align: right;\">          13667</td><td style=\"text-align: right;\">                 -588</td><td style=\"text-align: right;\">            13634.3</td><td style=\"text-align: right;\">                       nan        </td></tr>\n",
       "<tr><td style=\"text-align: right;\">     477368</td><td style=\"text-align: right;\">              697</td><td style=\"text-align: right;\">       477341  </td><td style=\"text-align: right;\">     471290</td><td style=\"text-align: right;\">             1693</td><td style=\"text-align: right;\">       471281  </td><td style=\"text-align: right;\">     514848</td><td style=\"text-align: right;\">              654</td><td style=\"text-align: right;\">         514844</td><td style=\"text-align: right;\">     501224</td><td style=\"text-align: right;\">              220</td><td style=\"text-align: right;\">       501196  </td><td style=\"text-align: right;\">          37480</td><td style=\"text-align: right;\">                  -43</td><td style=\"text-align: right;\">            37503.4</td><td style=\"text-align: right;\">                         nan      </td><td style=\"text-align: right;\">          43558</td><td style=\"text-align: right;\">                -1039</td><td style=\"text-align: right;\">            43563  </td><td style=\"text-align: right;\">                          nan     </td><td style=\"text-align: right;\">          13624</td><td style=\"text-align: right;\">                  434</td><td style=\"text-align: right;\">            13648.1</td><td style=\"text-align: right;\">                        -2.22042  </td></tr>\n",
       "<tr><td style=\"text-align: right;\">     543546</td><td style=\"text-align: right;\">              621</td><td style=\"text-align: right;\">       543518  </td><td style=\"text-align: right;\">     537469</td><td style=\"text-align: right;\">             1610</td><td style=\"text-align: right;\">       537459  </td><td style=\"text-align: right;\">     581044</td><td style=\"text-align: right;\">              161</td><td style=\"text-align: right;\">         581013</td><td style=\"text-align: right;\">     567382</td><td style=\"text-align: right;\">              666</td><td style=\"text-align: right;\">       567379  </td><td style=\"text-align: right;\">          37498</td><td style=\"text-align: right;\">                 -460</td><td style=\"text-align: right;\">            37495.4</td><td style=\"text-align: right;\">                           5.22859</td><td style=\"text-align: right;\">          43575</td><td style=\"text-align: right;\">                -1449</td><td style=\"text-align: right;\">            43554.1</td><td style=\"text-align: right;\">                          -40.6955</td><td style=\"text-align: right;\">          13662</td><td style=\"text-align: right;\">                 -505</td><td style=\"text-align: right;\">            13633.9</td><td style=\"text-align: right;\">                       nan        </td></tr>\n",
       "<tr><td style=\"text-align: right;\">     605602</td><td style=\"text-align: right;\">              547</td><td style=\"text-align: right;\">       605572  </td><td style=\"text-align: right;\">     599526</td><td style=\"text-align: right;\">             1532</td><td style=\"text-align: right;\">       599514  </td><td style=\"text-align: right;\">     643081</td><td style=\"text-align: right;\">              620</td><td style=\"text-align: right;\">         643075</td><td style=\"text-align: right;\">     629460</td><td style=\"text-align: right;\">              102</td><td style=\"text-align: right;\">       629426  </td><td style=\"text-align: right;\">          37479</td><td style=\"text-align: right;\">                   73</td><td style=\"text-align: right;\">            37503.3</td><td style=\"text-align: right;\">                         nan      </td><td style=\"text-align: right;\">          43555</td><td style=\"text-align: right;\">                 -912</td><td style=\"text-align: right;\">            43561.1</td><td style=\"text-align: right;\">                          nan     </td><td style=\"text-align: right;\">          13621</td><td style=\"text-align: right;\">                  518</td><td style=\"text-align: right;\">            13649.8</td><td style=\"text-align: right;\">                         0.0111233</td></tr>\n",
       "<tr><td style=\"text-align: right;\">     607523</td><td style=\"text-align: right;\">             1916</td><td style=\"text-align: right;\">       607518  </td><td style=\"text-align: right;\">     601487</td><td style=\"text-align: right;\">              267</td><td style=\"text-align: right;\">       601452  </td><td style=\"text-align: right;\">     645040</td><td style=\"text-align: right;\">              162</td><td style=\"text-align: right;\">         645009</td><td style=\"text-align: right;\">     631380</td><td style=\"text-align: right;\">              621</td><td style=\"text-align: right;\">       631374  </td><td style=\"text-align: right;\">          37517</td><td style=\"text-align: right;\">                -1754</td><td style=\"text-align: right;\">            37490.5</td><td style=\"text-align: right;\">                         nan      </td><td style=\"text-align: right;\">          43553</td><td style=\"text-align: right;\">                 -105</td><td style=\"text-align: right;\">            43557.1</td><td style=\"text-align: right;\">                          nan     </td><td style=\"text-align: right;\">          13660</td><td style=\"text-align: right;\">                 -459</td><td style=\"text-align: right;\">            13634.5</td><td style=\"text-align: right;\">                       nan        </td></tr>\n",
       "<tr><td style=\"text-align: right;\">     664418</td><td style=\"text-align: right;\">              821</td><td style=\"text-align: right;\">       664393  </td><td style=\"text-align: right;\">     658342</td><td style=\"text-align: right;\">             1806</td><td style=\"text-align: right;\">       658335  </td><td style=\"text-align: right;\">     701917</td><td style=\"text-align: right;\">              201</td><td style=\"text-align: right;\">         701888</td><td style=\"text-align: right;\">     688258</td><td style=\"text-align: right;\">              623</td><td style=\"text-align: right;\">       688253  </td><td style=\"text-align: right;\">          37499</td><td style=\"text-align: right;\">                 -620</td><td style=\"text-align: right;\">            37495  </td><td style=\"text-align: right;\">                          91.2147 </td><td style=\"text-align: right;\">          43575</td><td style=\"text-align: right;\">                -1605</td><td style=\"text-align: right;\">            43552.7</td><td style=\"text-align: right;\">                           48.0739</td><td style=\"text-align: right;\">          13659</td><td style=\"text-align: right;\">                 -422</td><td style=\"text-align: right;\">            13635.6</td><td style=\"text-align: right;\">                       nan        </td></tr>\n",
       "</table>"
      ],
      "text/plain": [
       "<IPython.core.display.HTML object>"
      ]
     },
     "execution_count": 475,
     "metadata": {},
     "output_type": "execute_result"
    }
   ],
   "source": [
    "def events_table_histogram(events, base_cam):\n",
    "    t = []\n",
    "    headers = []\n",
    "    for cam, e in events.iteritems():        \n",
    "        t.extend([\n",
    "            e['timing'],\n",
    "            e['start'],\n",
    "            e['timing'] - get_subframe_timing(cam, events),\n",
    "            # e['end']                \n",
    "            ])\n",
    "        headers.extend([\n",
    "            'cam%d [ms]' % cam,\n",
    "            'cam%d start [px]' % cam,\n",
    "            'cam%d sub [ms]' % cam,            \n",
    "            # 'cam%d end [px]' % cam\n",
    "            ])\n",
    "        \n",
    "    for cam in set(events.keys()) - set([base_cam]):\n",
    "        X = events[base_cam]['timing'].reshape((-1, 1))\n",
    "        y = events[base_cam]['start'] - events[cam]['start']        \n",
    "        resid, model = flash_start_linear_fit(X, y)\n",
    "        resid[~model.inlier_mask_] = np.nan\n",
    "        t.extend([\n",
    "                events[base_cam]['timing'] - events[cam]['timing'],\n",
    "                events[base_cam]['start'] - events[cam]['start'],\n",
    "                (events[base_cam]['timing'] - get_subframe_timing(base_cam, events)) -\n",
    "                (events[cam]['timing'] - get_subframe_timing(cam, events)),\n",
    "                resid,\n",
    "            ])\n",
    "        headers.extend([\n",
    "                'diff %d %d [ms]' % (base_cam, cam),\n",
    "                'diff start %d %d [px]' % (base_cam, cam),\n",
    "                'diff sub %d %d [ms]' % (base_cam, cam),\n",
    "                'diff start linfit resid %d %d [px]' % (base_cam, cam),\n",
    "            ])\n",
    "        \n",
    "    table = np.vstack(t).T\n",
    "    html_table = HTML(tabulate(table, headers=headers, tablefmt='html'))\n",
    "\n",
    "#     plt.figure()\n",
    "#     __ = plt.hist(t[:, 5], 100)\n",
    "#     plt.title('Synchronized events lead-in line difference')\n",
    "#     plt.xlabel('difference [px]')\n",
    "#     plt.ylabel('count')\n",
    "    return html_table, table, headers\n",
    "    \n",
    "html_table, table, headers = events_table_histogram(matched_events_ok, 3)\n",
    "#     {cam: matched_events[cam][['timing', 'start', 'end']] for cam in cameras}, 1)\n",
    "html_table"
   ]
  },
  {
   "cell_type": "code",
   "execution_count": 223,
   "metadata": {
    "collapsed": false,
    "run_control": {
     "frozen": false,
     "read_only": false
    }
   },
   "outputs": [
    {
     "data": {
      "text/plain": [
       "<matplotlib.legend.Legend at 0x7fde6fb73f90>"
      ]
     },
     "execution_count": 223,
     "metadata": {},
     "output_type": "execute_result"
    }
   ],
   "source": [
    "ax = plt.gca()\n",
    "ax2 = ax.twinx()\n",
    "ax.plot(matched_events_ok[1]['timing'] - matched_events_ok[2]['timing'], 'r', label='diff timing')\n",
    "ax2.plot(matched_events_ok[1]['start'] - matched_events_ok[2]['start'], 'b', label='diff start')\n",
    "plt.legend()\n",
    "np.corrcoef()"
   ]
  },
  {
   "cell_type": "code",
   "execution_count": 51,
   "metadata": {
    "collapsed": false,
    "run_control": {
     "frozen": false,
     "read_only": false
    }
   },
   "outputs": [],
   "source": [
    "def flash_start_linear_fit(X, y=None):\n",
    "    model = linear_model.LinearRegression()\n",
    "    model.fit(X.reshape((-1, 1)), y)\n",
    "    model_ransac = linear_model.RANSACRegressor(linear_model.LinearRegression())\n",
    "    model_ransac.fit(X, y)\n",
    "    residuals = model_ransac.predict(X).flatten() - y\n",
    "    return residuals, model_ransac    "
   ]
  },
  {
   "cell_type": "code",
   "execution_count": 52,
   "metadata": {
    "collapsed": false,
    "run_control": {
     "frozen": false,
     "read_only": false
    }
   },
   "outputs": [],
   "source": [
    "def fit_timing_plus_start(cam1, cam2, events):\n",
    "    model = linear_model.LinearRegression()\n",
    "    n = len(events[cam1])\n",
    "    X = np.vstack((\n",
    "        events[cam1]['start'],\n",
    "        -events[cam2]['start'],\n",
    "        )).T\n",
    "    y = events[cam2]['timing'] - events[cam1]['timing']\n",
    "    model.fit(X, y)\n",
    "    model_ransac = linear_model.RANSACRegressor(linear_model.LinearRegression())\n",
    "    model_ransac.fit(X, y)  \n",
    "    return model_ransac"
   ]
  },
  {
   "cell_type": "code",
   "execution_count": 474,
   "metadata": {
    "collapsed": false,
    "run_control": {
     "frozen": false,
     "read_only": false
    }
   },
   "outputs": [
    {
     "name": "stdout",
     "output_type": "stream",
     "text": [
      "1 2 0.825212576434 [-6055.8827775533     0.0126226455     0.018470428 ] 2\n",
      "1 3 2.02791270446 [ 37496.8054488397      0.0140761495      0.0363956651] 0\n",
      "1 4 1.2819488587 [ 23856.543286827       0.0146998499      0.0440536733] 1\n",
      "2 3 2.96377051776 [ 43554.3023508892      0.0171491738      0.0335837903] 1\n",
      "2 4 3.03446240005 [ 29917.5509841792      0.0170837489      0.0462089811] 0\n",
      "3 4 0.643085265206 [-13641.9766861652      0.0398184755      0.0406977203] 0\n"
     ]
    },
    {
     "data": {
      "text/plain": [
       "<matplotlib.legend.Legend at 0x7fde0f111e90>"
      ]
     },
     "execution_count": 474,
     "metadata": {},
     "output_type": "execute_result"
    }
   ],
   "source": [
    "for i, j in itertools.combinations(cameras, 2): # [[1, 2]]: # itertools.combinations(cameras, 2):   \n",
    "    events_ij = get_matched_events([i, j], timed_events, event_selection_idx, min(i, j), obsolete_regions)\n",
    "    model = fit_timing_plus_start(i, j, matched_events_ok)\n",
    "    coef = np.concatenate((model.estimator_.intercept_, model.estimator_.coef_[0]))\n",
    "    delay = (matched_events_ok[i]['timing'] + coef[1] * matched_events_ok[i]['start']) - \\\n",
    "            (matched_events_ok[j]['timing'] + coef[2] * matched_events_ok[j]['start']) + \\\n",
    "            coef[0]\n",
    "    #print delay[model.inlier_mask_]\n",
    "    print i, j, delay[model.inlier_mask_].std(), coef, np.count_nonzero(~model.inlier_mask_)\n",
    "    # print delay[model.inlier_mask_]\n",
    "    plt.plot(delay[model.inlier_mask_], label='%d %d (std: %f)' % (i, j, delay[model.inlier_mask_].std()))\n",
    "    \n",
    "plt.legend()\n",
    "\n",
    "#     print delay \n",
    "# (delay + model.intercept_).std()    \n",
    "# print model_ransac.inlier_mask_\n",
    "# print model.coef_`\n",
    "# print model_ransac.estimator_.coef_\n",
    "# print model.intercept_\n",
    "# print model_ransac.estimator_.intercept_"
   ]
  },
  {
   "cell_type": "code",
   "execution_count": null,
   "metadata": {
    "collapsed": true,
    "run_control": {
     "frozen": false,
     "read_only": false
    }
   },
   "outputs": [],
   "source": []
  },
  {
   "cell_type": "code",
   "execution_count": 468,
   "metadata": {
    "collapsed": false,
    "run_control": {
     "frozen": false,
     "read_only": false
    }
   },
   "outputs": [
    {
     "data": {
      "text/plain": [
       "array([ 80.,  40.,  40.,  40.,  40.,  40.,  40.,  40.,  40.,  80.,  40.,  80.])"
      ]
     },
     "execution_count": 468,
     "metadata": {},
     "output_type": "execute_result"
    }
   ],
   "source": [
    "cam = 4\n",
    "np.set_printoptions(precision=10)\n",
    "np.diff(sync.get_timings()[cam][features_start[cam]:])[matched_events_ok[cam]['frame']]"
   ]
  },
  {
   "cell_type": "code",
   "execution_count": null,
   "metadata": {
    "collapsed": true,
    "run_control": {
     "frozen": false,
     "read_only": false
    }
   },
   "outputs": [],
   "source": [
    "3864, 2202 # https://www.sony.net/Products/SC-HP/sensor/img/product/cmos/STARVIS_Brochure_E.\n",
    "4112 (H) × 2176 (V) # http://www.sony.net/Products/SC-HP/new_pro/february_2016/imx253_255_e.html"
   ]
  },
  {
   "cell_type": "code",
   "execution_count": 444,
   "metadata": {
    "collapsed": false,
    "run_control": {
     "frozen": false,
     "read_only": false
    }
   },
   "outputs": [
    {
     "data": {
      "text/plain": [
       "{0: (1944, 2592, 3),\n",
       " 1: (2160, 3840, 3),\n",
       " 2: (2160, 3840, 3),\n",
       " 3: (720, 1280, 3),\n",
       " 4: (720, 1280, 3)}"
      ]
     },
     "execution_count": 444,
     "metadata": {},
     "output_type": "execute_result"
    }
   ],
   "source": [
    "images_dimensions"
   ]
  },
  {
   "cell_type": "code",
   "execution_count": 320,
   "metadata": {
    "collapsed": false,
    "run_control": {
     "frozen": false,
     "read_only": false
    }
   },
   "outputs": [
    {
     "name": "stdout",
     "output_type": "stream",
     "text": [
      "[ 1.37 -0.54 -1.41 -1.22  1.27  2.73 -2.22  0.01]\n",
      "1.5678545116\n",
      "4\n"
     ]
    }
   ],
   "source": [
    "cam1 = 3\n",
    "cam2 = 4\n",
    "X = matched_events_ok[cam1]['timing'].reshape((-1, 1))\n",
    "y = matched_events_ok[cam1]['start'] - matched_events_ok[cam2]['start']\n",
    "resid, model = flash_start_linear_fit(X, y)\n",
    "print resid[model.inlier_mask_]\n",
    "print resid[model.inlier_mask_].std()\n",
    "print np.count_nonzero(~model.inlier_mask_)"
   ]
  },
  {
   "cell_type": "code",
   "execution_count": 321,
   "metadata": {
    "collapsed": false,
    "run_control": {
     "frozen": false,
     "read_only": false
    }
   },
   "outputs": [
    {
     "name": "stdout",
     "output_type": "stream",
     "text": [
      "[ -0.3   80.01  38.64   0.9    6.1   -9.14  72.27 -57.94 -35.91 -34.07 -45.95 -14.62]\n",
      "42.200328401\n",
      "0\n"
     ]
    }
   ],
   "source": [
    "X = (matched_events_ok[cam1]['timing'] - get_subframe_timing(cam1, matched_events_ok)) - \\\n",
    "    (matched_events_ok[cam2]['timing'] - get_subframe_timing(cam2, matched_events_ok))\n",
    "resid, model = flash_start_linear_fit(X.reshape((-1, 1)), y)\n",
    "print resid[model.inlier_mask_]\n",
    "print resid[model.inlier_mask_].std()\n",
    "print np.count_nonzero(~model.inlier_mask_)    "
   ]
  },
  {
   "cell_type": "code",
   "execution_count": null,
   "metadata": {
    "collapsed": true,
    "run_control": {
     "frozen": false,
     "read_only": false
    }
   },
   "outputs": [],
   "source": [
    "cam1 = 1\n",
    "cam2 = 2\n",
    "X = matched_events_ok[cam1]['start'] - matched_events_ok[cam2]['start']\n",
    "y = \n",
    "resid, model = flash_start_linear_fit(X, y)\n",
    "print resid[model.inlier_mask_]\n",
    "print resid[model.inlier_mask_].std()\n",
    "print np.count_nonzero(~model.inlier_mask_)"
   ]
  },
  {
   "cell_type": "code",
   "execution_count": 176,
   "metadata": {
    "collapsed": false,
    "run_control": {
     "frozen": false,
     "read_only": false
    }
   },
   "outputs": [],
   "source": [
    "cam = 2\n",
    "frame = matched_events_ok[cam][5]['frame']\n",
    "f2d = np.diff(features[cam].astype(float), axis=1)\n",
    "plot_frame_with_profile(cam, frame, features, diff2d=f2d)"
   ]
  },
  {
   "cell_type": "code",
   "execution_count": 476,
   "metadata": {
    "collapsed": false,
    "run_control": {
     "frozen": false,
     "read_only": false
    }
   },
   "outputs": [],
   "source": [
    "np.savetxt('4cameras_ok.csv', table, header=','.join(headers), delimiter=',', fmt='%06f')"
   ]
  },
  {
   "cell_type": "markdown",
   "metadata": {},
   "source": [
    "\n",
    "### Frame Rate Skew Fitting"
   ]
  },
  {
   "cell_type": "code",
   "execution_count": 154,
   "metadata": {
    "collapsed": false,
    "run_control": {
     "frozen": false,
     "read_only": false
    }
   },
   "outputs": [
    {
     "data": {
      "text/plain": [
       "[28, 26, 28, 21, 23, 18]"
      ]
     },
     "execution_count": 154,
     "metadata": {},
     "output_type": "execute_result"
    }
   ],
   "source": [
    "[len(get_matched_events([cam1, cam2], timed_events, event_selection_idx, min(cam1, cam2))[cam1])\n",
    " for cam1, cam2 in itertools.combinations(cameras, 2)]   "
   ]
  },
  {
   "cell_type": "code",
   "execution_count": 503,
   "metadata": {
    "collapsed": false,
    "run_control": {
     "frozen": false,
     "read_only": false
    }
   },
   "outputs": [
    {
     "data": {
      "text/html": [
       "<table>\n",
       "<tr><th>camera  </th><th style=\"text-align: right;\">  number\n",
       "of events</th><th style=\"text-align: right;\">  clock skew</th><th style=\"text-align: right;\">  shift\n",
       "(in ms)</th><th style=\"text-align: right;\">  std\n",
       "(in ms)</th><th style=\"text-align: right;\">  skew\n",
       "(in lines/s)</th></tr>\n",
       "<tr><td>1 2     </td><td style=\"text-align: right;\">                28</td><td style=\"text-align: right;\">-8.35535e-06</td><td style=\"text-align: right;\">        6066.24</td><td style=\"text-align: right;\">     0.434952</td><td style=\"text-align: right;\">         -0.54832  </td></tr>\n",
       "<tr><td>1 3     </td><td style=\"text-align: right;\">                26</td><td style=\"text-align: right;\"> 1.07376e-05</td><td style=\"text-align: right;\">      -37502.1 </td><td style=\"text-align: right;\">     0.484591</td><td style=\"text-align: right;\">          0.262535 </td></tr>\n",
       "<tr><td>1 4     </td><td style=\"text-align: right;\">                28</td><td style=\"text-align: right;\"> 8.61781e-06</td><td style=\"text-align: right;\">      -23858.7 </td><td style=\"text-align: right;\">     0.326392</td><td style=\"text-align: right;\">          0.210705 </td></tr>\n",
       "<tr><td>2 3     </td><td style=\"text-align: right;\">                21</td><td style=\"text-align: right;\"> 1.89226e-05</td><td style=\"text-align: right;\">      -43568.6 </td><td style=\"text-align: right;\">     0.437368</td><td style=\"text-align: right;\">          0.462659 </td></tr>\n",
       "<tr><td>2 4     </td><td style=\"text-align: right;\">                23</td><td style=\"text-align: right;\"> 1.6798e-05 </td><td style=\"text-align: right;\">      -29925.2 </td><td style=\"text-align: right;\">     0.435603</td><td style=\"text-align: right;\">          0.41071  </td></tr>\n",
       "<tr><td>3 4     </td><td style=\"text-align: right;\">                18</td><td style=\"text-align: right;\">-2.59374e-06</td><td style=\"text-align: right;\">       13643.4 </td><td style=\"text-align: right;\">     0.368809</td><td style=\"text-align: right;\">         -0.0634169</td></tr>\n",
       "</table>"
      ],
      "text/plain": [
       "<IPython.core.display.HTML object>"
      ]
     },
     "execution_count": 503,
     "metadata": {},
     "output_type": "execute_result"
    }
   ],
   "source": [
    "sensor_rows = {0: -1, 1: 2625, 2: 2625, 3: 978, 4: 978}\n",
    "mode_duration = {0: -1, 1: 40, 2: 40, 3: 40, 4: 40}\n",
    "\n",
    "t = []\n",
    "\n",
    "i = None\n",
    "j = None\n",
    "\n",
    "for cam1, cam2 in itertools.combinations(cameras, 2): # [[1, 2]]:\n",
    "    events_ij = get_matched_events([cam1, cam2], timed_events, event_selection_idx, min(cam1, cam2))\n",
    "    model = linear_model.LinearRegression()\n",
    "    n = len(events_ij[cam1])\n",
    "    X = np.vstack((\n",
    "            events_ij[cam2]['timing'], \n",
    "        )).T\n",
    "    y = events_ij[cam1]['timing'] + events_ij[cam1]['start'] / sensor_rows[cam1] * mode_duration[cam1] \\\n",
    "        - events_ij[cam2]['start'] / sensor_rows[cam2] * mode_duration[cam2]\n",
    "              \n",
    "#     X = np.vstack((\n",
    "#             events_ij[cam2]['timing'], \n",
    "#             events_ij[cam2]['start'] * mode_duration[cam2],\n",
    "#             -events_ij[cam1]['start'] * mode_duration[cam1],\n",
    "#         )).T\n",
    "#     y = events_ij[cam1]['timing']\n",
    "    model.fit(X, y)\n",
    "    model_ransac = linear_model.RANSACRegressor(linear_model.LinearRegression())\n",
    "    model_ransac.fit(X, y)\n",
    "    \n",
    "    beta = model_ransac.estimator_.intercept_[0]\n",
    "    alpha = model_ransac.estimator_.coef_[0][0]\n",
    "    \n",
    "    # print model_ransac.predict(X).flatten() - y\n",
    "    # plt.plot(X.flatten(), y, '.')\n",
    "    # plt.plot(X[~model_ransac.inlier_mask_], y[~model_ransac.inlier_mask_], 'o')\n",
    "    # x = X.flatten()\n",
    "    # x12 = x[[0, -1]]\n",
    "    # plt.plot(x12, x12 * alpha + beta)\n",
    "\n",
    "    cam1_sub_timing = events_ij[cam1]['timing'] + events_ij[cam1]['start'] /  sensor_rows[cam1] * mode_duration[cam1]\n",
    "    cam2_sub_timing = alpha * events_ij[cam2]['timing'] + beta + events_ij[cam2]['start'] /  sensor_rows[cam2] * mode_duration[cam2]\n",
    "    # fig = plt.figure()\n",
    "    # plt.plot(cam1_timing, cam1_sub_timing - cam2_sub_timing, '.')\n",
    "    # plt.grid(True)\n",
    "\n",
    "    clock2_skew_lines_per_second = (alpha - 1) * sensor_rows[cam2] / mode_duration[cam2] * 1000\n",
    "    t.append(['%d %d' % (cam1, cam2),\n",
    "              n,\n",
    "              alpha - 1,\n",
    "              beta,\n",
    "              (cam1_sub_timing - cam2_sub_timing).std(),\n",
    "              clock2_skew_lines_per_second, \n",
    "              # np.count_nonzero(~model_ransac.inlier_mask_),\n",
    "              ])\n",
    "    headers = ['camera', 'number\\nof events', 'clock skew', 'shift\\n(in ms)', 'std\\n(in ms)', 'skew\\n(in lines/s)'] # , 'outliers']\n",
    "    \n",
    "#     fig = plt.figure()\n",
    "#     plt.title('Camera %d %d' % (cam1, cam2))\n",
    "#     plt.plot(cam1_sub_timing, events_ij[cam2]['timing'] + beta - events_ij[cam1]['timing'], label='frame begining time')\n",
    "#     plt.plot(cam1_sub_timing, (events_ij[cam2]['timing'] + beta + events_ij[cam2]['start'] /  sensor_rows[cam2] * mode_duration[cam2]) \n",
    "#                               - cam1_sub_timing,\n",
    "#              label='subframe time with fixed clock')\n",
    "#     plt.plot(cam1_sub_timing, cam2_sub_timing - cam1_sub_timing, \n",
    "#              label='subframe time with clock skew')\n",
    "#     # plt.grid(True)\n",
    "#     plt.ylabel('time difference in miliseconds')\n",
    "#     plt.xlabel('time in miliseconds')\n",
    "#     plt.legend()    \n",
    "             \n",
    "table = np.array([item[1:] for item in t])\n",
    "\n",
    "\n",
    "HTML(tabulate(t, headers=headers, tablefmt='html')) # , floatfmt='0.7f' ))             "
   ]
  },
  {
   "cell_type": "code",
   "execution_count": 514,
   "metadata": {
    "collapsed": false,
    "run_control": {
     "frozen": false,
     "read_only": false
    }
   },
   "outputs": [
    {
     "data": {
      "text/html": [
       "<table>\n",
       "<tr><th>camera  </th><th style=\"text-align: right;\">  number\n",
       "of events</th><th style=\"text-align: right;\">  clock skew</th><th style=\"text-align: right;\">  shift\n",
       "(in ms)</th><th style=\"text-align: right;\">  1/(R_2*fps_2)</th><th style=\"text-align: right;\">  1/(R_1*fps_1)</th><th style=\"text-align: right;\">  std\n",
       "(in ms)</th></tr>\n",
       "<tr><td>1 2     </td><td style=\"text-align: right;\">                28</td><td style=\"text-align: right;\">    0.999992</td><td style=\"text-align: right;\">        6066.73</td><td style=\"text-align: right;\">        66.4738</td><td style=\"text-align: right;\">        64.4479</td><td style=\"text-align: right;\">     0.418997</td></tr>\n",
       "<tr><td>1 3     </td><td style=\"text-align: right;\">                26</td><td style=\"text-align: right;\">    1.00001 </td><td style=\"text-align: right;\">      -37501.8 </td><td style=\"text-align: right;\">        24.86  </td><td style=\"text-align: right;\">        65.3508</td><td style=\"text-align: right;\">     0.467502</td></tr>\n",
       "<tr><td>1 4     </td><td style=\"text-align: right;\">                28</td><td style=\"text-align: right;\">    1.00001 </td><td style=\"text-align: right;\">      -23858.9 </td><td style=\"text-align: right;\">        24.16  </td><td style=\"text-align: right;\">        65.7196</td><td style=\"text-align: right;\">     0.310419</td></tr>\n",
       "<tr><td>2 3     </td><td style=\"text-align: right;\">                21</td><td style=\"text-align: right;\">    1.00002 </td><td style=\"text-align: right;\">      -43568.5 </td><td style=\"text-align: right;\">        24.6035</td><td style=\"text-align: right;\">        65.5802</td><td style=\"text-align: right;\">     0.43424 </td></tr>\n",
       "<tr><td>2 4     </td><td style=\"text-align: right;\">                23</td><td style=\"text-align: right;\">    1.00002 </td><td style=\"text-align: right;\">      -29925.2 </td><td style=\"text-align: right;\">        24.4729</td><td style=\"text-align: right;\">        65.6316</td><td style=\"text-align: right;\">     0.435534</td></tr>\n",
       "<tr><td>3 4     </td><td style=\"text-align: right;\">                18</td><td style=\"text-align: right;\">    0.999997</td><td style=\"text-align: right;\">       13643   </td><td style=\"text-align: right;\">        24.2531</td><td style=\"text-align: right;\">        24.8494</td><td style=\"text-align: right;\">     0.350422</td></tr>\n",
       "</table>"
      ],
      "text/plain": [
       "<IPython.core.display.HTML object>"
      ]
     },
     "execution_count": 514,
     "metadata": {},
     "output_type": "execute_result"
    }
   ],
   "source": [
    "# + estimate sensor_rows and mode_duration\n",
    "\n",
    "# will be estimated\n",
    "# sensor_rows = {0: -1, 1: 2625, 2: 2625, 3: 978, 4: 978}\n",
    "# mode_duration = {0: -1, 1: 40, 2: 40, 3: 40, 4: 40}\n",
    "\n",
    "t = []\n",
    "\n",
    "i = None\n",
    "j = None\n",
    "\n",
    "for cam1, cam2 in itertools.combinations(cameras, 2): # [[1, 2]]:\n",
    "    events_ij = get_matched_events([cam1, cam2], timed_events, event_selection_idx, min(cam1, cam2))\n",
    "    model = linear_model.LinearRegression()\n",
    "    n = len(events_ij[cam1])\n",
    "#     X = np.vstack((\n",
    "#             events_ij[cam2]['timing'], \n",
    "#         )).T\n",
    "#     y = events_ij[cam1]['timing'] + events_ij[cam1]['start'] / sensor_rows[cam1] * mode_duration[cam1] \\\n",
    "#         - events_ij[cam2]['start'] / sensor_rows[cam2] * mode_duration[cam2]\n",
    "        \n",
    "    X = np.vstack((\n",
    "            events_ij[cam2]['timing'],\n",
    "            events_ij[cam2]['start'],\n",
    "            -events_ij[cam1]['start'],           \n",
    "        )).T\n",
    "    y = events_ij[cam1]['timing']\n",
    "        \n",
    "    model.fit(X, y)\n",
    "    beta = model.intercept_\n",
    "    alpha = model.coef_[0]\n",
    "    gamma = model.coef_[1]\n",
    "    delta = model.coef_[2]\n",
    "    \n",
    "#     model_ransac = linear_model.RANSACRegressor(linear_model.LinearRegression())\n",
    "#     model_ransac.fit(X, y)    \n",
    "#     beta = model_ransac.estimator_.intercept_[0]\n",
    "#     alpha = model_ransac.estimator_.coef_[0][0]\n",
    "#     gamma = model_ransac.estimator_.coef_[0][1]\n",
    "#     delta = model_ransac.estimator_.coef_[0][2]\n",
    "    \n",
    "    # print model_ransac.predict(X).flatten() - y\n",
    "    # plt.plot(X.flatten(), y, '.')\n",
    "    # plt.plot(X[~model_ransac.inlier_mask_], y[~model_ransac.inlier_mask_], 'o')\n",
    "    # x = X.flatten()\n",
    "    # x12 = x[[0, -1]]\n",
    "    # plt.plot(x12, x12 * alpha + beta)\n",
    "\n",
    "    cam1_sub_timing = events_ij[cam1]['timing'] + delta * events_ij[cam1]['start']\n",
    "    cam2_sub_timing = alpha * events_ij[cam2]['timing'] + beta + gamma * events_ij[cam2]['start']\n",
    "#     fig = plt.figure()\n",
    "#     plt.plot(cam1_timing, cam1_sub_timing - cam2_sub_timing, '.')\n",
    "#     plt.grid(True)\n",
    "\n",
    "    clock2_skew_lines_per_second = (alpha - 1) * (1 / gamma) * 1000\n",
    "    t.append(['%d %d' % (cam1, cam2),\n",
    "              n,\n",
    "              alpha,\n",
    "              beta,\n",
    "              1 / gamma, # / 0.025\n",
    "              1 / delta,\n",
    "              (cam1_sub_timing - cam2_sub_timing).std(),\n",
    "              # clock2_skew_lines_per_second, \n",
    "              # np.count_nonzero(~model_ransac.inlier_mask_),\n",
    "              ])\n",
    "    headers = ['camera', 'number\\nof events', 'clock skew', 'shift\\n(in ms)',\n",
    "               '1/(R_2*fps_2)', '1/(R_1*fps_1)',\n",
    "               'std\\n(in ms)', \n",
    "               # 'skew\\n(in lines/s)'\n",
    "              ] # , 'outliers']\n",
    "    \n",
    "#     fig = plt.figure()\n",
    "#     plt.title('Camera %d %d' % (cam1, cam2))\n",
    "#     plt.plot(cam1_sub_timing, events_ij[cam2]['timing'] + beta - events_ij[cam1]['timing'], label='frame begining time')\n",
    "#     plt.plot(cam1_sub_timing, (events_ij[cam2]['timing'] + beta + gamma * events_ij[cam2]['start']) \n",
    "#                               - cam1_sub_timing,\n",
    "#              label='subframe time with fixed clock')\n",
    "#     plt.plot(cam1_sub_timing, cam2_sub_timing - cam1_sub_timing, \n",
    "#              label='subframe time with clock skew')\n",
    "#     plt.grid(True)\n",
    "#     plt.ylabel('time difference in miliseconds')\n",
    "#     plt.xlabel('time in miliseconds')\n",
    "#     plt.legend()    \n",
    "             \n",
    "table = np.array([item[1:] for item in t])\n",
    "\n",
    "\n",
    "HTML(tabulate(t, headers=headers, tablefmt='html')) # , floatfmt='0.7f' ))\n",
    "\n",
    "# sensor_rows = {0: -1, 1: 2625, 2: 2625, 3: 978, 4: 978}"
   ]
  },
  {
   "cell_type": "code",
   "execution_count": 511,
   "metadata": {
    "collapsed": true,
    "run_control": {
     "frozen": false,
     "read_only": false
    }
   },
   "outputs": [],
   "source": [
    "def format_table(table, formats):\n",
    "    table_out = []\n",
    "    for row in table:\n",
    "        out_row =[]\n",
    "        for item, fmt in zip(row, formats):\n",
    "            if fmt is None:\n",
    "                out_row.append(item)\n",
    "            elif isinstance(fmt, str):\n",
    "                out_row.append(fmt % item)\n",
    "            else:\n",
    "                out_row.append(fmt(item))\n",
    "        table_out.append(out_row)\n",
    "    return table_out"
   ]
  },
  {
   "cell_type": "code",
   "execution_count": 517,
   "metadata": {
    "collapsed": false,
    "run_control": {
     "frozen": false,
     "read_only": false
    }
   },
   "outputs": [
    {
     "data": {
      "text/html": [
       "<table>\n",
       "<tr><th>camera  </th><th style=\"text-align: right;\">  number\n",
       "of events</th><th>clock skew  </th><th style=\"text-align: right;\">  shift\n",
       "(in ms)</th><th style=\"text-align: right;\">  1/(R_2*fps_2)</th><th style=\"text-align: right;\">  1/(R_1*fps_1)</th><th style=\"text-align: right;\">  std\n",
       "(in ms)</th></tr>\n",
       "<tr><td>1 2     </td><td style=\"text-align: right;\">                28</td><td>8.26 e6     </td><td style=\"text-align: right;\">        6066.73</td><td style=\"text-align: right;\">          66.47</td><td style=\"text-align: right;\">          64.45</td><td style=\"text-align: right;\">         0.42</td></tr>\n",
       "<tr><td>1 3     </td><td style=\"text-align: right;\">                26</td><td>-10.66 e6   </td><td style=\"text-align: right;\">      -37501.8 </td><td style=\"text-align: right;\">          24.86</td><td style=\"text-align: right;\">          65.35</td><td style=\"text-align: right;\">         0.47</td></tr>\n",
       "<tr><td>1 4     </td><td style=\"text-align: right;\">                28</td><td>-8.42 e6    </td><td style=\"text-align: right;\">      -23858.9 </td><td style=\"text-align: right;\">          24.16</td><td style=\"text-align: right;\">          65.72</td><td style=\"text-align: right;\">         0.31</td></tr>\n",
       "<tr><td>2 3     </td><td style=\"text-align: right;\">                21</td><td>-18.9 e6    </td><td style=\"text-align: right;\">      -43568.5 </td><td style=\"text-align: right;\">          24.6 </td><td style=\"text-align: right;\">          65.58</td><td style=\"text-align: right;\">         0.43</td></tr>\n",
       "<tr><td>2 4     </td><td style=\"text-align: right;\">                23</td><td>-16.8 e6    </td><td style=\"text-align: right;\">      -29925.2 </td><td style=\"text-align: right;\">          24.47</td><td style=\"text-align: right;\">          65.63</td><td style=\"text-align: right;\">         0.44</td></tr>\n",
       "<tr><td>3 4     </td><td style=\"text-align: right;\">                18</td><td>2.61 e6     </td><td style=\"text-align: right;\">       13643   </td><td style=\"text-align: right;\">          24.25</td><td style=\"text-align: right;\">          24.85</td><td style=\"text-align: right;\">         0.35</td></tr>\n",
       "</table>"
      ],
      "text/plain": [
       "<IPython.core.display.HTML object>"
      ]
     },
     "execution_count": 517,
     "metadata": {},
     "output_type": "execute_result"
    }
   ],
   "source": [
    "r2 = lambda x: round(x, 2)\n",
    "# \n",
    "# lambda x: (1 - x) * 10 ** 6\n",
    "formats = [None, None, lambda x: str(round((1 - x) * 10 ** 6, 2)) + ' e6', \n",
    "           r2, r2, r2, r2]\n",
    "headers_ = [s.replace('\\n', ' ') for s in headers]\n",
    "headers_[2] = '1 - clock skew'\n",
    "\n",
    "t_ = format_table(t, formats)\n",
    "HTML(tabulate(t_, headers=headers, tablefmt='html')) # , floatfmt='0.2f' )) # \n",
    "# t_"
   ]
  },
  {
   "cell_type": "code",
   "execution_count": 519,
   "metadata": {
    "collapsed": false,
    "run_control": {
     "frozen": false,
     "read_only": false
    }
   },
   "outputs": [],
   "source": [
    "import csv\n",
    "with file('clock_skew.csv', 'w') as fw:\n",
    "    csv_writer = csv.writer(fw)\n",
    "    csv_writer.writerow(headers)\n",
    "    for row in t_:\n",
    "        csv_writer.writerow(row)"
   ]
  },
  {
   "cell_type": "code",
   "execution_count": 120,
   "metadata": {
    "collapsed": false,
    "run_control": {
     "frozen": false,
     "read_only": false
    }
   },
   "outputs": [
    {
     "data": {
      "text/plain": [
       "[['1 2',\n",
       "  '8.36e-06',\n",
       "  6066.2380735120969,\n",
       "  0.43495154906483818,\n",
       "  -0.54831978363381606,\n",
       "  0],\n",
       " ['1 3',\n",
       "  '-1.07e-05',\n",
       "  -37502.149651556218,\n",
       "  0.48459061248374924,\n",
       "  0.26253496252726105,\n",
       "  0],\n",
       " ['1 4',\n",
       "  '-8.62e-06',\n",
       "  -23858.720734089147,\n",
       "  0.3263922223698536,\n",
       "  0.21070547262332928,\n",
       "  0],\n",
       " ['2 3',\n",
       "  '-1.89e-05',\n",
       "  -43568.608197657741,\n",
       "  0.4373684059078074,\n",
       "  0.46265878150704154,\n",
       "  0],\n",
       " ['2 4',\n",
       "  '-1.68e-05',\n",
       "  -29925.203347846633,\n",
       "  0.43560258657457396,\n",
       "  0.41071042770328692,\n",
       "  0],\n",
       " ['3 4',\n",
       "  '2.59e-06',\n",
       "  13643.400329777563,\n",
       "  0.36880875417587605,\n",
       "  -0.063416943070598863,\n",
       "  0]]"
      ]
     },
     "execution_count": 120,
     "metadata": {},
     "output_type": "execute_result"
    }
   ],
   "source": [
    "t_"
   ]
  },
  {
   "cell_type": "code",
   "execution_count": 94,
   "metadata": {
    "collapsed": false,
    "run_control": {
     "frozen": false,
     "read_only": false
    }
   },
   "outputs": [
    {
     "data": {
      "text/plain": [
       "array([  8.36, -10.74,  -8.62, -18.92, -16.8 ,   2.59])"
      ]
     },
     "execution_count": 94,
     "metadata": {},
     "output_type": "execute_result"
    }
   ],
   "source": [
    "np.set_printoptions(precision=2, suppress=False)\n"
   ]
  },
  {
   "cell_type": "code",
   "execution_count": 428,
   "metadata": {
    "collapsed": true,
    "run_control": {
     "frozen": false,
     "read_only": false
    }
   },
   "outputs": [],
   "source": []
  },
  {
   "cell_type": "code",
   "execution_count": 429,
   "metadata": {
    "collapsed": false,
    "run_control": {
     "frozen": false,
     "read_only": false
    }
   },
   "outputs": [
    {
     "data": {
      "text/plain": [
       "array([  8.36e-06,  -1.07e-05,  -8.62e-06,  -1.89e-05,  -1.68e-05,   2.59e-06])"
      ]
     },
     "execution_count": 429,
     "metadata": {},
     "output_type": "execute_result"
    }
   ],
   "source": [
    "1 - table[:, 0] "
   ]
  },
  {
   "cell_type": "code",
   "execution_count": 416,
   "metadata": {
    "collapsed": true,
    "run_control": {
     "frozen": false,
     "read_only": false
    }
   },
   "outputs": [],
   "source": [
    "plt.close('all')"
   ]
  },
  {
   "cell_type": "markdown",
   "metadata": {},
   "source": [
    "### Vertical Flash Position Regression"
   ]
  },
  {
   "cell_type": "code",
   "execution_count": 414,
   "metadata": {
    "collapsed": false,
    "run_control": {
     "frozen": false,
     "read_only": false
    }
   },
   "outputs": [
    {
     "name": "stdout",
     "output_type": "stream",
     "text": [
      "[  -12.88     6.59     3.01     7.52 -2629.1  -2621.22 -2623.02     2.09    -1.06   -14.2      2.16     7.87    -0.62    -2.53   -20.11    -1.63\n",
      " -2626.41    -1.49    -1.52     8.89     1.43    -4.57    -0.47    -3.75 -2625.62     0.31 -2633.54     4.84]\n"
     ]
    },
    {
     "data": {
      "text/plain": [
       "[<matplotlib.lines.Line2D at 0x7f4b7a9b9f90>]"
      ]
     },
     "execution_count": 414,
     "metadata": {},
     "output_type": "execute_result"
    }
   ],
   "source": [
    "i = cam1 = 1\n",
    "j = cam2 = 2\n",
    "events_ij = get_matched_events([i, j], timed_events, event_selection_idx, min(i, j))\n",
    "model = linear_model.LinearRegression()\n",
    "n = len(events[cam1])\n",
    "X = np.vstack((\n",
    "    events_ij[cam1]['timing'],\n",
    "    )).T\n",
    "y = events_ij[cam1]['start'] - events_ij[cam2]['start']\n",
    "model.fit(X, y)\n",
    "model_ransac = linear_model.RANSACRegressor(linear_model.LinearRegression())\n",
    "model_ransac.fit(X, y)\n",
    "print model_ransac.predict(X).flatten() - y\n",
    "plt.plot(X.flatten(), y, '.')\n",
    "plt.plot(X[~model_ransac.inlier_mask_], y[~model_ransac.inlier_mask_], 'o')\n",
    "x = X.flatten()\n",
    "x12 = x[[0, -1]]\n",
    "plt.plot(x12, x12 * model_ransac.estimator_.coef_[0] + model_ransac.estimator_.intercept_)"
   ]
  },
  {
   "cell_type": "code",
   "execution_count": 555,
   "metadata": {
    "collapsed": false,
    "run_control": {
     "frozen": false,
     "read_only": false
    }
   },
   "outputs": [],
   "source": [
    "# 2625 978 "
   ]
  },
  {
   "cell_type": "code",
   "execution_count": 741,
   "metadata": {
    "collapsed": false,
    "run_control": {
     "frozen": false,
     "read_only": false
    }
   },
   "outputs": [],
   "source": [
    "for cam in set(cameras) - set([base_cam]):\n",
    "    events_ij = get_matched_events([base_cam, cam], timed_events, \n",
    "                                   event_selection_idx, base_cam)\n",
    "    table = np.vstack((\n",
    "            events_ij[base_cam]['timing'],\n",
    "            events_ij[base_cam]['start'],\n",
    "            events_ij[cam]['timing'],\n",
    "            events_ij[cam]['start'],\n",
    "            )).T\n",
    "    \n",
    "    headers = ['cam%d [ms]' % base_cam,\n",
    "               'cam%d [px]' % base_cam,\n",
    "               'cam%d [ms]' % cam,\n",
    "               'cam%d [px]' % cam,\n",
    "               ]\n",
    "    \n",
    "    # print tabulate(table)\n",
    "    np.savetxt('out/cam%d%d.csv' % (base_cam, cam), table, header=','.join(headers), delimiter=',', fmt='%06f')"
   ]
  },
  {
   "cell_type": "code",
   "execution_count": 411,
   "metadata": {
    "collapsed": false,
    "run_control": {
     "frozen": false,
     "read_only": false
    }
   },
   "outputs": [
    {
     "data": {
      "text/plain": [
       "[<matplotlib.lines.Line2D at 0x7f4b7b4f2350>]"
      ]
     },
     "execution_count": 411,
     "metadata": {},
     "output_type": "execute_result"
    }
   ],
   "source": [
    "plt.plot(events_ij[cam1]['timing'], events_ij[cam1]['start'], 'r.')\n",
    "plt.plot(events_ij[cam1]['timing'][~model_ransac.inlier_mask_], \n",
    "         events_ij[cam1]['start'][~model_ransac.inlier_mask_], 'ro')\n",
    "plt.plot(events_ij[cam1]['timing'], events_ij[cam2]['start'], 'g.')\n",
    "plt.plot(events_ij[cam1]['timing'][~model_ransac.inlier_mask_], \n",
    "         events_ij[cam2]['start'][~model_ransac.inlier_mask_], 'go')\n"
   ]
  },
  {
   "cell_type": "code",
   "execution_count": 525,
   "metadata": {
    "collapsed": false,
    "run_control": {
     "frozen": false,
     "read_only": false
    }
   },
   "outputs": [
    {
     "data": {
      "text/plain": [
       "array([-2628.9483614445, -2474.2292547794, -2620.9664155753, -2622.70163323  ,   -19.6231106943, -2625.9133816428,   596.4222693034,  -986.84787581  ,\n",
       "       -2624.9473904696, -2632.8076429715])"
      ]
     },
     "execution_count": 525,
     "metadata": {},
     "output_type": "execute_result"
    }
   ],
   "source": [
    "(model_ransac.predict(X).flatten() - y)[~model_ransac.inlier_mask_]"
   ]
  },
  {
   "cell_type": "markdown",
   "metadata": {},
   "source": [
    "### Puck Shot Sub-frame Interpolation"
   ]
  },
  {
   "cell_type": "code",
   "execution_count": null,
   "metadata": {
    "collapsed": true
   },
   "outputs": [],
   "source": [
    "import rectification\n",
    "import camera\n",
    "calibrated_cameras = {}\n",
    "# load cameras and 1st frames\n",
    "for i in p.c['cameras']:\n",
    "    c = camera.Camera()\n",
    "    c.load(p.get_calibration_template() % i)\n",
    "    calibrated_cameras[i] = c\n",
    "\n",
    "area_rect = p.c['area_rect']\n",
    "\n",
    "step = 0.05\n",
    "border_width_m = 2\n",
    "area = np.array(area_rect)\n",
    "area[0:2] -= border_width_m\n",
    "area[2:] += border_width_m\n"
   ]
  },
  {
   "cell_type": "code",
   "execution_count": 459,
   "metadata": {
    "collapsed": true
   },
   "outputs": [],
   "source": [
    "# selected_cams = [3, 1, 1]\n",
    "# selected_frames = [11258, -1, -1]\n",
    "# coords = np.array([[355, 325],\n",
    "#                   [-1, -1],\n",
    "#                   [-1, -1]], dtype=float)\n",
    "\n",
    "# # 1\n",
    "# selected_cams = [3, 1, 1]\n",
    "# selected_frames = [3919, -1, -1]\n",
    "# alpha, beta = table[1, 1:3]\n",
    "\n",
    "# # 2\n",
    "# selected_cams = [3, 1, 1]\n",
    "# selected_frames = [6622, -1, -1]\n",
    "# alpha, beta = table[1, 1:3]\n",
    "\n",
    "# 3\n",
    "selected_cams = [3, 1, 1]\n",
    "selected_frames = [3903, -1, -1]\n",
    "alpha, beta = table[1, 1:3]"
   ]
  },
  {
   "cell_type": "code",
   "execution_count": 425,
   "metadata": {
    "collapsed": false
   },
   "outputs": [
    {
     "data": {
      "text/plain": [
       "<matplotlib.image.AxesImage at 0x7f03466e3e90>"
      ]
     },
     "execution_count": 425,
     "metadata": {},
     "output_type": "execute_result"
    }
   ],
   "source": [
    "# write down the puck coords\n",
    "plt.imshow(images.get_image(selected_frames[0], selected_cams[0]))"
   ]
  },
  {
   "cell_type": "code",
   "execution_count": 460,
   "metadata": {
    "collapsed": true
   },
   "outputs": [],
   "source": [
    "# 1\n",
    "# coords = np.array([[573, 219],\n",
    "#                   [-1, -1],\n",
    "#                   [-1, -1]], dtype=float)\n",
    "\n",
    "# # 2\n",
    "# coords = np.array([[245, 362],\n",
    "#                   [-1, -1],\n",
    "#                   [-1, -1]], dtype=float)\n",
    "\n",
    "# 3\n",
    "coords = np.array([[1017, 460],\n",
    "                  [-1, -1],\n",
    "                  [-1, -1]], dtype=float)"
   ]
  },
  {
   "cell_type": "code",
   "execution_count": 461,
   "metadata": {
    "collapsed": false
   },
   "outputs": [],
   "source": [
    "cam = selected_cams[0]\n",
    "timing1 = alpha * sync.get_timings()[cam][selected_frames[0]] + beta + coords[0, 1] / sensor_rows[cam] * mode_duration[cam]\n",
    "\n",
    "idx = np.searchsorted(sync.get_timings()[selected_cams[1]], timing1)\n",
    "selected_frames[1] = idx - 1\n",
    "# print sync.get_timings()[selected_cams[1]][idx - 1]\n",
    "selected_frames[2] = idx\n",
    "# print sync.get_timings()[selected_cams[2]][idx]"
   ]
  },
  {
   "cell_type": "code",
   "execution_count": 462,
   "metadata": {
    "collapsed": true
   },
   "outputs": [],
   "source": [
    "imgs = [images.get_image(frame, cam) for frame, cam in zip(selected_frames, selected_cams)]"
   ]
  },
  {
   "cell_type": "code",
   "execution_count": 429,
   "metadata": {
    "collapsed": false
   },
   "outputs": [],
   "source": [
    "for img in imgs:\n",
    "    plt.figure()\n",
    "    plt.imshow(img)"
   ]
  },
  {
   "cell_type": "code",
   "execution_count": 463,
   "metadata": {
    "collapsed": true
   },
   "outputs": [],
   "source": [
    "# # 2\n",
    "# coords[1, :] = [1246, 1577]\n",
    "# coords[2, :] = [1254, 1530]\n",
    "\n",
    "# 3\n",
    "coords[1, :] = [2147, 619]\n",
    "coords[2, :] = [2062, 644]"
   ]
  },
  {
   "cell_type": "code",
   "execution_count": 464,
   "metadata": {
    "collapsed": true
   },
   "outputs": [],
   "source": [
    "for img, coord in zip(imgs, coords):\n",
    "    plt.figure()\n",
    "    plt.imshow(img)\n",
    "    plt.plot(coord[0], coord[1], '*')    "
   ]
  },
  {
   "cell_type": "code",
   "execution_count": 465,
   "metadata": {
    "collapsed": true
   },
   "outputs": [],
   "source": [
    "plane_images = rectification.rectify(selected_cams, imgs, area, step, calibrated_cameras)"
   ]
  },
  {
   "cell_type": "code",
   "execution_count": 466,
   "metadata": {
    "collapsed": true
   },
   "outputs": [],
   "source": [
    "img_merge = np.zeros_like(plane_images[0])\n",
    "img_merge[:, :, 0] = cv2.cvtColor(plane_images[0].astype(np.uint8), cv2.COLOR_RGB2GRAY)\n",
    "img_merge[:, :, 1] = cv2.cvtColor(plane_images[1].astype(np.uint8), cv2.COLOR_RGB2GRAY)\n",
    "img_merge[:, :, 2] = cv2.cvtColor(plane_images[2].astype(np.uint8), cv2.COLOR_RGB2GRAY)"
   ]
  },
  {
   "cell_type": "code",
   "execution_count": 434,
   "metadata": {
    "collapsed": false
   },
   "outputs": [
    {
     "data": {
      "text/plain": [
       "<matplotlib.image.AxesImage at 0x7f034036e610>"
      ]
     },
     "execution_count": 434,
     "metadata": {},
     "output_type": "execute_result"
    }
   ],
   "source": [
    "plt.imshow(img_merge)"
   ]
  },
  {
   "cell_type": "code",
   "execution_count": 435,
   "metadata": {
    "collapsed": true
   },
   "outputs": [],
   "source": [
    "plt.imsave('out/puck_merge_c%d_%d.png' % (selected_cams[0], selected_frames[0]), img_merge)\n",
    "# fix homography in out/puck_merge_xx.png, save it as out/puck_merge_xx_fixed.png\n",
    "# gimp: crop; colors - components - decompose; projective transform of r layer (tool setting: layer opacity);\n",
    "#       layer - layer to image size; colors - components - compose"
   ]
  },
  {
   "cell_type": "code",
   "execution_count": 529,
   "metadata": {
    "collapsed": false
   },
   "outputs": [
    {
     "data": {
      "text/plain": [
       "<matplotlib.image.AxesImage at 0x7f0345733350>"
      ]
     },
     "execution_count": 529,
     "metadata": {},
     "output_type": "execute_result"
    }
   ],
   "source": [
    "img_merge_fixed = plt.imread('out/puck_merge_c%d_%d_fixed.png' % (selected_cams[0], selected_frames[0]))\n",
    "plt.imshow(img_merge_fixed)\n",
    "# save coordinates"
   ]
  },
  {
   "cell_type": "code",
   "execution_count": 468,
   "metadata": {
    "collapsed": true
   },
   "outputs": [],
   "source": [
    "# # 2\n",
    "# coords_rectified = np.array([\n",
    "#         [171.6, 63.6],\n",
    "#         [170.6, 62.3],\n",
    "#         [158, 66.3]\n",
    "#     ])\n",
    "\n",
    "# 3\n",
    "coords_rectified = np.array([\n",
    "        [113, 31],\n",
    "        [107, 25],\n",
    "        [119, 42]\n",
    "    ])"
   ]
  },
  {
   "cell_type": "code",
   "execution_count": 439,
   "metadata": {
    "collapsed": false
   },
   "outputs": [
    {
     "data": {
      "text/plain": [
       "<matplotlib.collections.PathCollection at 0x7f03404600d0>"
      ]
     },
     "execution_count": 439,
     "metadata": {},
     "output_type": "execute_result"
    }
   ],
   "source": [
    "plt.imshow(img_merge_fixed)\n",
    "plt.scatter(coords_rectified[:, 0], coords_rectified[:, 1], c=['r', 'g', 'b'])"
   ]
  },
  {
   "cell_type": "code",
   "execution_count": 469,
   "metadata": {
    "collapsed": false
   },
   "outputs": [],
   "source": [
    "puck_timings = []\n",
    "c_ref = 1\n",
    "for cam, frame, coord in zip(selected_cams, selected_frames, coords):\n",
    "    if cam != c_ref:\n",
    "        t = alpha * sync.get_timings()[cam][frame] + beta + float(coord[1]) / sensor_rows[cam] * mode_duration[cam]\n",
    "    else:\n",
    "        t = sync.get_timings()[cam][frame] + float(coord[1]) / sensor_rows[cam] * mode_duration[cam]\n",
    "    puck_timings.append(t)"
   ]
  },
  {
   "cell_type": "code",
   "execution_count": 470,
   "metadata": {
    "collapsed": false
   },
   "outputs": [
    {
     "data": {
      "text/plain": [
       "[148507.66133474829, 148488.43238095238, 148528.81333333332]"
      ]
     },
     "execution_count": 470,
     "metadata": {},
     "output_type": "execute_result"
    }
   ],
   "source": [
    "puck_timings"
   ]
  },
  {
   "cell_type": "code",
   "execution_count": 540,
   "metadata": {
    "collapsed": false
   },
   "outputs": [
    {
     "name": "stdout",
     "output_type": "stream",
     "text": [
      "r\n",
      "camera 3, time 148507\n",
      "g\n",
      "camera 1, time 148488\n",
      "b\n",
      "camera 1, time 148528\n",
      "camera 1 interpolated\n",
      "position for time 148507\n"
     ]
    }
   ],
   "source": [
    "coords01 = coords_rectified[1:]\n",
    "# length = np.linalg.norm(coords01[0] - coords01[1])\n",
    "ratio = (puck_timings[0] - puck_timings[1]) / (puck_timings[2] - puck_timings[1])\n",
    "coord_rectified_interp = coords01[1] + (coords01[0] - coords01[1]) * ratio\n",
    "\n",
    "fig = plt.figure()\n",
    "plt.imshow(img_merge_fixed)\n",
    "for xy, c, l in zip(coords_rectified, ['r', 'g', 'b'], \n",
    "                    ['camera %d, time %d' % (cam, timing) for cam, timing in zip(selected_cams, puck_timings)]):\n",
    "    # plt.plot(xy[0], xy[1], '+', color=c, label=l)\n",
    "    print c\n",
    "    print l\n",
    "    # plt.annotate(l, (xy[0], xy[1]), (10, 0), textcoords='offset points', color=c)  \n",
    "    \n",
    "plt.plot(coord_rectified_interp[0], coord_rectified_interp[1],\n",
    "         'wo', label='iterpolated cam %d'  % selected_cams[1])\n",
    "l = 'camera %d interpolated\\nposition for time %d'  % (selected_cams[1], puck_timings[0])\n",
    "# plt.annotate(,\n",
    "#              (coord_rectified_interp[0], coord_rectified_interp[1]), (-130, 0), textcoords='offset points', color='w')\n",
    "print l\n",
    "plt.axis('off')\n",
    "legend = plt.legend(frameon=True)\n",
    "frame = legend.get_frame()\n",
    "frame.set_color('white')\n",
    "fig.set_size_inches(24, 12)\n",
    "plt.tight_layout(pad=0)\n",
    "plt.savefig('out/puck_subframe_c%d_%d.png' % (selected_cams[0], selected_frames[0]))\n",
    "plt.close('all')"
   ]
  },
  {
   "cell_type": "code",
   "execution_count": 472,
   "metadata": {
    "collapsed": false
   },
   "outputs": [
    {
     "data": {
      "text/plain": [
       "0.47618871428569637"
      ]
     },
     "execution_count": 472,
     "metadata": {},
     "output_type": "execute_result"
    }
   ],
   "source": [
    "ratio"
   ]
  },
  {
   "cell_type": "code",
   "execution_count": 473,
   "metadata": {
    "collapsed": false
   },
   "outputs": [
    {
     "data": {
      "text/plain": [
       "array([-12, -17])"
      ]
     },
     "execution_count": 473,
     "metadata": {},
     "output_type": "execute_result"
    }
   ],
   "source": [
    "coords01[0] - coords01[1]"
   ]
  },
  {
   "cell_type": "markdown",
   "metadata": {},
   "source": [
    "### Other Experiments"
   ]
  },
  {
   "cell_type": "code",
   "execution_count": null,
   "metadata": {
    "collapsed": false,
    "run_control": {
     "frozen": false,
     "read_only": false
    }
   },
   "outputs": [],
   "source": [
    "def mad(arr):\n",
    "    \"\"\" Median Absolute Deviation: a \"Robust\" version of standard deviation.\n",
    "        Indices variabililty of the sample.\n",
    "        https://en.wikipedia.org/wiki/Median_absolute_deviation \n",
    "    \"\"\"\n",
    "    arr = np.ma.array(arr).compressed() # should be faster to not use masked arrays.\n",
    "    med = np.median(arr)\n",
    "    return np.median(np.abs(arr - med))\n",
    "\n",
    "rising_diff = timed_events[cameras[0]][pairs[cameras[0]]]['start'] - timed_events[cameras[1]][pairs[cameras[1]]]['start']\n",
    "rising_diff_iqr = np.subtract(*np.percentile(rising_diff, [75, 25]))\n",
    "rising_diff_mad = mad(rising_diff)\n",
    "ms_per_line = float(mode_duration_ms) / images_dimensions[cameras[0]][0]\n",
    "print rising_diff_iqr, rising_diff_mad, rising_diff_iqr * ms_per_line, rising_diff_mad * ms_per_line\n"
   ]
  },
  {
   "cell_type": "code",
   "execution_count": null,
   "metadata": {
    "collapsed": false,
    "run_control": {
     "frozen": false,
     "read_only": false
    }
   },
   "outputs": [],
   "source": [
    "offsets = {cam: get_subframe_timing(cam, timed_events, synchronization_events_idx[cam]) for cam in cameras}\n",
    "pairs = find_event_pairs(timed_events, cameras, offsets)\n",
    "synchronization_errors = \\\n",
    "(get_subframe_timing(cameras[0], timed_events, pairs[cameras[0]]) - offsets[cameras[0]]) - \\\n",
    "(get_subframe_timing(cameras[1], timed_events, pairs[cameras[1]]) - offsets[cameras[1]])\n",
    "synchronization_errors"
   ]
  },
  {
   "cell_type": "code",
   "execution_count": null,
   "metadata": {
    "collapsed": false,
    "run_control": {
     "frozen": false,
     "read_only": false
    }
   },
   "outputs": [],
   "source": [
    "synchronization_errors / 40. * images_dimensions[cam][0]"
   ]
  },
  {
   "cell_type": "code",
   "execution_count": null,
   "metadata": {
    "collapsed": true,
    "run_control": {
     "frozen": false,
     "read_only": false
    }
   },
   "outputs": [],
   "source": [
    "plt.figure()\n",
    "plt.hist(synchronization_errors[~np.isnan(synchronization_errors)], 50, )\n",
    "plt.title('Synchronization errors')\n",
    "plt.xlabel('event timing difference [ms]')\n",
    "plt.ylabel('count')"
   ]
  },
  {
   "cell_type": "code",
   "execution_count": null,
   "metadata": {
    "collapsed": true,
    "run_control": {
     "frozen": false,
     "read_only": false
    }
   },
   "outputs": [],
   "source": [
    "np.set_printoptions(precision=2)"
   ]
  },
  {
   "cell_type": "code",
   "execution_count": null,
   "metadata": {
    "collapsed": false,
    "run_control": {
     "frozen": false,
     "read_only": false
    }
   },
   "outputs": [],
   "source": [
    "timed_events\n",
    "pairs\n",
    "\n",
    "np.set_printoptions(precision=0)\n",
    "\n",
    "table = []\n",
    "\n",
    "cam = 1\n",
    "table.append(get_subframe_timing(cam, timed_events, pairs[cam]))\n",
    "cam = 2\n",
    "table.append(get_subframe_timing(cam, timed_events, pairs[cam]))\n",
    "\n",
    "table.append(table[1] - table[0])\n",
    "\n",
    "HTML(tabulate(table, floatfmt='.1f', tablefmt='html'))"
   ]
  },
  {
   "cell_type": "code",
   "execution_count": null,
   "metadata": {
    "collapsed": true,
    "run_control": {
     "frozen": false,
     "read_only": false
    }
   },
   "outputs": [],
   "source": [
    "plt.close('all')"
   ]
  },
  {
   "cell_type": "code",
   "execution_count": null,
   "metadata": {
    "collapsed": true,
    "run_control": {
     "frozen": false,
     "read_only": false
    }
   },
   "outputs": [],
   "source": [
    "np.set_printoptions(precision=2)"
   ]
  },
  {
   "cell_type": "code",
   "execution_count": null,
   "metadata": {
    "collapsed": false,
    "run_control": {
     "frozen": true,
     "read_only": true
    }
   },
   "outputs": [],
   "source": [
    "# manually annotated flash start line\n",
    "# definition: last position before \"diff median luminance\" begin to differ\n",
    "idx = 0\n",
    "cam = 1\n",
    "timed_events[cam][pairs[cam][idx]]['start'] = 218\n",
    "cam = 2\n",
    "timed_events[cam][pairs[cam][idx]]['start'] = 1238\n",
    "\n",
    "idx = 12\n",
    "cam = 1\n",
    "timed_events[cam][pairs[cam][idx]]['start'] = 887\n",
    "cam = 2\n",
    "timed_events[cam][pairs[cam][idx]]['start'] = 1903\n",
    "\n",
    "idx = 25\n",
    "cam = 1\n",
    "timed_events[cam][pairs[cam][idx]]['start'] = 220\n",
    "cam = 2\n",
    "timed_events[cam][pairs[cam][idx]]['start'] = 1218\n",
    "\n",
    "idx = 39\n",
    "cam = 1\n",
    "timed_events[cam][pairs[cam][idx]]['start'] = 1023\n",
    "cam = 2\n",
    "timed_events[cam][pairs[cam][idx]]['start'] = 2010\n",
    "\n",
    "idx = 53\n",
    "cam = 1\n",
    "timed_events[cam][pairs[cam][idx]]['start'] = 811\n",
    "cam = 2\n",
    "timed_events[cam][pairs[cam][idx]]['start'] = 1795\n",
    "\n",
    "\n",
    "# bad_idx = [37, 38]\n",
    "\n",
    "events_manual_idx = [0, 12, 25, 39, 53]\n",
    "events_manual_cams = [1, 2]\n",
    "events_manual = {cam: timed_events[cam][pairs[cam]][events_manual_idx] for cam in events_manual_cams}\n",
    "events_manual\n",
    "\n",
    "offsets = {cam: get_subframe_timing(cam, events_manual, 0) for cam in cameras}\n",
    "synchronization_errors = \\\n",
    "(get_subframe_timing(cameras[0], events_manual) - offsets[cameras[0]]) - \\\n",
    "(get_subframe_timing(cameras[1], events_manual) - offsets[cameras[1]])\n",
    "synchronization_errors"
   ]
  },
  {
   "cell_type": "code",
   "execution_count": null,
   "metadata": {
    "collapsed": false,
    "run_control": {
     "frozen": false,
     "read_only": false
    }
   },
   "outputs": [],
   "source": [
    "timing1 = get_subframe_timing(cameras[0], events_manual)\n",
    "timing2 = get_subframe_timing(cameras[1], events_manual)\n",
    "np.vstack((timing1, timing2, timing1 - timing2))"
   ]
  },
  {
   "cell_type": "code",
   "execution_count": null,
   "metadata": {
    "collapsed": false,
    "run_control": {
     "frozen": false,
     "read_only": false
    }
   },
   "outputs": [],
   "source": [
    "events_manual[cameras[0]]['timing']"
   ]
  },
  {
   "cell_type": "code",
   "execution_count": null,
   "metadata": {
    "collapsed": false,
    "run_control": {
     "frozen": false,
     "read_only": false
    }
   },
   "outputs": [],
   "source": [
    "timing1 = events_manual[cameras[0]]['timing']\n",
    "timing2 = events_manual[cameras[1]]['timing']\n",
    "np.vstack((timing1, timing2, timing1 - timing2))"
   ]
  },
  {
   "cell_type": "code",
   "execution_count": null,
   "metadata": {
    "collapsed": false,
    "run_control": {
     "frozen": false,
     "read_only": false
    }
   },
   "outputs": [],
   "source": [
    "np.vstack((events_manual[cameras[0]]['timing'], events_manual[cameras[0]]['start'],\n",
    "          events_manual[cameras[1]]['timing'], events_manual[cameras[1]]['start'],\n",
    "         events_manual[cameras[0]]['timing'] - events_manual[cameras[1]]['timing'],\n",
    "         events_manual[cameras[0]]['start'] - events_manual[cameras[1]]['start']))"
   ]
  },
  {
   "cell_type": "code",
   "execution_count": null,
   "metadata": {
    "collapsed": false,
    "run_control": {
     "frozen": false,
     "read_only": false
    }
   },
   "outputs": [],
   "source": [
    "publish = True\n",
    "for idx in xrange(len(events_manual[cameras[0]])):\n",
    "    for cam in cameras:\n",
    "        plot_frame_with_profile(cam, events_manual[cam][idx]['frame'], \n",
    "                                features, np.diff(features[cam].astype(float), axis=1),\n",
    "                                events_manual[cam][idx]['start'], events_manual[cam][idx]['end'],\n",
    "                                filename='manual_event_pair_f%d_c%d.png' % (events_manual[cam][idx]['frame'], cam))\n",
    "        plt.close()"
   ]
  },
  {
   "cell_type": "code",
   "execution_count": null,
   "metadata": {
    "collapsed": false,
    "run_control": {
     "frozen": false,
     "read_only": false
    }
   },
   "outputs": [],
   "source": [
    "events_manual = \\\n",
    "{1: np.array([(96, 218.0, 1000.0, 96.10787037037036, 70779.0), \n",
    "              (4281, 887.0, 1638.0, 4281.413425925926, 239144.0),\n",
    "              (8088, 220.0, 996.0, 8088.1125, 392345.0), \n",
    "              (11469, 1023.0, 1763.0, 11469.476851851852, 529222.0), \n",
    "              (14834, 811.0, 1575.0, 14834.380092592593, 664418.0)],\n",
    "       dtype=[('frame', '<i8'), ('start', '<f8'), ('end', '<f8'), ('position', '<f8'), ('timing', '<f8')]),\n",
    " 2: np.array([\n",
    "            (96, 1238.0, 2043.0, 96.57685185185186, 64697.0), \n",
    "            (4260, 1903.0, 2159.0, 4260.883333333333, 233064.0),\n",
    "            (8071, 1218.0, 2033.0, 8071.566666666667, 386267.0), \n",
    "            (11474, 2010.0, 2159.0, 11474.933333333332, 523145.0), \n",
    "            (14835, 1795.0, 2159.0, 14835.836111111112, 658342.0)],\n",
    "       dtype=[('frame', '<i8'), ('start', '<f8'), ('end', '<f8'), ('position', '<f8'), ('timing', '<f8')])}"
   ]
  },
  {
   "cell_type": "code",
   "execution_count": null,
   "metadata": {
    "collapsed": false,
    "run_control": {
     "frozen": false,
     "read_only": false
    }
   },
   "outputs": [],
   "source": [
    "table, __ = events_table_histogram(events_manual[1]['timing'], events_manual[2]['timing'],\n",
    "                       events_manual[1]['start'], events_manual[2]['start'])\n",
    "table"
   ]
  },
  {
   "cell_type": "code",
   "execution_count": null,
   "metadata": {
    "collapsed": false,
    "run_control": {
     "frozen": false,
     "read_only": false
    }
   },
   "outputs": [],
   "source": [
    "cam = 1\n",
    "idx = 39\n",
    "plot_frame_with_profile(cam, timed_events[cam][pairs[cam][idx]]['frame'], \n",
    "                        features, diff2d=np.diff(features[cam].astype(float), axis=1))"
   ]
  },
  {
   "cell_type": "code",
   "execution_count": null,
   "metadata": {
    "collapsed": true,
    "run_control": {
     "frozen": false,
     "read_only": false
    }
   },
   "outputs": [],
   "source": [
    "plt.close('all')"
   ]
  },
  {
   "cell_type": "code",
   "execution_count": null,
   "metadata": {
    "collapsed": true,
    "run_control": {
     "frozen": true,
     "read_only": true
    }
   },
   "outputs": [],
   "source": [
    "video_files_template = '../data/ihwc2015/video/usa_rus/%d.mp4'\n",
    "cam = 4\n",
    "ffprobe_timestamps_ms = get_timestamps_ms(video_files_template % cam, '10:00')"
   ]
  },
  {
   "cell_type": "code",
   "execution_count": 312,
   "metadata": {
    "code_folding": [],
    "collapsed": false,
    "run_control": {
     "frozen": true,
     "read_only": true
    }
   },
   "outputs": [],
   "source": [
    "# time axis experiments\n",
    "\n",
    "cam1_timing = alpha * events_ij[cam2]['timing'] + beta + events_ij[cam2]['start'] / 2625 * 40\n",
    "cam2_timing = events_ij[cam1]['timing'] + events_ij[cam1]['start'] / 2625 * 40\n",
    "fig = plt.figure()\n",
    "# plt.plot(cam1_timing, cam1_timing - cam2_timing, '.')\n",
    "# plt.xticks(np.arange(0, cam1_timing.max(), step=200000),\n",
    "#            (np.arange(0, cam1_timing.max(), step=200000) / 1000).astype(int))\n",
    "# plt.xlabel('time in seconds')\n",
    "cam1_timing_us = (cam1_timing * 1000).astype('timedelta64[us]')\n",
    "cam1_timing_ms = cam1_timing.astype('timedelta64[ms]')\n",
    "\n",
    "\n",
    "def my_format_function(x, pos=None):\n",
    "     x = matplotlib.dates.num2date(x)\n",
    "     if pos == 0:\n",
    "         fmt = '%D %H:%M:%S.%f'\n",
    "     else:\n",
    "         fmt = '%H:%M:%S.%f'\n",
    "     label = x.strftime(fmt)\n",
    "     label = label.rstrip(\"0\")\n",
    "     label = label.rstrip(\".\")\n",
    "     return label\n",
    "\n",
    "formatter.scaled[1/(24.*60.)] = \n",
    "\n",
    "\n",
    "plt.plot_date(cam1_timing_ms.astype(np.datetime64), cam1_timing - cam2_timing, '.')\n",
    "\n",
    "plt.xticks(rotation=70)\n",
    "ax = fig.gca()\n",
    "\n",
    "from matplotlib.ticker import FuncFormatter\n",
    "formatter = ax.xaxis.get_major_formatter()\n",
    "formatter.scaled[1 / (24. * 60.)] = '%M:%S'\n",
    "formatter.scaled[1 / (24. * 60. * 60.)] = FuncFormatter(my_format_function)\n",
    "\n",
    "'%S.%f'\n",
    "formatter.scaled[1 / (24. * 60. * 60. * 10)] = '%f'\n",
    "plt.tight_layout(rect=(0, 0.1, 1, 1))\n"
   ]
  }
 ],
 "metadata": {
  "hide_input": false,
  "kernelspec": {
   "display_name": "Python 2",
   "language": "python",
   "name": "python2"
  },
  "language_info": {
   "codemirror_mode": {
    "name": "ipython",
    "version": 2
   },
   "file_extension": ".py",
   "mimetype": "text/x-python",
   "name": "python",
   "nbconvert_exporter": "python",
   "pygments_lexer": "ipython2",
   "version": "2.7.11"
  },
  "nav_menu": {
   "height": "123px",
   "width": "228px"
  },
  "toc": {
   "navigate_menu": true,
   "number_sections": true,
   "sideBar": true,
   "threshold": 6,
   "toc_cell": false,
   "toc_section_display": "block",
   "toc_window_display": true
  },
  "toc_position": {
   "height": "956px",
   "left": "0px",
   "right": "1266px",
   "top": "107px",
   "width": "174px"
  }
 },
 "nbformat": 4,
 "nbformat_minor": 0
}
