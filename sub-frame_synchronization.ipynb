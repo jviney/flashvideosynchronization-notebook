{
 "cells": [
  {
   "cell_type": "code",
   "execution_count": 1,
   "metadata": {
    "collapsed": false,
    "hide_input": true,
    "run_control": {
     "frozen": false,
     "read_only": false
    }
   },
   "outputs": [],
   "source": [
    "%reload_ext autoreload\n",
    "%autoreload \n",
    "%matplotlib inline \n",
    "# qt4 \n",
    "import IPython\n",
    "IPython.core.pylabtools.figsize(5, 3)\n",
    "from IPython.display import HTML, display, Latex\n",
    "import os\n",
    "import numpy as np\n",
    "import pickle\n",
    "import math\n",
    "import itertools\n",
    "import matplotlib.pylab as plt\n",
    "import matplotlib\n",
    "from scipy import stats\n",
    "import seaborn as sns\n",
    "import tabulate\n",
    "from sklearn import linear_model\n",
    "import flashvideosynchronization\n",
    "import imagesourcetimedvideo"
   ]
  },
  {
   "cell_type": "code",
   "execution_count": 2,
   "metadata": {
    "collapsed": false,
    "run_control": {
     "frozen": false,
     "read_only": false
    }
   },
   "outputs": [],
   "source": [
    "# download the input files\n",
    "!mkdir -p data/ice_hockey\n",
    "!wget -q --show-progress -nc -P data/ice_hockey http://ptak.felk.cvut.cz/personal/smidm1/synchronization/ice_hockey/1.mp4\n",
    "!wget -q --show-progress -nc -P data/ice_hockey http://ptak.felk.cvut.cz/personal/smidm1/synchronization/ice_hockey/2.mp4    \n",
    "!wget -q --show-progress -nc -P data/ice_hockey http://ptak.felk.cvut.cz/personal/smidm1/synchronization/ice_hockey/3.mp4\n",
    "!wget -q --show-progress -nc -P data/ice_hockey http://ptak.felk.cvut.cz/personal/smidm1/synchronization/ice_hockey/4.mp4"
   ]
  },
  {
   "cell_type": "code",
   "execution_count": 3,
   "metadata": {
    "collapsed": true,
    "run_control": {
     "frozen": false,
     "read_only": false
    }
   },
   "outputs": [],
   "source": [
    "paper_figures_dir = 'out/figures'\n",
    "if not os.path.exists(paper_figures_dir):\n",
    "    os.makedirs(paper_figures_dir)\n",
    "out_events_dir = 'out/events' \n",
    "if not os.path.exists(out_events_dir):\n",
    "    os.makedirs(out_events_dir)    \n",
    "cameras = [1, 2, 3, 4]\n",
    "filenames = {cam: 'data/ice_hockey/%d.mp4' % cam for cam in cameras}"
   ]
  },
  {
   "cell_type": "code",
   "execution_count": 4,
   "metadata": {
    "code_folding": [
     0
    ],
    "collapsed": false,
    "run_control": {
     "frozen": false,
     "read_only": false
    }
   },
   "outputs": [],
   "source": [
    "# matplotlib settings\n",
    "\n",
    "publish = True  # save figures for publication\n",
    "\n",
    "if publish:\n",
    "    fig_width_in = 4 # 2.953 # real column width -> too thick lines, font size probably also too big\n",
    "    fig_height_in = fig_width_in * 0.7\n",
    "       \n",
    "    sns.set_style('ticks')\n",
    "    sns.set_context(\"paper\")\n",
    "    sns.set_palette(sns.color_palette('muted')) \n",
    "    sns.set_color_codes()\n",
    "    \n",
    "    params = {\n",
    "        'figure.figsize': [fig_width_in, fig_height_in],\n",
    "        'figure.dpi' : 80,\n",
    "        'text.usetex': False,\n",
    "        'font.family': 'serif',\n",
    "        'savefig.dpi' : 300,\n",
    "       }   \n",
    "else:\n",
    "    sns.set_style('whitegrid')\n",
    "    sns.set_context('notebook')\n",
    "    params = {\n",
    "        'figure.dpi' : 80,\n",
    "        'text.usetex': False,\n",
    "    #    'font.family': 'serif',\n",
    "        'savefig.dpi' : 300,\n",
    "       }\n",
    "    \n",
    "plt.rcParams.update(params)    "
   ]
  },
  {
   "cell_type": "code",
   "execution_count": 5,
   "metadata": {
    "collapsed": false,
    "run_control": {
     "frozen": false,
     "read_only": false
    },
    "scrolled": true
   },
   "outputs": [
    {
     "name": "stdout",
     "output_type": "stream",
     "text": [
      "framecache data/ice_hockey/1.framecache loaded\n",
      "framecache data/ice_hockey/2.framecache loaded\n",
      "framecache data/ice_hockey/3.framecache loaded\n",
      "framecache data/ice_hockey/4.framecache loaded\n"
     ]
    }
   ],
   "source": [
    "sources = {cam: imagesourcetimedvideo.ImageSourceTimedVideo(filenames[cam])\n",
    "          for cam in cameras}\n",
    "for source in sources.itervalues():\n",
    "    source.extract_timestamps()"
   ]
  },
  {
   "cell_type": "code",
   "execution_count": 6,
   "metadata": {
    "collapsed": false,
    "run_control": {
     "frozen": false,
     "read_only": false
    }
   },
   "outputs": [],
   "source": [
    "images_dimensions = {}\n",
    "for cam in cameras:\n",
    "    img = sources[cam].get_image(0)\n",
    "    images_dimensions[cam] = img.shape\n",
    "obsolete_regions = {cam: {'top': 28, 'bottom': images_dimensions[cam][0] - 1}\n",
    "                    for cam in cameras}\n",
    "override_good = {0: [], 1: [1917, 5983, 10718], 2: [3605, 5122, 14935], 3: [6415, ], 4: []}  # force to stay\n",
    "override_start = {0: [], 1: [(10718, 983), ], 2: [], 3: [(6415, 633), ], 4: []}  # force to stay and fix start\n",
    "override_bad = {0: [], 1: [], 2: [12992, ], 3: [], 4: []}  # force to filter out"
   ]
  },
  {
   "cell_type": "code",
   "execution_count": 7,
   "metadata": {
    "collapsed": false,
    "run_control": {
     "frozen": false,
     "read_only": false
    }
   },
   "outputs": [],
   "source": [
    "sync = flashvideosynchronization.FlashVideoSynchronization()"
   ]
  },
  {
   "cell_type": "markdown",
   "metadata": {},
   "source": [
    "## Event Detection"
   ]
  },
  {
   "cell_type": "code",
   "execution_count": 8,
   "metadata": {
    "collapsed": false,
    "run_control": {
     "frozen": false,
     "read_only": false
    }
   },
   "outputs": [
    {
     "name": "stdout",
     "output_type": "stream",
     "text": [
      "[Memory]   10.3s, 0.2min: Loading detect_events_in_video-alias...\n",
      "[Memory]   10.3s, 0.2min: Loading detect_events_in_video-alias...\n",
      "[Memory]   10.3s, 0.2min: Loading detect_events_in_video-alias...\n",
      "[Memory]   10.3s, 0.2min: Loading detect_events_in_video-alias...\n"
     ]
    }
   ],
   "source": [
    "sync.detect_flash_events(filenames)\n",
    "\n",
    "matching_events = {1: 3, 3: 2, 2: 8, 4: 2}\n",
    "offsets = {cam: sync.events[cam][matching_events[cam]]['time'] for cam in cameras}\n",
    "sync.filter_events(obsolete_regions, override_good, override_bad, override_start)"
   ]
  },
  {
   "cell_type": "code",
   "execution_count": 9,
   "metadata": {
    "collapsed": false,
    "run_control": {
     "frozen": false,
     "read_only": false
    }
   },
   "outputs": [
    {
     "data": {
      "text/html": [
       "<table>\n",
       "<tr><th style=\"text-align: right;\">  camera</th><th style=\"text-align: right;\">  flashes</th></tr>\n",
       "<tr><td style=\"text-align: right;\">       1</td><td style=\"text-align: right;\">       18</td></tr>\n",
       "<tr><td style=\"text-align: right;\">       2</td><td style=\"text-align: right;\">       22</td></tr>\n",
       "<tr><td style=\"text-align: right;\">       3</td><td style=\"text-align: right;\">       13</td></tr>\n",
       "<tr><td style=\"text-align: right;\">       4</td><td style=\"text-align: right;\">       15</td></tr>\n",
       "</table>"
      ],
      "text/plain": [
       "<IPython.core.display.HTML object>"
      ]
     },
     "execution_count": 9,
     "metadata": {},
     "output_type": "execute_result"
    }
   ],
   "source": [
    "t = [[cam, len(sync.events[cam])] for cam in cameras]\n",
    "HTML(tabulate.tabulate(t, ['camera', 'flashes'], tablefmt='html'))"
   ]
  },
  {
   "cell_type": "markdown",
   "metadata": {},
   "source": [
    "## Single Stream Analysis"
   ]
  },
  {
   "cell_type": "code",
   "execution_count": null,
   "metadata": {
    "collapsed": false,
    "run_control": {
     "frozen": false,
     "read_only": false
    },
    "scrolled": true
   },
   "outputs": [],
   "source": [
    "# load features\n",
    "features = {cam: flashvideosynchronization.extract_features(\n",
    "    filenames[cam], \n",
    "    flashvideosynchronization.compute_luminance_median, \n",
    "    dtype=np.uint8) for cam in cameras}"
   ]
  },
  {
   "cell_type": "code",
   "execution_count": null,
   "metadata": {
    "collapsed": false,
    "run_control": {
     "frozen": false,
     "read_only": false
    }
   },
   "outputs": [],
   "source": [
    "# compute 2d diff, 1d max features and artefact locations\n",
    "f2d = np.diff(features[cam].astype(float), axis=1)\n",
    "f1d = np.max(f2d, axis=0)\n",
    "diff_thresh = 20\n",
    "events_idx = np.nonzero(f1d > diff_thresh)[0] + 1"
   ]
  },
  {
   "cell_type": "code",
   "execution_count": null,
   "metadata": {
    "collapsed": false,
    "run_control": {
     "frozen": false,
     "read_only": false
    },
    "scrolled": false
   },
   "outputs": [],
   "source": [
    "# plot max diff and peak detection (max (ax=0) diff (ax=1) median (ax=1) luminance)\n",
    "plot_range = (1400, 2000)\n",
    "\n",
    "fig = plt.figure()\n",
    "plt.plot(f1d)\n",
    "plt.plot(events_idx, len(events_idx) * [max(f1d[slice(*plot_range)]) * 1.1], 'ro', label='detected\\nevents')\n",
    "plt.hlines(diff_thresh, 0, len(f1d),\n",
    "           colors='r', linestyles='dotted', label='detection threshold')\n",
    "if not publish:\n",
    "    plt.title('Flash Artefact Feature Based on Line-wise Median of Luminance Channel')\n",
    "plt.xlabel('frame number')\n",
    "plt.ylabel('maximum of difference\\nin median line intensity')\n",
    "plt.ylim(ymax=plt.ylim()[1] * 1.3)\n",
    "plt.xlim(*plot_range)\n",
    "legend = plt.legend(loc='upper right', frameon=True)\n",
    "frame = legend.get_frame()\n",
    "frame.set_color('white')\n",
    "sns.despine(fig)\n",
    "if publish:\n",
    "    plt.tight_layout()\n",
    "    plt.savefig(os.path.join(paper_figures_dir, 'feature1d_with_detections_cam%d.pdf' % cam))"
   ]
  },
  {
   "cell_type": "markdown",
   "metadata": {},
   "source": [
    "## Single Event Analysis"
   ]
  },
  {
   "cell_type": "code",
   "execution_count": null,
   "metadata": {
    "collapsed": false,
    "run_control": {
     "frozen": false,
     "read_only": false
    }
   },
   "outputs": [],
   "source": [
    "# select event\n",
    "cam = 1\n",
    "frame = 1765\n",
    "# or select an event\n",
    "# event_n = 3\n",
    "# frame = sync.events[cam][event_n]['frame']\n",
    "\n",
    "diff2d = np.diff(features[cam].astype(float), axis=1)\n",
    "img = sources[cam].get_image(frame)"
   ]
  },
  {
   "cell_type": "code",
   "execution_count": null,
   "metadata": {
    "collapsed": false,
    "run_control": {
     "frozen": false,
     "read_only": false
    }
   },
   "outputs": [],
   "source": [
    "# plot flash image with corresponding profiles\n",
    "__, start, end = flashvideosynchronization.ramp_detection(diff2d[:, frame - 1])\n",
    "\n",
    "if publish:\n",
    "    fig = plt.figure()\n",
    "    fig.set_size_inches(fig_width_in * 2, fig_height_in * 2 * 0.8, forward=True)\n",
    "\n",
    "sync.plot_frame_with_profile(img, frame, features[cam], start, end)\n",
    "\n",
    "if publish:\n",
    "    filename='flash_with_profiles_c%d_f%d.pdf' % (cam, frame)\n",
    "    plt.savefig(os.path.join(paper_figures_dir, filename))"
   ]
  },
  {
   "cell_type": "code",
   "execution_count": null,
   "metadata": {
    "collapsed": false,
    "run_control": {
     "frozen": false,
     "read_only": false
    }
   },
   "outputs": [],
   "source": [
    "# batch save all events (generates lots of images, enable as you like)\n",
    "# sync.save_event_images(sources, features, out_events_dir)"
   ]
  },
  {
   "cell_type": "code",
   "execution_count": null,
   "metadata": {
    "collapsed": false,
    "run_control": {
     "frozen": false,
     "read_only": false
    }
   },
   "outputs": [],
   "source": [
    "# plot diff profile\n",
    "cam = 2\n",
    "event_n = 0\n",
    "frame = sync.events[cam][event_n]['frame']\n",
    "\n",
    "f2d = np.diff(features[cam].astype(float), axis=1)\n",
    "profile = f2d[:, frame - 1]\n",
    "\n",
    "fig = plt.figure()\n",
    "if not publish:    \n",
    "    plt.title('median line intensity difference')\n",
    "else:\n",
    "    fig.set_size_inches(fig_width_in, fig_height_in * 0.5)\n",
    "plt.plot(range(len(profile)), f2d[:, frame - 1])\n",
    "plt.locator_params(axis='y', nbins=5)\n",
    "plt.ylabel('pixel intensity')\n",
    "plt.xlabel('row in pixels')\n",
    "sns.despine(fig)\n",
    "plt.tight_layout(0)\n",
    "plt.autoscale(axis='x', tight=True)\n",
    "\n",
    "if publish:\n",
    "    filename = 'diff_profile_c%d_f%d.pdf' % (cam, frame)\n",
    "    plt.savefig(os.path.join(paper_figures_dir, filename))"
   ]
  },
  {
   "cell_type": "markdown",
   "metadata": {},
   "source": [
    "## Synchronization"
   ]
  },
  {
   "cell_type": "code",
   "execution_count": null,
   "metadata": {
    "collapsed": false,
    "run_control": {
     "frozen": false,
     "read_only": false
    }
   },
   "outputs": [],
   "source": [
    "# visualize not synchronized events\n",
    "sync.show_events()\n",
    "if publish:\n",
    "    plt.savefig(os.path.join(paper_figures_dir, 'events_not_synchronized_' + '_'.join([str(c) for c in cameras]) + '.pdf'))            "
   ]
  },
  {
   "cell_type": "code",
   "execution_count": null,
   "metadata": {
    "collapsed": true,
    "run_control": {
     "frozen": false,
     "read_only": false
    }
   },
   "outputs": [],
   "source": [
    "# manual event association (using the plot above)\n",
    "matching_events = {1: 0, 2: 1, 3: 2, 4: 3}"
   ]
  },
  {
   "cell_type": "code",
   "execution_count": null,
   "metadata": {
    "collapsed": false,
    "run_control": {
     "frozen": false,
     "read_only": false
    }
   },
   "outputs": [],
   "source": [
    "# show paired event frames side by side\n",
    "if publish:    \n",
    "    ydim = int(math.floor(math.sqrt(len(cameras))))\n",
    "    xdim = int(math.ceil(len(cameras) / ydim))\n",
    "    frame_str = ''\n",
    "    fig = plt.figure()\n",
    "\n",
    "for i, (cam, idx) in enumerate(matching_events.iteritems()):\n",
    "    frame = sync.events[cam][idx]['frame']\n",
    "    if publish:\n",
    "        plt.subplot(ydim, xdim, i + 1)\n",
    "        frame_str += '_' + str(frame)\n",
    "    else:\n",
    "        plt.figure()\n",
    "    plt.imshow(sources[cam].get_image(frame)) \n",
    "    plt.grid(False)\n",
    "    plt.axis('off')\n",
    "\n",
    "if publish:\n",
    "    fig.set_size_inches(fig_width_in, fig_height_in)\n",
    "    plt.tight_layout(0) # pad=1)\n",
    "    plt.savefig(os.path.join(paper_figures_dir, 'flashes%s.png' % frame_str))"
   ]
  },
  {
   "cell_type": "markdown",
   "metadata": {},
   "source": [
    "### Events Matching"
   ]
  },
  {
   "cell_type": "code",
   "execution_count": null,
   "metadata": {
    "collapsed": false,
    "run_control": {
     "frozen": false,
     "read_only": false
    },
    "scrolled": false
   },
   "outputs": [],
   "source": [
    "sync.show_events(offsets)\n",
    "if publish:\n",
    "    plt.savefig(os.path.join(paper_figures_dir, 'events_' + '_'.join([str(c) for c in cameras]) + '.pdf'))            "
   ]
  },
  {
   "cell_type": "code",
   "execution_count": null,
   "metadata": {
    "collapsed": false,
    "run_control": {
     "frozen": false,
     "read_only": false
    }
   },
   "outputs": [],
   "source": [
    "matched_events = sync.get_matched_events(cameras, offsets)"
   ]
  },
  {
   "cell_type": "markdown",
   "metadata": {},
   "source": [
    "### Model Fitting"
   ]
  },
  {
   "cell_type": "code",
   "execution_count": null,
   "metadata": {
    "collapsed": false,
    "run_control": {
     "frozen": false,
     "read_only": false
    }
   },
   "outputs": [],
   "source": [
    "images_dimensions"
   ]
  },
  {
   "cell_type": "code",
   "execution_count": null,
   "metadata": {
    "collapsed": false,
    "run_control": {
     "frozen": false,
     "read_only": false
    }
   },
   "outputs": [],
   "source": [
    "# numbers of matched events\n",
    "{(cam1, cam2): len(sync.get_matched_events([cam1, cam2], offsets)[cam1])\n",
    " for cam1, cam2 in itertools.combinations(cameras, 2)}"
   ]
  },
  {
   "cell_type": "code",
   "execution_count": null,
   "metadata": {
    "code_folding": [
     0
    ],
    "collapsed": true,
    "run_control": {
     "frozen": false,
     "read_only": false
    }
   },
   "outputs": [],
   "source": [
    "# results table formatting\n",
    "def format_table(table, formats):\n",
    "    table_out = []\n",
    "    for row in table:\n",
    "        out_row =[]\n",
    "        for item, fmt in zip(row, formats):\n",
    "            if fmt is None:\n",
    "                out_row.append(item)\n",
    "            elif isinstance(fmt, str):\n",
    "                out_row.append(fmt % item)\n",
    "            else:\n",
    "                out_row.append(fmt(item))\n",
    "        table_out.append(out_row)\n",
    "    return table_out\n",
    "\n",
    "r2 = lambda x: round(x, 2)\n",
    "r4 = lambda x: round(x, 4)"
   ]
  },
  {
   "cell_type": "code",
   "execution_count": null,
   "metadata": {
    "collapsed": false,
    "run_control": {
     "frozen": false,
     "read_only": false
    }
   },
   "outputs": [],
   "source": [
    "# example matched events for pair of cameras\n",
    "camera_pair = [1, 2]\n",
    "matched_events_ = sync.get_matched_events(camera_pair, offsets)\n",
    "e = matched_events_[camera_pair[0]]\n",
    "print(tabulate.tabulate(e, headers=e.dtype.names))\n",
    "print('\\n')\n",
    "e = matched_events_[camera_pair[1]]\n",
    "print(tabulate.tabulate(e, headers=e.dtype.names))"
   ]
  },
  {
   "cell_type": "markdown",
   "metadata": {},
   "source": [
    "#### Fit clock drift and temporal shift for camera pairs with predefined constants"
   ]
  },
  {
   "cell_type": "code",
   "execution_count": null,
   "metadata": {
    "collapsed": false,
    "run_control": {
     "frozen": false,
     "read_only": false
    }
   },
   "outputs": [],
   "source": [
    "parameters = {1: {'sensor_rows': 2625, 'mode_duration_ms': 40},\n",
    "              2: {'sensor_rows': 2625, 'mode_duration_ms': 40},\n",
    "              3: {'sensor_rows': 978,  'mode_duration_ms': 40},\n",
    "              4: {'sensor_rows': 978,  'mode_duration_ms': 40},\n",
    "              }\n",
    "\n",
    "t = []\n",
    "for cam1, cam2 in itertools.combinations(cameras, 2):\n",
    "    events_ij = sync.get_matched_events([cam1, cam2], offsets)\n",
    "\n",
    "    sync.synchronize_with_parameters(cam1, cam2, offsets, parameters=parameters)\n",
    "    times1 = sync.get_time(cam1, events_ij[cam1]['time'], events_ij[cam1]['start'])\n",
    "    times2 = sync.get_time(cam2, events_ij[cam2]['time'], events_ij[cam2]['start'])\n",
    "\n",
    "    n = len(events_ij[cam1])\n",
    "    t.append(['%d %d' % (cam1, cam2),\n",
    "              n,\n",
    "              1 - sync.model[cam2]['drift'],\n",
    "              sync.model[cam2]['shift'],\n",
    "              (times1 - times2).std(),\n",
    "              ])\n",
    "headers = ['camera', 'events', '1 - drift', 'shift (in ms)', 'std (in ms)']\n",
    "HTML(tabulate.tabulate(t, headers=headers, tablefmt='html'))"
   ]
  },
  {
   "cell_type": "markdown",
   "metadata": {},
   "source": [
    "#### Fit clock drift, temporal shift and time per row for camera pairs"
   ]
  },
  {
   "cell_type": "code",
   "execution_count": null,
   "metadata": {
    "collapsed": false,
    "run_control": {
     "frozen": false,
     "read_only": false
    }
   },
   "outputs": [],
   "source": [
    "t = []\n",
    "for cam1, cam2 in itertools.combinations(cameras, 2):\n",
    "    events_ij = sync.get_matched_events([cam1, cam2], offsets)\n",
    "\n",
    "    sync.synchronize([cam1, cam2], offsets)\n",
    "    times1 = sync.get_time(cam1, events_ij[cam1]['time'], events_ij[cam1]['start'])\n",
    "    times2 = sync.get_time(cam2, events_ij[cam2]['time'], events_ij[cam2]['start'])\n",
    "\n",
    "    n = len(events_ij[cam1])\n",
    "    t.append(['%d %d' % (cam1, cam2),\n",
    "              n,\n",
    "              1 - sync.model[cam2]['drift'],\n",
    "              (sync.model[cam2]['drift'] - 1) * (1 / sync.model[cam2]['time_per_row']) * 1000,\n",
    "              sync.model[cam2]['shift'],\n",
    "              sync.model[cam1]['time_per_row'],\n",
    "              sync.model[cam2]['time_per_row'],\n",
    "              (times1 - times2).std(),\n",
    "              ])\n",
    "headers = ['camera', 'events', '1 - drift', 'drift (in lines/s)',\n",
    "           'shift (in ms)',            \n",
    "           't/row cam1', 't/row cam2', \n",
    "           'std (in ms)']\n",
    "HTML(tabulate.tabulate(t, headers=headers, tablefmt='html'))"
   ]
  },
  {
   "cell_type": "code",
   "execution_count": null,
   "metadata": {
    "collapsed": false,
    "run_control": {
     "frozen": false,
     "read_only": false
    }
   },
   "outputs": [],
   "source": [
    "# format the results table for publication\n",
    "formats = [None, None, lambda x: str(round((x) * 10 ** 6, 2)) + ' e6', \n",
    "           r2, r2, r4, r4, r2]\n",
    "HTML(tabulate.tabulate(format_table(t, formats), headers, tablefmt='html'))"
   ]
  },
  {
   "cell_type": "code",
   "execution_count": null,
   "metadata": {
    "collapsed": false,
    "run_control": {
     "frozen": false,
     "read_only": false
    }
   },
   "outputs": [],
   "source": [
    "# output the latex version of the results table\n",
    "tabulate.LATEX_ESCAPE_RULES = {}\n",
    "\n",
    "formats = [None, None, lambda x: str(round((x) * 10 ** 6, 2)) + r' $\\times10^{-6}$', \n",
    "           r2, r2, r4, r4, r2]\n",
    "table_formatted = format_table(t, formats)\n",
    "\n",
    "# remove 2nd column\n",
    "table_formatted_ = []\n",
    "for row in table_formatted:\n",
    "    del row[1]\n",
    "    table_formatted_.append(row)\n",
    "    \n",
    "Latex(tabulate.tabulate(table_formatted_, tablefmt='latex_booktabs')) # tabular not yet supported by the MathJax backend"
   ]
  },
  {
   "cell_type": "code",
   "execution_count": null,
   "metadata": {
    "collapsed": false,
    "run_control": {
     "frozen": false,
     "read_only": false
    },
    "scrolled": true
   },
   "outputs": [],
   "source": [
    "for cam1, cam2 in itertools.combinations(cameras, 2):\n",
    "    events_ij = sync.get_matched_events([cam1, cam2], offsets)\n",
    "    sync.synchronize([cam1, cam2], offsets)\n",
    "    times1 = sync.get_time(cam1, events_ij[cam1]['time'], events_ij[cam1]['start'])\n",
    "    times2 = sync.get_time(cam2, events_ij[cam2]['time'], events_ij[cam2]['start'])\n",
    "\n",
    "    fig = plt.figure()\n",
    "    plt.title('Camera %d %d' % (cam1, cam2))\n",
    "    plt.plot(times1, \n",
    "             events_ij[cam2]['time'] + sync.model[cam2]['shift']\n",
    "             - events_ij[cam1]['time'], \n",
    "             label='frame begining time')\n",
    "    plt.plot(times1, (events_ij[cam2]['time'] + sync.model[cam2]['shift']\n",
    "                       + sync.model[cam2]['time_per_row'] * events_ij[cam2]['start']) \n",
    "                       - times1,\n",
    "             label='subframe time with fixed clock')\n",
    "    plt.plot(times1, times2 - times1, \n",
    "             label='subframe time with clock drift')\n",
    "    plt.grid(True)\n",
    "    plt.ylabel('time difference in miliseconds')\n",
    "    plt.xlabel('time in miliseconds')\n",
    "    plt.legend()"
   ]
  },
  {
   "cell_type": "markdown",
   "metadata": {},
   "source": [
    "#### Fit clock drift, temporal shift and time per row for all cameras"
   ]
  },
  {
   "cell_type": "code",
   "execution_count": null,
   "metadata": {
    "collapsed": false,
    "run_control": {
     "frozen": false,
     "read_only": false
    }
   },
   "outputs": [],
   "source": [
    "reference_cam = 1\n",
    "sync.synchronize(cameras, offsets, reference_cam)\n",
    "t = []\n",
    "for cam in set(cameras) - {reference_cam}:\n",
    "    events_ij = sync.get_matched_events([reference_cam, cam], offsets)\n",
    "    times1 = sync.get_time(reference_cam, events_ij[reference_cam]['time'], events_ij[reference_cam]['start'])\n",
    "    times2 = sync.get_time(cam, events_ij[cam]['time'], events_ij[cam]['start'])\n",
    "    n = len(events_ij[cam])\n",
    "    t.append(['%d %d' % (reference_cam, cam),\n",
    "              n,\n",
    "              1 - sync.model[cam]['drift'],\n",
    "              (sync.model[cam]['drift'] - 1) * (1 / sync.model[cam]['time_per_row']) * 1000,\n",
    "              sync.model[cam]['shift'],\n",
    "              sync.model[cam]['time_per_row'],\n",
    "              (times1 - times2).std(),\n",
    "              ])\n",
    "headers = ['camera', 'events', '1 - drift', 'drift (in lines/s)',\n",
    "           'shift (in ms)', 't/row cam2', 'std (in ms)']\n",
    "\n",
    "print('Reference camera time per row: %f' % r4(sync.model[reference_cam]['time_per_row']))\n",
    "\n",
    "HTML(tabulate.tabulate(t, headers=headers, tablefmt='html'))"
   ]
  },
  {
   "cell_type": "code",
   "execution_count": null,
   "metadata": {
    "collapsed": false,
    "run_control": {
     "frozen": false,
     "read_only": false
    }
   },
   "outputs": [],
   "source": [
    "# format numbers in the results table\n",
    "formats = [None, None, lambda x: str(round((x) * 10 ** 6, 2)) + ' e6', \n",
    "           r2, r2, r4, r2]\n",
    "HTML(tabulate.tabulate(format_table(t, formats), headers=headers, tablefmt='html'))"
   ]
  },
  {
   "cell_type": "code",
   "execution_count": null,
   "metadata": {
    "collapsed": false,
    "run_control": {
     "frozen": false,
     "read_only": false
    }
   },
   "outputs": [],
   "source": [
    "# output the latex version of the results table\n",
    "tabulate.LATEX_ESCAPE_RULES = {}\n",
    "\n",
    "formats = [None, None, lambda x: str(round((x) * 10 ** 6, 2)) + r' $\\times10^{-6}$', \n",
    "           r2, r2, r4, r2]\n",
    "table_formatted = format_table(t, formats)\n",
    "\n",
    "# remove 2nd column\n",
    "table_formatted_ = []\n",
    "for row in table_formatted:\n",
    "    del row[1]\n",
    "    table_formatted_.append(row)\n",
    "    \n",
    "Latex(tabulate.tabulate(table_formatted_, tablefmt='latex_booktabs')) # tabular not yet supported by the MathJax backend"
   ]
  },
  {
   "cell_type": "markdown",
   "metadata": {},
   "source": [
    "#### Frame Synchronization"
   ]
  },
  {
   "cell_type": "code",
   "execution_count": null,
   "metadata": {
    "collapsed": false,
    "run_control": {
     "frozen": false,
     "read_only": false
    }
   },
   "outputs": [],
   "source": [
    "reference_cam = 1\n",
    "sync.synchronize(cameras, offsets, reference_cam)\n",
    "timestamps = {cam: sources[cam].timestamps_ms for cam in cameras}"
   ]
  },
  {
   "cell_type": "code",
   "execution_count": null,
   "metadata": {
    "collapsed": false,
    "run_control": {
     "frozen": false,
     "read_only": false
    }
   },
   "outputs": [],
   "source": [
    "sync_timing, sync_frames, _ = sync.get_synchronized_frames(timestamps, master=1, perfect_master=False, dropped=True)"
   ]
  },
  {
   "cell_type": "code",
   "execution_count": null,
   "metadata": {
    "collapsed": true,
    "run_control": {
     "frozen": false,
     "read_only": false
    }
   },
   "outputs": [],
   "source": [
    "# np.savetxt('sync_frames.csv', sync_frames, delimiter=',')  # inspect the synchronized timing in a spreadsheet"
   ]
  },
  {
   "cell_type": "code",
   "execution_count": null,
   "metadata": {
    "collapsed": false,
    "run_control": {
     "frozen": false,
     "read_only": false
    }
   },
   "outputs": [],
   "source": [
    "sync_timing"
   ]
  },
  {
   "cell_type": "code",
   "execution_count": null,
   "metadata": {
    "collapsed": false,
    "run_control": {
     "frozen": false,
     "read_only": false
    }
   },
   "outputs": [],
   "source": [
    "sync_frames"
   ]
  },
  {
   "cell_type": "code",
   "execution_count": null,
   "metadata": {
    "collapsed": false,
    "run_control": {
     "frozen": false,
     "read_only": false
    }
   },
   "outputs": [],
   "source": [
    "# convert -1 to nan for statistic evaluation\n",
    "sync_timing_nan = sync_timing.copy()\n",
    "sync_timing_nan[sync_timing_nan == -1] = np.nan\n",
    "\n",
    "sync_timing_errors = sync_timing_nan - sync_timing_nan[:, 0].reshape(-1, 1)\n",
    "print('Mean absolute synchronization error: ' + str(np.nanmean(np.abs(sync_timing_errors), axis=0)))"
   ]
  },
  {
   "cell_type": "code",
   "execution_count": null,
   "metadata": {
    "collapsed": false,
    "run_control": {
     "frozen": false,
     "read_only": false
    }
   },
   "outputs": [],
   "source": [
    "print('Number of frames where no camera has a dropped frame: %d out of total %d frames.' % \n",
    "      (np.count_nonzero(np.all(sync_frames != -1, axis=1)), len(sync_frames)))"
   ]
  },
  {
   "cell_type": "code",
   "execution_count": null,
   "metadata": {
    "collapsed": false,
    "run_control": {
     "frozen": false,
     "read_only": false
    }
   },
   "outputs": [],
   "source": [
    "# frame = 4000\n",
    "\n",
    "sources_sync = sync.get_synchronized_image_sources(sources, dropped=False) # , perfect_master=False)\n",
    "\n",
    "if publish:\n",
    "    ydim = int(math.floor(math.sqrt(len(cameras))))\n",
    "    xdim = int(math.ceil(len(cameras) / ydim))\n",
    "    frame_str = ''\n",
    "    fig = plt.figure()\n",
    "\n",
    "for i, (cam, source) in enumerate(sources_sync.iteritems()):\n",
    "    if publish:\n",
    "        plt.subplot(ydim, xdim, i + 1)\n",
    "        plt.title('err: %02.f ms' % source.get_synchronization_error(frame))\n",
    "    else:\n",
    "        plt.figure()\n",
    "    img = source.get_image(frame)\n",
    "    if img is not None:\n",
    "        plt.imshow(img)\n",
    "    plt.grid(False)\n",
    "    plt.axis('off')"
   ]
  },
  {
   "cell_type": "markdown",
   "metadata": {},
   "source": [
    "### Puck Shot Sub-frame Interpolation"
   ]
  },
  {
   "cell_type": "code",
   "execution_count": null,
   "metadata": {
    "collapsed": false,
    "run_control": {
     "frozen": false,
     "read_only": false
    }
   },
   "outputs": [],
   "source": [
    "# setup triplet of images\n",
    "\n",
    "# selected_cams = [3, 1, 1]\n",
    "# selected_frames = [11258, -1, -1]\n",
    "# coords = np.array([[355, 325],\n",
    "#                   [-1, -1],\n",
    "#                   [-1, -1]], dtype=float)\n",
    "\n",
    "# # 1\n",
    "# selected_cams = [3, 1, 1]\n",
    "# selected_frames = [3919, -1, -1]\n",
    "# alpha, beta = table[1, 1:3]\n",
    "\n",
    "# # 2\n",
    "# selected_cams = [3, 1, 1]\n",
    "# selected_frames = [6622, -1, -1]\n",
    "# alpha, beta = table[1, 1:3]\n",
    "\n",
    "# 3\n",
    "selected_cams = [3, 1, 1]\n",
    "selected_frames = [3903, -1, -1]"
   ]
  },
  {
   "cell_type": "code",
   "execution_count": null,
   "metadata": {
    "collapsed": true,
    "run_control": {
     "frozen": false,
     "read_only": false
    }
   },
   "outputs": [],
   "source": [
    "# synchronize with respect to selected_cams[0]\n",
    "timestamps = {cam: sources[cam].timestamps_ms for cam in cameras}\n",
    "sync_timing, sync_frames, _ = sync.get_synchronized_frames(timestamps, \n",
    "                                                           master=selected_cams[0], \n",
    "                                                           perfect_master=False, dropped=True)\n",
    "sources_sync = sync.get_synchronized_image_sources(sources, master=selected_cams[0],\n",
    "                                                   perfect_master=False, dropped=True)"
   ]
  },
  {
   "cell_type": "code",
   "execution_count": null,
   "metadata": {
    "collapsed": false,
    "run_control": {
     "frozen": false,
     "read_only": false
    }
   },
   "outputs": [],
   "source": [
    "# find synchronized images \n",
    "idx = np.nonzero(sync_frames[:, cameras.index(selected_cams[0])] == selected_frames[0])[0][0]\n",
    "\n",
    "\n",
    "selected_frames[1] = sync_frames[idx, cameras.index(selected_cams[1])]\n",
    "selected_frames[2] = sync_frames[idx, cameras.index(selected_cams[2])] + 1\n",
    "selected_frames"
   ]
  },
  {
   "cell_type": "code",
   "execution_count": null,
   "metadata": {
    "collapsed": false,
    "run_control": {
     "frozen": false,
     "read_only": false
    }
   },
   "outputs": [],
   "source": [
    "# show images with the puck (in %matplotlib qt4 or gtk modes suitable for writing down the puck coordinates)\n",
    "for cam, frame in zip(selected_cams, selected_frames):\n",
    "    plt.figure()\n",
    "    plt.imshow(sources[cam].get_image(frame))\n",
    "    plt.axis('off')"
   ]
  },
  {
   "cell_type": "code",
   "execution_count": null,
   "metadata": {
    "collapsed": true,
    "run_control": {
     "frozen": false,
     "read_only": false
    }
   },
   "outputs": [],
   "source": [
    "# # puck centroid coodinates in three images\n",
    "#\n",
    "# 1\n",
    "# coords = np.array([[573, 219],\n",
    "#                   [-1, -1],\n",
    "#                   [-1, -1]], dtype=float)\n",
    "\n",
    "# # 2\n",
    "# coords = np.array([[245, 362],\n",
    "#                    [1246, 1577],\n",
    "#                   [1254, 1530]], dtype=float)\n",
    "\n",
    "# 3\n",
    "coords = np.array([[1017, 460],\n",
    "                  [2147, 619],\n",
    "                  [2062, 644]], dtype=float)"
   ]
  },
  {
   "cell_type": "code",
   "execution_count": null,
   "metadata": {
    "collapsed": false,
    "run_control": {
     "frozen": false,
     "read_only": false
    }
   },
   "outputs": [],
   "source": [
    "for cam, frame, coord in zip(selected_cams, selected_frames, coords):\n",
    "    fig = plt.figure()\n",
    "    plt.imshow(sources[cam].get_image(frame))\n",
    "    plt.plot(coord[0], coord[1], 'o', \n",
    "             markersize=7, markeredgewidth=1, markeredgecolor='r', markerfacecolor='None')\n",
    "    plt.axis('off')\n",
    "    \n",
    "    # fig.set_size_inches(24, 12)\n",
    "    # plt.tight_layout(pad=0)\n",
    "    # plt.savefig('out/puck_subframe_c%d_%d.png' % (cam, frame))    "
   ]
  },
  {
   "cell_type": "code",
   "execution_count": null,
   "metadata": {
    "collapsed": false,
    "run_control": {
     "frozen": false,
     "read_only": false
    }
   },
   "outputs": [],
   "source": [
    "# compute the sub-frame puck time for all three images\n",
    "puck_time = []\n",
    "for cam, frame, coord in zip(selected_cams, selected_frames, coords):\n",
    "    puck_time.append(sync.get_time(cam, timestamps[cam][frame], coord[1]))\n",
    "puck_time    "
   ]
  },
  {
   "cell_type": "code",
   "execution_count": null,
   "metadata": {
    "collapsed": true,
    "run_control": {
     "frozen": false,
     "read_only": false
    }
   },
   "outputs": [],
   "source": [
    "assert False"
   ]
  },
  {
   "cell_type": "code",
   "execution_count": null,
   "metadata": {
    "collapsed": true,
    "run_control": {
     "frozen": false,
     "read_only": false
    }
   },
   "outputs": [],
   "source": [
    "#TODO: transform the images to a common frame\n",
    "#\n",
    "# for the purpose of paper was done semi-manually with dependency on not released code"
   ]
  },
  {
   "cell_type": "code",
   "execution_count": null,
   "metadata": {
    "collapsed": true,
    "run_control": {
     "frozen": false,
     "read_only": false
    }
   },
   "outputs": [],
   "source": [
    "# plane_images = ..."
   ]
  },
  {
   "cell_type": "code",
   "execution_count": null,
   "metadata": {
    "collapsed": true,
    "run_control": {
     "frozen": false,
     "read_only": false
    }
   },
   "outputs": [],
   "source": [
    "img_merge = np.zeros_like(plane_images[0])\n",
    "img_merge[:, :, 0] = cv2.cvtColor(plane_images[0].astype(np.uint8), cv2.COLOR_RGB2GRAY)\n",
    "img_merge[:, :, 1] = cv2.cvtColor(plane_images[1].astype(np.uint8), cv2.COLOR_RGB2GRAY)\n",
    "img_merge[:, :, 2] = cv2.cvtColor(plane_images[2].astype(np.uint8), cv2.COLOR_RGB2GRAY)"
   ]
  },
  {
   "cell_type": "code",
   "execution_count": null,
   "metadata": {
    "collapsed": false,
    "run_control": {
     "frozen": false,
     "read_only": false
    }
   },
   "outputs": [],
   "source": [
    "plt.imshow(img_merge)"
   ]
  },
  {
   "cell_type": "code",
   "execution_count": null,
   "metadata": {
    "collapsed": true,
    "run_control": {
     "frozen": false,
     "read_only": false
    }
   },
   "outputs": [],
   "source": [
    "plt.imsave('out/puck_merge_c%d_%d.png' % (selected_cams[0], selected_frames[0]), img_merge)\n",
    "# fix homography in out/puck_merge_xx.png, save it as out/puck_merge_xx_fixed.png\n",
    "# gimp: crop; colors - components - decompose; projective transform of r layer (tool setting: layer opacity);\n",
    "#       layer - layer to image size; colors - components - compose"
   ]
  },
  {
   "cell_type": "code",
   "execution_count": null,
   "metadata": {
    "collapsed": false,
    "run_control": {
     "frozen": false,
     "read_only": false
    }
   },
   "outputs": [],
   "source": [
    "img_merge_fixed = plt.imread('out/puck_merge_c%d_%d_fixed.png' % (selected_cams[0], selected_frames[0]))\n",
    "plt.imshow(img_merge_fixed)\n",
    "# save coordinates"
   ]
  },
  {
   "cell_type": "code",
   "execution_count": null,
   "metadata": {
    "collapsed": true,
    "run_control": {
     "frozen": false,
     "read_only": false
    }
   },
   "outputs": [],
   "source": [
    "# # 2\n",
    "# coords_rectified = np.array([\n",
    "#         [171.6, 63.6],\n",
    "#         [170.6, 62.3],\n",
    "#         [158, 66.3]\n",
    "#     ])\n",
    "\n",
    "# 3\n",
    "coords_rectified = np.array([\n",
    "        [113, 31],\n",
    "        [107, 25],\n",
    "        [119, 42]\n",
    "    ])"
   ]
  },
  {
   "cell_type": "code",
   "execution_count": null,
   "metadata": {
    "collapsed": false,
    "run_control": {
     "frozen": false,
     "read_only": false
    }
   },
   "outputs": [],
   "source": [
    "plt.imshow(img_merge_fixed)\n",
    "plt.scatter(coords_rectified[:, 0], coords_rectified[:, 1], c=['r', 'g', 'b'])"
   ]
  },
  {
   "cell_type": "code",
   "execution_count": null,
   "metadata": {
    "collapsed": false,
    "run_control": {
     "frozen": false,
     "read_only": false
    }
   },
   "outputs": [],
   "source": [
    "# draw the interpolated position\n",
    "\n",
    "coords01 = coords_rectified[1:]\n",
    "# length = np.linalg.norm(coords01[0] - coords01[1])\n",
    "ratio = (puck_timings[0] - puck_timings[1]) / (puck_timings[2] - puck_timings[1])\n",
    "coord_rectified_interp = coords01[1] + (coords01[0] - coords01[1]) * ratio\n",
    "\n",
    "fig = plt.figure()\n",
    "plt.imshow(img_merge_fixed)\n",
    "for xy, c, l in zip(coords_rectified, ['r', 'g', 'b'], \n",
    "                    ['camera %d, time %d' % (cam, timing) for cam, timing in zip(selected_cams, puck_timings)]):\n",
    "    # plt.plot(xy[0], xy[1], '+', color=c, label=l)\n",
    "    print c\n",
    "    print l\n",
    "    # plt.annotate(l, (xy[0], xy[1]), (10, 0), textcoords='offset points', color=c)  \n",
    "    \n",
    "plt.plot(coord_rectified_interp[0], coord_rectified_interp[1],\n",
    "         'wo', label='iterpolated cam %d'  % selected_cams[1])\n",
    "l = 'camera %d interpolated\\nposition for time %d'  % (selected_cams[1], puck_timings[0])\n",
    "# plt.annotate(,\n",
    "#              (coord_rectified_interp[0], coord_rectified_interp[1]), (-130, 0), textcoords='offset points', color='w')\n",
    "print l\n",
    "plt.axis('off')\n",
    "legend = plt.legend(frameon=True)\n",
    "frame = legend.get_frame()\n",
    "frame.set_color('white')\n",
    "fig.set_size_inches(24, 12)\n",
    "plt.tight_layout(pad=0)\n",
    "plt.savefig('out/puck_subframe_c%d_%d.png' % (selected_cams[0], selected_frames[0]))\n",
    "plt.close('all')"
   ]
  }
 ],
 "metadata": {
  "hide_input": false,
  "kernelspec": {
   "display_name": "Python 2",
   "language": "python",
   "name": "python2"
  },
  "language_info": {
   "codemirror_mode": {
    "name": "ipython",
    "version": 2
   },
   "file_extension": ".py",
   "mimetype": "text/x-python",
   "name": "python",
   "nbconvert_exporter": "python",
   "pygments_lexer": "ipython2",
   "version": "2.7.12"
  },
  "nav_menu": {
   "height": "123px",
   "width": "228px"
  },
  "toc": {
   "navigate_menu": true,
   "number_sections": true,
   "sideBar": true,
   "threshold": 6,
   "toc_cell": false,
   "toc_section_display": "none",
   "toc_window_display": true
  },
  "toc_position": {
   "height": "993px",
   "left": "0px",
   "right": "756px",
   "top": "107px",
   "width": "204px"
  }
 },
 "nbformat": 4,
 "nbformat_minor": 0
}
